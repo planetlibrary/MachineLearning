{
 "cells": [
  {
   "cell_type": "markdown",
   "metadata": {
    "id": "ufmIYY95w9MH"
   },
   "source": [
    "# Description:\n",
    "In this current workplace, we collected a transactional details of video games with total number of records 12526 with 12 unique games from a web store. We aim to build an association rule from this transaction summary.\n",
    "The dataset is collected from [here](https://www.kaggle.com/datasets/felipeguimares/games-sales-dataset-for-frequent-patterns)."
   ]
  },
  {
   "cell_type": "markdown",
   "metadata": {
    "id": "T3tXKwaWJDAk"
   },
   "source": [
    "# Important libraries and dataset"
   ]
  },
  {
   "cell_type": "code",
   "execution_count": 1,
   "metadata": {
    "id": "SQyNsEtLxc7O"
   },
   "outputs": [],
   "source": [
    "# !pip install mlxtend"
   ]
  },
  {
   "cell_type": "code",
   "execution_count": 2,
   "metadata": {
    "_cell_guid": "b1076dfc-b9ad-4769-8c92-a6c4dae69d19",
    "_kg_hide-input": true,
    "_kg_hide-output": true,
    "_uuid": "8f2839f25d086af736a60e9eeb907d3b93b6e0e5",
    "id": "ad-KGaSyJDAl"
   },
   "outputs": [],
   "source": [
    "import numpy as np \n",
    "import pandas as pd \n",
    "import seaborn as sns\n",
    "import matplotlib.pyplot as plt\n",
    "import datetime as dt\n",
    "from mlxtend.preprocessing import TransactionEncoder\n",
    "from mlxtend.frequent_patterns import apriori, association_rules\n",
    "import itertools\n",
    "import warnings\n",
    "warnings.filterwarnings(\"ignore\")\n",
    "warnings.simplefilter(action='ignore', category=FutureWarning)\n",
    "\n",
    "pd.set_option('display.max_columns', None)\n",
    "pd.options.display.float_format = '{:.2f}'.format"
   ]
  },
  {
   "cell_type": "code",
   "execution_count": 3,
   "metadata": {
    "_cell_guid": "79c7e3d0-c299-4dcb-8224-4455121ee9b0",
    "_kg_hide-input": true,
    "_uuid": "d629ff2d2480ee46fbb7e2d37f6b5fab8052498a",
    "colab": {
     "base_uri": "https://localhost:8080/",
     "height": 337
    },
    "id": "d5MsmX0_JDAn",
    "outputId": "3a20f2f3-a0fc-4c54-d71a-fea791d4f150"
   },
   "outputs": [
    {
     "data": {
      "text/html": [
       "<div>\n",
       "<style scoped>\n",
       "    .dataframe tbody tr th:only-of-type {\n",
       "        vertical-align: middle;\n",
       "    }\n",
       "\n",
       "    .dataframe tbody tr th {\n",
       "        vertical-align: top;\n",
       "    }\n",
       "\n",
       "    .dataframe thead th {\n",
       "        text-align: right;\n",
       "    }\n",
       "</style>\n",
       "<table border=\"1\" class=\"dataframe\">\n",
       "  <thead>\n",
       "    <tr style=\"text-align: right;\">\n",
       "      <th></th>\n",
       "      <th></th>\n",
       "      <th></th>\n",
       "      <th></th>\n",
       "      <th></th>\n",
       "      <th></th>\n",
       "      <th></th>\n",
       "      <th></th>\n",
       "      <th></th>\n",
       "      <th></th>\n",
       "      <th></th>\n",
       "      <th>products</th>\n",
       "    </tr>\n",
       "  </thead>\n",
       "  <tbody>\n",
       "    <tr>\n",
       "      <th>God of War</th>\n",
       "      <th>The Last of Us</th>\n",
       "      <th>Read Dead Redemption</th>\n",
       "      <th>Minecraft</th>\n",
       "      <th>Grand Theft Auto V</th>\n",
       "      <th>Left 4 Dead</th>\n",
       "      <th>NaN</th>\n",
       "      <th>NaN</th>\n",
       "      <th>NaN</th>\n",
       "      <th>NaN</th>\n",
       "      <th>NaN</th>\n",
       "      <td>NaN</td>\n",
       "    </tr>\n",
       "    <tr>\n",
       "      <th>Grand Theft Auto V</th>\n",
       "      <th>The Last of Us</th>\n",
       "      <th>NaN</th>\n",
       "      <th>NaN</th>\n",
       "      <th>NaN</th>\n",
       "      <th>NaN</th>\n",
       "      <th>NaN</th>\n",
       "      <th>NaN</th>\n",
       "      <th>NaN</th>\n",
       "      <th>NaN</th>\n",
       "      <th>NaN</th>\n",
       "      <td>NaN</td>\n",
       "    </tr>\n",
       "    <tr>\n",
       "      <th>God of War</th>\n",
       "      <th>Assassin's Creed 2</th>\n",
       "      <th>Read Dead Redemption</th>\n",
       "      <th>Left 4 Dead</th>\n",
       "      <th>NaN</th>\n",
       "      <th>NaN</th>\n",
       "      <th>NaN</th>\n",
       "      <th>NaN</th>\n",
       "      <th>NaN</th>\n",
       "      <th>NaN</th>\n",
       "      <th>NaN</th>\n",
       "      <td>NaN</td>\n",
       "    </tr>\n",
       "    <tr>\n",
       "      <th rowspan=\"2\" valign=\"top\">Left 4 Dead</th>\n",
       "      <th>Assassin's Creed 2</th>\n",
       "      <th>Super Mario World</th>\n",
       "      <th>The Last of Us</th>\n",
       "      <th>Read Dead Redemption</th>\n",
       "      <th>The Elder Scrolls V: Skyrim</th>\n",
       "      <th>NaN</th>\n",
       "      <th>NaN</th>\n",
       "      <th>NaN</th>\n",
       "      <th>NaN</th>\n",
       "      <th>NaN</th>\n",
       "      <td>NaN</td>\n",
       "    </tr>\n",
       "    <tr>\n",
       "      <th>Minecraft</th>\n",
       "      <th>The Last of Us</th>\n",
       "      <th>Dark Souls</th>\n",
       "      <th>Read Dead Redemption</th>\n",
       "      <th>Resident Evil 4</th>\n",
       "      <th>NaN</th>\n",
       "      <th>NaN</th>\n",
       "      <th>NaN</th>\n",
       "      <th>NaN</th>\n",
       "      <th>NaN</th>\n",
       "      <td>NaN</td>\n",
       "    </tr>\n",
       "  </tbody>\n",
       "</table>\n",
       "</div>"
      ],
      "text/plain": [
       "                                                                                                                                               products\n",
       "God of War         The Last of Us     Read Dead Redemption Minecraft      Grand Theft Auto V   Left 4 Dead                 NaN NaN NaN NaN NaN      NaN\n",
       "Grand Theft Auto V The Last of Us     NaN                  NaN            NaN                  NaN                         NaN NaN NaN NaN NaN      NaN\n",
       "God of War         Assassin's Creed 2 Read Dead Redemption Left 4 Dead    NaN                  NaN                         NaN NaN NaN NaN NaN      NaN\n",
       "Left 4 Dead        Assassin's Creed 2 Super Mario World    The Last of Us Read Dead Redemption The Elder Scrolls V: Skyrim NaN NaN NaN NaN NaN      NaN\n",
       "                   Minecraft          The Last of Us       Dark Souls     Read Dead Redemption Resident Evil 4             NaN NaN NaN NaN NaN      NaN"
      ]
     },
     "execution_count": 3,
     "metadata": {},
     "output_type": "execute_result"
    }
   ],
   "source": [
    "df = pd.read_csv('games_sales_dataset.csv',names=['products'],header=None)\n",
    "df.head()"
   ]
  },
  {
   "cell_type": "markdown",
   "metadata": {
    "id": "-ihck6pUxs3j"
   },
   "source": [
    "**Formatting the dataset into readable format**"
   ]
  },
  {
   "cell_type": "code",
   "execution_count": 4,
   "metadata": {
    "id": "w9uD5XVBrUcU"
   },
   "outputs": [],
   "source": [
    "def text_formatter(file):\n",
    "  with open(file, 'r') as file:\n",
    "      lines = file.readlines()\n",
    "  conv_text =  []\n",
    "  for texts in lines:\n",
    "      elements = texts.split(',')\n",
    "      elements= [elem.strip() for elem in elements if elem.strip()]\n",
    "      conv_text.append('\"'+','.join(elements)+'\"' +'\\n')\n",
    "\n",
    "  with open('games_sales.csv','w') as file:\n",
    "      for texts in conv_text:\n",
    "          file.write(texts)"
   ]
  },
  {
   "cell_type": "code",
   "execution_count": 5,
   "metadata": {
    "id": "C8yFIZjkNS-w"
   },
   "outputs": [],
   "source": [
    "path = 'games_sales_dataset.csv'\n",
    "text_formatter(path)"
   ]
  },
  {
   "cell_type": "code",
   "execution_count": 6,
   "metadata": {
    "colab": {
     "base_uri": "https://localhost:8080/",
     "height": 206
    },
    "id": "k_LiX2UvsaQh",
    "outputId": "8d3811db-d076-4b2a-83d0-04da848183b7"
   },
   "outputs": [
    {
     "data": {
      "text/html": [
       "<div>\n",
       "<style scoped>\n",
       "    .dataframe tbody tr th:only-of-type {\n",
       "        vertical-align: middle;\n",
       "    }\n",
       "\n",
       "    .dataframe tbody tr th {\n",
       "        vertical-align: top;\n",
       "    }\n",
       "\n",
       "    .dataframe thead th {\n",
       "        text-align: right;\n",
       "    }\n",
       "</style>\n",
       "<table border=\"1\" class=\"dataframe\">\n",
       "  <thead>\n",
       "    <tr style=\"text-align: right;\">\n",
       "      <th></th>\n",
       "      <th>products</th>\n",
       "    </tr>\n",
       "  </thead>\n",
       "  <tbody>\n",
       "    <tr>\n",
       "      <th>0</th>\n",
       "      <td>God of War,The Last of Us,Read Dead Redemption...</td>\n",
       "    </tr>\n",
       "    <tr>\n",
       "      <th>1</th>\n",
       "      <td>Grand Theft Auto V,The Last of Us</td>\n",
       "    </tr>\n",
       "    <tr>\n",
       "      <th>2</th>\n",
       "      <td>God of War,Assassin's Creed 2,Read Dead Redemp...</td>\n",
       "    </tr>\n",
       "    <tr>\n",
       "      <th>3</th>\n",
       "      <td>Left 4 Dead,Assassin's Creed 2,Super Mario Wor...</td>\n",
       "    </tr>\n",
       "    <tr>\n",
       "      <th>4</th>\n",
       "      <td>Left 4 Dead,Minecraft,The Last of Us,Dark Soul...</td>\n",
       "    </tr>\n",
       "  </tbody>\n",
       "</table>\n",
       "</div>"
      ],
      "text/plain": [
       "                                            products\n",
       "0  God of War,The Last of Us,Read Dead Redemption...\n",
       "1                  Grand Theft Auto V,The Last of Us\n",
       "2  God of War,Assassin's Creed 2,Read Dead Redemp...\n",
       "3  Left 4 Dead,Assassin's Creed 2,Super Mario Wor...\n",
       "4  Left 4 Dead,Minecraft,The Last of Us,Dark Soul..."
      ]
     },
     "execution_count": 6,
     "metadata": {},
     "output_type": "execute_result"
    }
   ],
   "source": [
    "df = pd.read_csv('games_sales.csv',names=['products'],header=None)\n",
    "df.head()"
   ]
  },
  {
   "cell_type": "code",
   "execution_count": 7,
   "metadata": {
    "colab": {
     "base_uri": "https://localhost:8080/"
    },
    "id": "yrMEHVHtJDAo",
    "outputId": "d43f0564-d77e-4648-87e7-22062b63cc0d"
   },
   "outputs": [
    {
     "data": {
      "text/plain": [
       "(12526, 1)"
      ]
     },
     "execution_count": 7,
     "metadata": {},
     "output_type": "execute_result"
    }
   ],
   "source": [
    "# Dataset dimensions - (rows, columns)\n",
    "df.shape"
   ]
  },
  {
   "cell_type": "code",
   "execution_count": 8,
   "metadata": {
    "colab": {
     "base_uri": "https://localhost:8080/"
    },
    "id": "W8BDZ28YKw41",
    "outputId": "dfb818f1-ffa7-4522-f52a-9b3118def1b9"
   },
   "outputs": [
    {
     "name": "stdout",
     "output_type": "stream",
     "text": [
      "<class 'pandas.core.frame.DataFrame'>\n",
      "RangeIndex: 12526 entries, 0 to 12525\n",
      "Data columns (total 1 columns):\n",
      " #   Column    Non-Null Count  Dtype \n",
      "---  ------    --------------  ----- \n",
      " 0   products  12526 non-null  object\n",
      "dtypes: object(1)\n",
      "memory usage: 98.0+ KB\n"
     ]
    }
   ],
   "source": [
    "# Data type of the features\n",
    "df.info()"
   ]
  },
  {
   "cell_type": "markdown",
   "metadata": {
    "id": "cJBsUH9KJDAp"
   },
   "source": [
    "# Tidy Data for Association Rule formation"
   ]
  },
  {
   "cell_type": "code",
   "execution_count": 9,
   "metadata": {
    "_kg_hide-input": true,
    "colab": {
     "base_uri": "https://localhost:8080/",
     "height": 285
    },
    "id": "56zdysLaJDAp",
    "outputId": "77ed0b6c-db3a-4809-acf3-ce61ee89174d"
   },
   "outputs": [
    {
     "data": {
      "text/html": [
       "<div>\n",
       "<style scoped>\n",
       "    .dataframe tbody tr th:only-of-type {\n",
       "        vertical-align: middle;\n",
       "    }\n",
       "\n",
       "    .dataframe tbody tr th {\n",
       "        vertical-align: top;\n",
       "    }\n",
       "\n",
       "    .dataframe thead th {\n",
       "        text-align: right;\n",
       "    }\n",
       "</style>\n",
       "<table border=\"1\" class=\"dataframe\">\n",
       "  <thead>\n",
       "    <tr style=\"text-align: right;\">\n",
       "      <th></th>\n",
       "      <th>Assassin's Creed 2</th>\n",
       "      <th>Dark Souls</th>\n",
       "      <th>God of War</th>\n",
       "      <th>Grand Theft Auto V</th>\n",
       "      <th>Guitar Hero 3</th>\n",
       "      <th>Left 4 Dead</th>\n",
       "      <th>Minecraft</th>\n",
       "      <th>Read Dead Redemption</th>\n",
       "      <th>Resident Evil 4</th>\n",
       "      <th>Super Mario World</th>\n",
       "      <th>The Elder Scrolls V: Skyrim</th>\n",
       "      <th>The Last of Us</th>\n",
       "    </tr>\n",
       "  </thead>\n",
       "  <tbody>\n",
       "    <tr>\n",
       "      <th>0</th>\n",
       "      <td>0</td>\n",
       "      <td>0</td>\n",
       "      <td>1</td>\n",
       "      <td>1</td>\n",
       "      <td>0</td>\n",
       "      <td>1</td>\n",
       "      <td>1</td>\n",
       "      <td>1</td>\n",
       "      <td>0</td>\n",
       "      <td>0</td>\n",
       "      <td>0</td>\n",
       "      <td>1</td>\n",
       "    </tr>\n",
       "    <tr>\n",
       "      <th>1</th>\n",
       "      <td>0</td>\n",
       "      <td>0</td>\n",
       "      <td>0</td>\n",
       "      <td>1</td>\n",
       "      <td>0</td>\n",
       "      <td>0</td>\n",
       "      <td>0</td>\n",
       "      <td>0</td>\n",
       "      <td>0</td>\n",
       "      <td>0</td>\n",
       "      <td>0</td>\n",
       "      <td>1</td>\n",
       "    </tr>\n",
       "    <tr>\n",
       "      <th>2</th>\n",
       "      <td>1</td>\n",
       "      <td>0</td>\n",
       "      <td>1</td>\n",
       "      <td>0</td>\n",
       "      <td>0</td>\n",
       "      <td>1</td>\n",
       "      <td>0</td>\n",
       "      <td>1</td>\n",
       "      <td>0</td>\n",
       "      <td>0</td>\n",
       "      <td>0</td>\n",
       "      <td>0</td>\n",
       "    </tr>\n",
       "    <tr>\n",
       "      <th>3</th>\n",
       "      <td>1</td>\n",
       "      <td>0</td>\n",
       "      <td>0</td>\n",
       "      <td>0</td>\n",
       "      <td>0</td>\n",
       "      <td>1</td>\n",
       "      <td>0</td>\n",
       "      <td>1</td>\n",
       "      <td>0</td>\n",
       "      <td>1</td>\n",
       "      <td>1</td>\n",
       "      <td>1</td>\n",
       "    </tr>\n",
       "    <tr>\n",
       "      <th>4</th>\n",
       "      <td>0</td>\n",
       "      <td>1</td>\n",
       "      <td>0</td>\n",
       "      <td>0</td>\n",
       "      <td>0</td>\n",
       "      <td>1</td>\n",
       "      <td>1</td>\n",
       "      <td>1</td>\n",
       "      <td>1</td>\n",
       "      <td>0</td>\n",
       "      <td>0</td>\n",
       "      <td>1</td>\n",
       "    </tr>\n",
       "  </tbody>\n",
       "</table>\n",
       "</div>"
      ],
      "text/plain": [
       "   Assassin's Creed 2  Dark Souls  God of War  Grand Theft Auto V  \\\n",
       "0                   0           0           1                   1   \n",
       "1                   0           0           0                   1   \n",
       "2                   1           0           1                   0   \n",
       "3                   1           0           0                   0   \n",
       "4                   0           1           0                   0   \n",
       "\n",
       "   Guitar Hero 3  Left 4 Dead  Minecraft  Read Dead Redemption  \\\n",
       "0              0            1          1                     1   \n",
       "1              0            0          0                     0   \n",
       "2              0            1          0                     1   \n",
       "3              0            1          0                     1   \n",
       "4              0            1          1                     1   \n",
       "\n",
       "   Resident Evil 4  Super Mario World  The Elder Scrolls V: Skyrim  \\\n",
       "0                0                  0                            0   \n",
       "1                0                  0                            0   \n",
       "2                0                  0                            0   \n",
       "3                0                  1                            1   \n",
       "4                1                  0                            0   \n",
       "\n",
       "   The Last of Us  \n",
       "0               1  \n",
       "1               1  \n",
       "2               0  \n",
       "3               1  \n",
       "4               1  "
      ]
     },
     "execution_count": 9,
     "metadata": {},
     "output_type": "execute_result"
    }
   ],
   "source": [
    "data = list(df[\"products\"].apply(lambda x:x.split(',')))\n",
    "\n",
    "from mlxtend.preprocessing import TransactionEncoder\n",
    "te = TransactionEncoder()\n",
    "te_data = te.fit(data).transform(data)\n",
    "df = pd.DataFrame(te_data,columns=te.columns_).astype(int)\n",
    "\n",
    "df.head()"
   ]
  },
  {
   "cell_type": "code",
   "execution_count": null,
   "metadata": {
    "_kg_hide-input": true,
    "id": "aY31vYZ4JDAq"
   },
   "outputs": [],
   "source": []
  },
  {
   "cell_type": "code",
   "execution_count": 10,
   "metadata": {
    "id": "hJyMkv_Hvwm9"
   },
   "outputs": [],
   "source": [
    "min_support_value = 0.20\n",
    "min_confidence_value = 0.47"
   ]
  },
  {
   "cell_type": "markdown",
   "metadata": {
    "id": "uL51e6qgJDAq"
   },
   "source": [
    "# Finding the support values for k-frequent items\n"
   ]
  },
  {
   "cell_type": "markdown",
   "metadata": {
    "id": "9OadIczSJDAr"
   },
   "source": [
    "**First Iteration:** Find support values for each product.\n",
    "\n",
    "- Total transaction : 12526 (df.shape[0])"
   ]
  },
  {
   "cell_type": "code",
   "execution_count": 11,
   "metadata": {
    "colab": {
     "base_uri": "https://localhost:8080/"
    },
    "id": "hDaEbAcJJDAr",
    "outputId": "4d7dbfca-b7b4-446d-c4ea-45af53698c7b"
   },
   "outputs": [
    {
     "data": {
      "text/plain": [
       "Assassin's Creed 2             5383\n",
       "Dark Souls                     5482\n",
       "God of War                     5432\n",
       "Grand Theft Auto V             5510\n",
       "Guitar Hero 3                  5526\n",
       "Left 4 Dead                    5477\n",
       "Minecraft                      5503\n",
       "Read Dead Redemption           5481\n",
       "Resident Evil 4                5483\n",
       "Super Mario World              5444\n",
       "The Elder Scrolls V: Skyrim    5484\n",
       "The Last of Us                 5509\n",
       "dtype: int64"
      ]
     },
     "execution_count": 11,
     "metadata": {},
     "output_type": "execute_result"
    }
   ],
   "source": [
    "# Find Frequency of Items\n",
    "df.sum()"
   ]
  },
  {
   "cell_type": "code",
   "execution_count": 12,
   "metadata": {
    "colab": {
     "base_uri": "https://localhost:8080/",
     "height": 425
    },
    "id": "XOS1QZFiJDAs",
    "outputId": "c4f6e7af-3a09-48d0-acff-05358dcd8ab0"
   },
   "outputs": [
    {
     "data": {
      "text/html": [
       "<div>\n",
       "<style scoped>\n",
       "    .dataframe tbody tr th:only-of-type {\n",
       "        vertical-align: middle;\n",
       "    }\n",
       "\n",
       "    .dataframe tbody tr th {\n",
       "        vertical-align: top;\n",
       "    }\n",
       "\n",
       "    .dataframe thead th {\n",
       "        text-align: right;\n",
       "    }\n",
       "</style>\n",
       "<table border=\"1\" class=\"dataframe\">\n",
       "  <thead>\n",
       "    <tr style=\"text-align: right;\">\n",
       "      <th></th>\n",
       "      <th>Support</th>\n",
       "    </tr>\n",
       "  </thead>\n",
       "  <tbody>\n",
       "    <tr>\n",
       "      <th>Guitar Hero 3</th>\n",
       "      <td>0.44</td>\n",
       "    </tr>\n",
       "    <tr>\n",
       "      <th>Grand Theft Auto V</th>\n",
       "      <td>0.44</td>\n",
       "    </tr>\n",
       "    <tr>\n",
       "      <th>The Last of Us</th>\n",
       "      <td>0.44</td>\n",
       "    </tr>\n",
       "    <tr>\n",
       "      <th>Minecraft</th>\n",
       "      <td>0.44</td>\n",
       "    </tr>\n",
       "    <tr>\n",
       "      <th>The Elder Scrolls V: Skyrim</th>\n",
       "      <td>0.44</td>\n",
       "    </tr>\n",
       "    <tr>\n",
       "      <th>Resident Evil 4</th>\n",
       "      <td>0.44</td>\n",
       "    </tr>\n",
       "    <tr>\n",
       "      <th>Dark Souls</th>\n",
       "      <td>0.44</td>\n",
       "    </tr>\n",
       "    <tr>\n",
       "      <th>Read Dead Redemption</th>\n",
       "      <td>0.44</td>\n",
       "    </tr>\n",
       "    <tr>\n",
       "      <th>Left 4 Dead</th>\n",
       "      <td>0.44</td>\n",
       "    </tr>\n",
       "    <tr>\n",
       "      <th>Super Mario World</th>\n",
       "      <td>0.43</td>\n",
       "    </tr>\n",
       "    <tr>\n",
       "      <th>God of War</th>\n",
       "      <td>0.43</td>\n",
       "    </tr>\n",
       "    <tr>\n",
       "      <th>Assassin's Creed 2</th>\n",
       "      <td>0.43</td>\n",
       "    </tr>\n",
       "  </tbody>\n",
       "</table>\n",
       "</div>"
      ],
      "text/plain": [
       "                             Support\n",
       "Guitar Hero 3                   0.44\n",
       "Grand Theft Auto V              0.44\n",
       "The Last of Us                  0.44\n",
       "Minecraft                       0.44\n",
       "The Elder Scrolls V: Skyrim     0.44\n",
       "Resident Evil 4                 0.44\n",
       "Dark Souls                      0.44\n",
       "Read Dead Redemption            0.44\n",
       "Left 4 Dead                     0.44\n",
       "Super Mario World               0.43\n",
       "God of War                      0.43\n",
       "Assassin's Creed 2              0.43"
      ]
     },
     "execution_count": 12,
     "metadata": {},
     "output_type": "execute_result"
    }
   ],
   "source": [
    "# Product Frequency / Total Sales\n",
    "first = pd.DataFrame(df.sum() / df.shape[0], columns = [\"Support\"]).sort_values(\"Support\", ascending = False)\n",
    "first"
   ]
  },
  {
   "cell_type": "code",
   "execution_count": 13,
   "metadata": {
    "colab": {
     "base_uri": "https://localhost:8080/",
     "height": 425
    },
    "id": "W4cBxj0mJDAs",
    "outputId": "ca74b62c-2050-4d17-a702-f6c99f37c03b"
   },
   "outputs": [
    {
     "data": {
      "text/html": [
       "<div>\n",
       "<style scoped>\n",
       "    .dataframe tbody tr th:only-of-type {\n",
       "        vertical-align: middle;\n",
       "    }\n",
       "\n",
       "    .dataframe tbody tr th {\n",
       "        vertical-align: top;\n",
       "    }\n",
       "\n",
       "    .dataframe thead th {\n",
       "        text-align: right;\n",
       "    }\n",
       "</style>\n",
       "<table border=\"1\" class=\"dataframe\">\n",
       "  <thead>\n",
       "    <tr style=\"text-align: right;\">\n",
       "      <th></th>\n",
       "      <th>Support</th>\n",
       "    </tr>\n",
       "  </thead>\n",
       "  <tbody>\n",
       "    <tr>\n",
       "      <th>Guitar Hero 3</th>\n",
       "      <td>0.44</td>\n",
       "    </tr>\n",
       "    <tr>\n",
       "      <th>Grand Theft Auto V</th>\n",
       "      <td>0.44</td>\n",
       "    </tr>\n",
       "    <tr>\n",
       "      <th>The Last of Us</th>\n",
       "      <td>0.44</td>\n",
       "    </tr>\n",
       "    <tr>\n",
       "      <th>Minecraft</th>\n",
       "      <td>0.44</td>\n",
       "    </tr>\n",
       "    <tr>\n",
       "      <th>The Elder Scrolls V: Skyrim</th>\n",
       "      <td>0.44</td>\n",
       "    </tr>\n",
       "    <tr>\n",
       "      <th>Resident Evil 4</th>\n",
       "      <td>0.44</td>\n",
       "    </tr>\n",
       "    <tr>\n",
       "      <th>Dark Souls</th>\n",
       "      <td>0.44</td>\n",
       "    </tr>\n",
       "    <tr>\n",
       "      <th>Read Dead Redemption</th>\n",
       "      <td>0.44</td>\n",
       "    </tr>\n",
       "    <tr>\n",
       "      <th>Left 4 Dead</th>\n",
       "      <td>0.44</td>\n",
       "    </tr>\n",
       "    <tr>\n",
       "      <th>Super Mario World</th>\n",
       "      <td>0.43</td>\n",
       "    </tr>\n",
       "    <tr>\n",
       "      <th>God of War</th>\n",
       "      <td>0.43</td>\n",
       "    </tr>\n",
       "    <tr>\n",
       "      <th>Assassin's Creed 2</th>\n",
       "      <td>0.43</td>\n",
       "    </tr>\n",
       "  </tbody>\n",
       "</table>\n",
       "</div>"
      ],
      "text/plain": [
       "                             Support\n",
       "Guitar Hero 3                   0.44\n",
       "Grand Theft Auto V              0.44\n",
       "The Last of Us                  0.44\n",
       "Minecraft                       0.44\n",
       "The Elder Scrolls V: Skyrim     0.44\n",
       "Resident Evil 4                 0.44\n",
       "Dark Souls                      0.44\n",
       "Read Dead Redemption            0.44\n",
       "Left 4 Dead                     0.44\n",
       "Super Mario World               0.43\n",
       "God of War                      0.43\n",
       "Assassin's Creed 2              0.43"
      ]
     },
     "execution_count": 13,
     "metadata": {},
     "output_type": "execute_result"
    }
   ],
   "source": [
    "# Elimination by Support Value\n",
    "first[first.Support >= min_support_value]"
   ]
  },
  {
   "cell_type": "markdown",
   "metadata": {
    "id": "9apUitN5JDAs"
   },
   "source": [
    "**Second Iteration:** Find support values for pair product combinations."
   ]
  },
  {
   "cell_type": "code",
   "execution_count": 14,
   "metadata": {
    "colab": {
     "base_uri": "https://localhost:8080/"
    },
    "id": "zSD_T476JDAt",
    "outputId": "b26dd7e0-6f13-4437-b713-994dcdbdb157"
   },
   "outputs": [
    {
     "data": {
      "text/plain": [
       "[['Guitar Hero 3', 'Grand Theft Auto V'],\n",
       " ['Guitar Hero 3', 'The Last of Us'],\n",
       " ['Guitar Hero 3', 'Minecraft'],\n",
       " ['Guitar Hero 3', 'The Elder Scrolls V: Skyrim'],\n",
       " ['Guitar Hero 3', 'Resident Evil 4'],\n",
       " ['Guitar Hero 3', 'Dark Souls'],\n",
       " ['Guitar Hero 3', 'Read Dead Redemption'],\n",
       " ['Guitar Hero 3', 'Left 4 Dead'],\n",
       " ['Guitar Hero 3', 'Super Mario World'],\n",
       " ['Guitar Hero 3', 'God of War'],\n",
       " ['Guitar Hero 3', \"Assassin's Creed 2\"],\n",
       " ['Grand Theft Auto V', 'The Last of Us'],\n",
       " ['Grand Theft Auto V', 'Minecraft'],\n",
       " ['Grand Theft Auto V', 'The Elder Scrolls V: Skyrim'],\n",
       " ['Grand Theft Auto V', 'Resident Evil 4'],\n",
       " ['Grand Theft Auto V', 'Dark Souls'],\n",
       " ['Grand Theft Auto V', 'Read Dead Redemption'],\n",
       " ['Grand Theft Auto V', 'Left 4 Dead'],\n",
       " ['Grand Theft Auto V', 'Super Mario World'],\n",
       " ['Grand Theft Auto V', 'God of War'],\n",
       " ['Grand Theft Auto V', \"Assassin's Creed 2\"]]"
      ]
     },
     "execution_count": 14,
     "metadata": {},
     "output_type": "execute_result"
    }
   ],
   "source": [
    "second = list(itertools.combinations(first.index, 2))\n",
    "second = [list(i) for i in second]\n",
    "# Sample of combinations\n",
    "second[:21]"
   ]
  },
  {
   "cell_type": "code",
   "execution_count": 15,
   "metadata": {
    "colab": {
     "base_uri": "https://localhost:8080/"
    },
    "id": "7oJ6LJtntUWJ",
    "outputId": "d21cf746-2b06-432a-f1b7-0ae5c88df8b4"
   },
   "outputs": [
    {
     "data": {
      "text/plain": [
       "66"
      ]
     },
     "execution_count": 15,
     "metadata": {},
     "output_type": "execute_result"
    }
   ],
   "source": [
    "len(second)"
   ]
  },
  {
   "cell_type": "code",
   "execution_count": 16,
   "metadata": {
    "colab": {
     "base_uri": "https://localhost:8080/",
     "height": 927
    },
    "id": "76W0lNuSJDAt",
    "outputId": "dfd83baa-baad-4d6f-be67-18787c753662"
   },
   "outputs": [
    {
     "data": {
      "text/html": [
       "<div>\n",
       "<style scoped>\n",
       "    .dataframe tbody tr th:only-of-type {\n",
       "        vertical-align: middle;\n",
       "    }\n",
       "\n",
       "    .dataframe tbody tr th {\n",
       "        vertical-align: top;\n",
       "    }\n",
       "\n",
       "    .dataframe thead th {\n",
       "        text-align: right;\n",
       "    }\n",
       "</style>\n",
       "<table border=\"1\" class=\"dataframe\">\n",
       "  <thead>\n",
       "    <tr style=\"text-align: right;\">\n",
       "      <th></th>\n",
       "      <th>Support</th>\n",
       "      <th>length</th>\n",
       "    </tr>\n",
       "    <tr>\n",
       "      <th>index</th>\n",
       "      <th></th>\n",
       "      <th></th>\n",
       "    </tr>\n",
       "  </thead>\n",
       "  <tbody>\n",
       "    <tr>\n",
       "      <th>(Grand Theft Auto V, The Last of Us)</th>\n",
       "      <td>0.21</td>\n",
       "      <td>2</td>\n",
       "    </tr>\n",
       "    <tr>\n",
       "      <th>(Resident Evil 4, God of War)</th>\n",
       "      <td>0.21</td>\n",
       "      <td>2</td>\n",
       "    </tr>\n",
       "    <tr>\n",
       "      <th>(Dark Souls, Read Dead Redemption)</th>\n",
       "      <td>0.21</td>\n",
       "      <td>2</td>\n",
       "    </tr>\n",
       "    <tr>\n",
       "      <th>(Guitar Hero 3, Dark Souls)</th>\n",
       "      <td>0.20</td>\n",
       "      <td>2</td>\n",
       "    </tr>\n",
       "    <tr>\n",
       "      <th>(The Last of Us, Minecraft)</th>\n",
       "      <td>0.20</td>\n",
       "      <td>2</td>\n",
       "    </tr>\n",
       "    <tr>\n",
       "      <th>(The Elder Scrolls V: Skyrim, Super Mario World)</th>\n",
       "      <td>0.20</td>\n",
       "      <td>2</td>\n",
       "    </tr>\n",
       "    <tr>\n",
       "      <th>(Resident Evil 4, Read Dead Redemption)</th>\n",
       "      <td>0.20</td>\n",
       "      <td>2</td>\n",
       "    </tr>\n",
       "    <tr>\n",
       "      <th>(The Elder Scrolls V: Skyrim, Resident Evil 4)</th>\n",
       "      <td>0.20</td>\n",
       "      <td>2</td>\n",
       "    </tr>\n",
       "    <tr>\n",
       "      <th>(Guitar Hero 3, God of War)</th>\n",
       "      <td>0.20</td>\n",
       "      <td>2</td>\n",
       "    </tr>\n",
       "    <tr>\n",
       "      <th>(Minecraft, Left 4 Dead)</th>\n",
       "      <td>0.20</td>\n",
       "      <td>2</td>\n",
       "    </tr>\n",
       "    <tr>\n",
       "      <th>(The Elder Scrolls V: Skyrim, Left 4 Dead)</th>\n",
       "      <td>0.20</td>\n",
       "      <td>2</td>\n",
       "    </tr>\n",
       "    <tr>\n",
       "      <th>(Grand Theft Auto V, Read Dead Redemption)</th>\n",
       "      <td>0.20</td>\n",
       "      <td>2</td>\n",
       "    </tr>\n",
       "    <tr>\n",
       "      <th>(Minecraft, Dark Souls)</th>\n",
       "      <td>0.20</td>\n",
       "      <td>2</td>\n",
       "    </tr>\n",
       "    <tr>\n",
       "      <th>(Minecraft, Read Dead Redemption)</th>\n",
       "      <td>0.20</td>\n",
       "      <td>2</td>\n",
       "    </tr>\n",
       "    <tr>\n",
       "      <th>(The Last of Us, The Elder Scrolls V: Skyrim)</th>\n",
       "      <td>0.20</td>\n",
       "      <td>2</td>\n",
       "    </tr>\n",
       "    <tr>\n",
       "      <th>(Grand Theft Auto V, Super Mario World)</th>\n",
       "      <td>0.20</td>\n",
       "      <td>2</td>\n",
       "    </tr>\n",
       "    <tr>\n",
       "      <th>(The Last of Us, Left 4 Dead)</th>\n",
       "      <td>0.20</td>\n",
       "      <td>2</td>\n",
       "    </tr>\n",
       "    <tr>\n",
       "      <th>(Guitar Hero 3, The Last of Us)</th>\n",
       "      <td>0.20</td>\n",
       "      <td>2</td>\n",
       "    </tr>\n",
       "    <tr>\n",
       "      <th>(Guitar Hero 3, The Elder Scrolls V: Skyrim)</th>\n",
       "      <td>0.20</td>\n",
       "      <td>2</td>\n",
       "    </tr>\n",
       "    <tr>\n",
       "      <th>(Grand Theft Auto V, Dark Souls)</th>\n",
       "      <td>0.20</td>\n",
       "      <td>2</td>\n",
       "    </tr>\n",
       "    <tr>\n",
       "      <th>(Guitar Hero 3, Minecraft)</th>\n",
       "      <td>0.20</td>\n",
       "      <td>2</td>\n",
       "    </tr>\n",
       "    <tr>\n",
       "      <th>(Guitar Hero 3, Resident Evil 4)</th>\n",
       "      <td>0.20</td>\n",
       "      <td>2</td>\n",
       "    </tr>\n",
       "    <tr>\n",
       "      <th>(The Last of Us, God of War)</th>\n",
       "      <td>0.20</td>\n",
       "      <td>2</td>\n",
       "    </tr>\n",
       "    <tr>\n",
       "      <th>(Guitar Hero 3, Grand Theft Auto V)</th>\n",
       "      <td>0.20</td>\n",
       "      <td>2</td>\n",
       "    </tr>\n",
       "    <tr>\n",
       "      <th>(Grand Theft Auto V, God of War)</th>\n",
       "      <td>0.20</td>\n",
       "      <td>2</td>\n",
       "    </tr>\n",
       "    <tr>\n",
       "      <th>(Minecraft, The Elder Scrolls V: Skyrim)</th>\n",
       "      <td>0.20</td>\n",
       "      <td>2</td>\n",
       "    </tr>\n",
       "    <tr>\n",
       "      <th>(The Elder Scrolls V: Skyrim, God of War)</th>\n",
       "      <td>0.20</td>\n",
       "      <td>2</td>\n",
       "    </tr>\n",
       "  </tbody>\n",
       "</table>\n",
       "</div>"
      ],
      "text/plain": [
       "                                                  Support  length\n",
       "index                                                            \n",
       "(Grand Theft Auto V, The Last of Us)                 0.21       2\n",
       "(Resident Evil 4, God of War)                        0.21       2\n",
       "(Dark Souls, Read Dead Redemption)                   0.21       2\n",
       "(Guitar Hero 3, Dark Souls)                          0.20       2\n",
       "(The Last of Us, Minecraft)                          0.20       2\n",
       "(The Elder Scrolls V: Skyrim, Super Mario World)     0.20       2\n",
       "(Resident Evil 4, Read Dead Redemption)              0.20       2\n",
       "(The Elder Scrolls V: Skyrim, Resident Evil 4)       0.20       2\n",
       "(Guitar Hero 3, God of War)                          0.20       2\n",
       "(Minecraft, Left 4 Dead)                             0.20       2\n",
       "(The Elder Scrolls V: Skyrim, Left 4 Dead)           0.20       2\n",
       "(Grand Theft Auto V, Read Dead Redemption)           0.20       2\n",
       "(Minecraft, Dark Souls)                              0.20       2\n",
       "(Minecraft, Read Dead Redemption)                    0.20       2\n",
       "(The Last of Us, The Elder Scrolls V: Skyrim)        0.20       2\n",
       "(Grand Theft Auto V, Super Mario World)              0.20       2\n",
       "(The Last of Us, Left 4 Dead)                        0.20       2\n",
       "(Guitar Hero 3, The Last of Us)                      0.20       2\n",
       "(Guitar Hero 3, The Elder Scrolls V: Skyrim)         0.20       2\n",
       "(Grand Theft Auto V, Dark Souls)                     0.20       2\n",
       "(Guitar Hero 3, Minecraft)                           0.20       2\n",
       "(Guitar Hero 3, Resident Evil 4)                     0.20       2\n",
       "(The Last of Us, God of War)                         0.20       2\n",
       "(Guitar Hero 3, Grand Theft Auto V)                  0.20       2\n",
       "(Grand Theft Auto V, God of War)                     0.20       2\n",
       "(Minecraft, The Elder Scrolls V: Skyrim)             0.20       2\n",
       "(The Elder Scrolls V: Skyrim, God of War)            0.20       2"
      ]
     },
     "execution_count": 16,
     "metadata": {},
     "output_type": "execute_result"
    }
   ],
   "source": [
    "# Finding support values\n",
    "value = []\n",
    "for i in range(0, len(second)):\n",
    "    temp = df.T.loc[second[i]].sum() \n",
    "    temp = len(temp[temp == df.T.loc[second[i]].shape[0]]) / df.shape[0]\n",
    "    value.append(temp)\n",
    "# Create a data frame            \n",
    "secondIteration = pd.DataFrame(value, columns = [\"Support\"])\n",
    "secondIteration[\"index\"] = [tuple(i) for i in second]\n",
    "secondIteration['length'] = secondIteration['index'].apply(lambda x:len(x))\n",
    "secondIteration = secondIteration.set_index(\"index\").sort_values(\"Support\", ascending = False)\n",
    "# Elimination by Support Value\n",
    "secondIteration = secondIteration[secondIteration.Support > min_support_value]\n",
    "secondIteration"
   ]
  },
  {
   "cell_type": "markdown",
   "metadata": {
    "id": "0PBCxmq10W86"
   },
   "source": [
    "The following function,`ar_iterations()`, is used to give the support values the for k-frequent itemsets in the total transaction."
   ]
  },
  {
   "cell_type": "code",
   "execution_count": 17,
   "metadata": {
    "id": "WqtHBcqbJDAu"
   },
   "outputs": [],
   "source": [
    "def ar_iterations(data, num_iter = 1, support_value = min_support_value, iterationIndex = None):\n",
    "    \n",
    "    # Next Iterations\n",
    "    def ar_calculation(iterationIndex = iterationIndex): \n",
    "        # Calculation of support value\n",
    "        value = []\n",
    "        for i in range(0, len(iterationIndex)):\n",
    "            result = data.T.loc[iterationIndex[i]].sum() \n",
    "            result = len(result[result == data.T.loc[iterationIndex[i]].shape[0]]) / data.shape[0]\n",
    "            value.append(result)\n",
    "        # Bind results\n",
    "        result = pd.DataFrame(value, columns = [\"Support\"])\n",
    "        result[\"index\"] = [tuple(i) for i in iterationIndex]\n",
    "        result['length'] = result['index'].apply(lambda x:len(x))\n",
    "        result = result.set_index(\"index\").sort_values(\"Support\", ascending = False)\n",
    "        # Elimination by Support Value\n",
    "        result = result[result.Support > support_value]\n",
    "        return result    \n",
    "    \n",
    "    # First Iteration\n",
    "    first = pd.DataFrame(df.T.sum(axis = 1) / df.shape[0], columns = [\"Support\"]).sort_values(\"Support\", ascending = False)\n",
    "    first = first[first.Support > support_value]\n",
    "    first[\"length\"] = 1\n",
    "    \n",
    "    if num_iter == 1:\n",
    "        res = first.copy()\n",
    "        \n",
    "    # Second Iteration\n",
    "    elif num_iter == 2:\n",
    "        \n",
    "        second = list(itertools.combinations(first.index, 2))\n",
    "        second = [list(i) for i in second]\n",
    "        res = ar_calculation(second)\n",
    "        \n",
    "    # All Iterations > 2\n",
    "    else:\n",
    "        nth = list(itertools.combinations(set(list(itertools.chain(*iterationIndex))), num_iter))\n",
    "        nth = [list(i) for i in nth]\n",
    "        res = ar_calculation(nth)\n",
    "    \n",
    "    return res"
   ]
  },
  {
   "cell_type": "code",
   "execution_count": 18,
   "metadata": {
    "colab": {
     "base_uri": "https://localhost:8080/",
     "height": 425
    },
    "id": "HGxXlsMCJDAu",
    "outputId": "53242c37-d3bc-4885-aa5a-3a07693ba207"
   },
   "outputs": [
    {
     "data": {
      "text/html": [
       "<div>\n",
       "<style scoped>\n",
       "    .dataframe tbody tr th:only-of-type {\n",
       "        vertical-align: middle;\n",
       "    }\n",
       "\n",
       "    .dataframe tbody tr th {\n",
       "        vertical-align: top;\n",
       "    }\n",
       "\n",
       "    .dataframe thead th {\n",
       "        text-align: right;\n",
       "    }\n",
       "</style>\n",
       "<table border=\"1\" class=\"dataframe\">\n",
       "  <thead>\n",
       "    <tr style=\"text-align: right;\">\n",
       "      <th></th>\n",
       "      <th>Support</th>\n",
       "      <th>length</th>\n",
       "    </tr>\n",
       "  </thead>\n",
       "  <tbody>\n",
       "    <tr>\n",
       "      <th>Guitar Hero 3</th>\n",
       "      <td>0.44</td>\n",
       "      <td>1</td>\n",
       "    </tr>\n",
       "    <tr>\n",
       "      <th>Grand Theft Auto V</th>\n",
       "      <td>0.44</td>\n",
       "      <td>1</td>\n",
       "    </tr>\n",
       "    <tr>\n",
       "      <th>The Last of Us</th>\n",
       "      <td>0.44</td>\n",
       "      <td>1</td>\n",
       "    </tr>\n",
       "    <tr>\n",
       "      <th>Minecraft</th>\n",
       "      <td>0.44</td>\n",
       "      <td>1</td>\n",
       "    </tr>\n",
       "    <tr>\n",
       "      <th>The Elder Scrolls V: Skyrim</th>\n",
       "      <td>0.44</td>\n",
       "      <td>1</td>\n",
       "    </tr>\n",
       "    <tr>\n",
       "      <th>Resident Evil 4</th>\n",
       "      <td>0.44</td>\n",
       "      <td>1</td>\n",
       "    </tr>\n",
       "    <tr>\n",
       "      <th>Dark Souls</th>\n",
       "      <td>0.44</td>\n",
       "      <td>1</td>\n",
       "    </tr>\n",
       "    <tr>\n",
       "      <th>Read Dead Redemption</th>\n",
       "      <td>0.44</td>\n",
       "      <td>1</td>\n",
       "    </tr>\n",
       "    <tr>\n",
       "      <th>Left 4 Dead</th>\n",
       "      <td>0.44</td>\n",
       "      <td>1</td>\n",
       "    </tr>\n",
       "    <tr>\n",
       "      <th>Super Mario World</th>\n",
       "      <td>0.43</td>\n",
       "      <td>1</td>\n",
       "    </tr>\n",
       "    <tr>\n",
       "      <th>God of War</th>\n",
       "      <td>0.43</td>\n",
       "      <td>1</td>\n",
       "    </tr>\n",
       "    <tr>\n",
       "      <th>Assassin's Creed 2</th>\n",
       "      <td>0.43</td>\n",
       "      <td>1</td>\n",
       "    </tr>\n",
       "  </tbody>\n",
       "</table>\n",
       "</div>"
      ],
      "text/plain": [
       "                             Support  length\n",
       "Guitar Hero 3                   0.44       1\n",
       "Grand Theft Auto V              0.44       1\n",
       "The Last of Us                  0.44       1\n",
       "Minecraft                       0.44       1\n",
       "The Elder Scrolls V: Skyrim     0.44       1\n",
       "Resident Evil 4                 0.44       1\n",
       "Dark Souls                      0.44       1\n",
       "Read Dead Redemption            0.44       1\n",
       "Left 4 Dead                     0.44       1\n",
       "Super Mario World               0.43       1\n",
       "God of War                      0.43       1\n",
       "Assassin's Creed 2              0.43       1"
      ]
     },
     "execution_count": 18,
     "metadata": {},
     "output_type": "execute_result"
    }
   ],
   "source": [
    "iteration1 = ar_iterations(df, num_iter=1, support_value = min_support_value)\n",
    "iteration1"
   ]
  },
  {
   "cell_type": "code",
   "execution_count": 19,
   "metadata": {
    "colab": {
     "base_uri": "https://localhost:8080/",
     "height": 927
    },
    "id": "er2Co84FJDAu",
    "outputId": "ef50cc1d-b949-4f88-f78c-dcace10c632b"
   },
   "outputs": [
    {
     "data": {
      "text/html": [
       "<div>\n",
       "<style scoped>\n",
       "    .dataframe tbody tr th:only-of-type {\n",
       "        vertical-align: middle;\n",
       "    }\n",
       "\n",
       "    .dataframe tbody tr th {\n",
       "        vertical-align: top;\n",
       "    }\n",
       "\n",
       "    .dataframe thead th {\n",
       "        text-align: right;\n",
       "    }\n",
       "</style>\n",
       "<table border=\"1\" class=\"dataframe\">\n",
       "  <thead>\n",
       "    <tr style=\"text-align: right;\">\n",
       "      <th></th>\n",
       "      <th>Support</th>\n",
       "      <th>length</th>\n",
       "    </tr>\n",
       "    <tr>\n",
       "      <th>index</th>\n",
       "      <th></th>\n",
       "      <th></th>\n",
       "    </tr>\n",
       "  </thead>\n",
       "  <tbody>\n",
       "    <tr>\n",
       "      <th>(Grand Theft Auto V, The Last of Us)</th>\n",
       "      <td>0.21</td>\n",
       "      <td>2</td>\n",
       "    </tr>\n",
       "    <tr>\n",
       "      <th>(Resident Evil 4, God of War)</th>\n",
       "      <td>0.21</td>\n",
       "      <td>2</td>\n",
       "    </tr>\n",
       "    <tr>\n",
       "      <th>(Dark Souls, Read Dead Redemption)</th>\n",
       "      <td>0.21</td>\n",
       "      <td>2</td>\n",
       "    </tr>\n",
       "    <tr>\n",
       "      <th>(Guitar Hero 3, Dark Souls)</th>\n",
       "      <td>0.20</td>\n",
       "      <td>2</td>\n",
       "    </tr>\n",
       "    <tr>\n",
       "      <th>(The Last of Us, Minecraft)</th>\n",
       "      <td>0.20</td>\n",
       "      <td>2</td>\n",
       "    </tr>\n",
       "    <tr>\n",
       "      <th>(The Elder Scrolls V: Skyrim, Super Mario World)</th>\n",
       "      <td>0.20</td>\n",
       "      <td>2</td>\n",
       "    </tr>\n",
       "    <tr>\n",
       "      <th>(Resident Evil 4, Read Dead Redemption)</th>\n",
       "      <td>0.20</td>\n",
       "      <td>2</td>\n",
       "    </tr>\n",
       "    <tr>\n",
       "      <th>(The Elder Scrolls V: Skyrim, Resident Evil 4)</th>\n",
       "      <td>0.20</td>\n",
       "      <td>2</td>\n",
       "    </tr>\n",
       "    <tr>\n",
       "      <th>(Guitar Hero 3, God of War)</th>\n",
       "      <td>0.20</td>\n",
       "      <td>2</td>\n",
       "    </tr>\n",
       "    <tr>\n",
       "      <th>(Minecraft, Left 4 Dead)</th>\n",
       "      <td>0.20</td>\n",
       "      <td>2</td>\n",
       "    </tr>\n",
       "    <tr>\n",
       "      <th>(The Elder Scrolls V: Skyrim, Left 4 Dead)</th>\n",
       "      <td>0.20</td>\n",
       "      <td>2</td>\n",
       "    </tr>\n",
       "    <tr>\n",
       "      <th>(Grand Theft Auto V, Read Dead Redemption)</th>\n",
       "      <td>0.20</td>\n",
       "      <td>2</td>\n",
       "    </tr>\n",
       "    <tr>\n",
       "      <th>(Minecraft, Dark Souls)</th>\n",
       "      <td>0.20</td>\n",
       "      <td>2</td>\n",
       "    </tr>\n",
       "    <tr>\n",
       "      <th>(Minecraft, Read Dead Redemption)</th>\n",
       "      <td>0.20</td>\n",
       "      <td>2</td>\n",
       "    </tr>\n",
       "    <tr>\n",
       "      <th>(The Last of Us, The Elder Scrolls V: Skyrim)</th>\n",
       "      <td>0.20</td>\n",
       "      <td>2</td>\n",
       "    </tr>\n",
       "    <tr>\n",
       "      <th>(Grand Theft Auto V, Super Mario World)</th>\n",
       "      <td>0.20</td>\n",
       "      <td>2</td>\n",
       "    </tr>\n",
       "    <tr>\n",
       "      <th>(The Last of Us, Left 4 Dead)</th>\n",
       "      <td>0.20</td>\n",
       "      <td>2</td>\n",
       "    </tr>\n",
       "    <tr>\n",
       "      <th>(Guitar Hero 3, The Last of Us)</th>\n",
       "      <td>0.20</td>\n",
       "      <td>2</td>\n",
       "    </tr>\n",
       "    <tr>\n",
       "      <th>(Guitar Hero 3, The Elder Scrolls V: Skyrim)</th>\n",
       "      <td>0.20</td>\n",
       "      <td>2</td>\n",
       "    </tr>\n",
       "    <tr>\n",
       "      <th>(Grand Theft Auto V, Dark Souls)</th>\n",
       "      <td>0.20</td>\n",
       "      <td>2</td>\n",
       "    </tr>\n",
       "    <tr>\n",
       "      <th>(Guitar Hero 3, Minecraft)</th>\n",
       "      <td>0.20</td>\n",
       "      <td>2</td>\n",
       "    </tr>\n",
       "    <tr>\n",
       "      <th>(Guitar Hero 3, Resident Evil 4)</th>\n",
       "      <td>0.20</td>\n",
       "      <td>2</td>\n",
       "    </tr>\n",
       "    <tr>\n",
       "      <th>(The Last of Us, God of War)</th>\n",
       "      <td>0.20</td>\n",
       "      <td>2</td>\n",
       "    </tr>\n",
       "    <tr>\n",
       "      <th>(Guitar Hero 3, Grand Theft Auto V)</th>\n",
       "      <td>0.20</td>\n",
       "      <td>2</td>\n",
       "    </tr>\n",
       "    <tr>\n",
       "      <th>(Grand Theft Auto V, God of War)</th>\n",
       "      <td>0.20</td>\n",
       "      <td>2</td>\n",
       "    </tr>\n",
       "    <tr>\n",
       "      <th>(Minecraft, The Elder Scrolls V: Skyrim)</th>\n",
       "      <td>0.20</td>\n",
       "      <td>2</td>\n",
       "    </tr>\n",
       "    <tr>\n",
       "      <th>(The Elder Scrolls V: Skyrim, God of War)</th>\n",
       "      <td>0.20</td>\n",
       "      <td>2</td>\n",
       "    </tr>\n",
       "  </tbody>\n",
       "</table>\n",
       "</div>"
      ],
      "text/plain": [
       "                                                  Support  length\n",
       "index                                                            \n",
       "(Grand Theft Auto V, The Last of Us)                 0.21       2\n",
       "(Resident Evil 4, God of War)                        0.21       2\n",
       "(Dark Souls, Read Dead Redemption)                   0.21       2\n",
       "(Guitar Hero 3, Dark Souls)                          0.20       2\n",
       "(The Last of Us, Minecraft)                          0.20       2\n",
       "(The Elder Scrolls V: Skyrim, Super Mario World)     0.20       2\n",
       "(Resident Evil 4, Read Dead Redemption)              0.20       2\n",
       "(The Elder Scrolls V: Skyrim, Resident Evil 4)       0.20       2\n",
       "(Guitar Hero 3, God of War)                          0.20       2\n",
       "(Minecraft, Left 4 Dead)                             0.20       2\n",
       "(The Elder Scrolls V: Skyrim, Left 4 Dead)           0.20       2\n",
       "(Grand Theft Auto V, Read Dead Redemption)           0.20       2\n",
       "(Minecraft, Dark Souls)                              0.20       2\n",
       "(Minecraft, Read Dead Redemption)                    0.20       2\n",
       "(The Last of Us, The Elder Scrolls V: Skyrim)        0.20       2\n",
       "(Grand Theft Auto V, Super Mario World)              0.20       2\n",
       "(The Last of Us, Left 4 Dead)                        0.20       2\n",
       "(Guitar Hero 3, The Last of Us)                      0.20       2\n",
       "(Guitar Hero 3, The Elder Scrolls V: Skyrim)         0.20       2\n",
       "(Grand Theft Auto V, Dark Souls)                     0.20       2\n",
       "(Guitar Hero 3, Minecraft)                           0.20       2\n",
       "(Guitar Hero 3, Resident Evil 4)                     0.20       2\n",
       "(The Last of Us, God of War)                         0.20       2\n",
       "(Guitar Hero 3, Grand Theft Auto V)                  0.20       2\n",
       "(Grand Theft Auto V, God of War)                     0.20       2\n",
       "(Minecraft, The Elder Scrolls V: Skyrim)             0.20       2\n",
       "(The Elder Scrolls V: Skyrim, God of War)            0.20       2"
      ]
     },
     "execution_count": 19,
     "metadata": {},
     "output_type": "execute_result"
    }
   ],
   "source": [
    "iteration2 = ar_iterations(df, num_iter=2, support_value = min_support_value)\n",
    "iteration2"
   ]
  },
  {
   "cell_type": "code",
   "execution_count": 20,
   "metadata": {
    "colab": {
     "base_uri": "https://localhost:8080/",
     "height": 81
    },
    "id": "ATgw49QkJDAv",
    "outputId": "4cc860d0-2020-4153-ac09-76b2fdb539d5"
   },
   "outputs": [
    {
     "data": {
      "text/html": [
       "<div>\n",
       "<style scoped>\n",
       "    .dataframe tbody tr th:only-of-type {\n",
       "        vertical-align: middle;\n",
       "    }\n",
       "\n",
       "    .dataframe tbody tr th {\n",
       "        vertical-align: top;\n",
       "    }\n",
       "\n",
       "    .dataframe thead th {\n",
       "        text-align: right;\n",
       "    }\n",
       "</style>\n",
       "<table border=\"1\" class=\"dataframe\">\n",
       "  <thead>\n",
       "    <tr style=\"text-align: right;\">\n",
       "      <th></th>\n",
       "      <th>Support</th>\n",
       "      <th>length</th>\n",
       "    </tr>\n",
       "    <tr>\n",
       "      <th>index</th>\n",
       "      <th></th>\n",
       "      <th></th>\n",
       "    </tr>\n",
       "  </thead>\n",
       "  <tbody>\n",
       "  </tbody>\n",
       "</table>\n",
       "</div>"
      ],
      "text/plain": [
       "Empty DataFrame\n",
       "Columns: [Support, length]\n",
       "Index: []"
      ]
     },
     "execution_count": 20,
     "metadata": {},
     "output_type": "execute_result"
    }
   ],
   "source": [
    "iteration3 = ar_iterations(df, num_iter=3, support_value = min_support_value,iterationIndex=iteration2.index)\n",
    "iteration3"
   ]
  },
  {
   "cell_type": "code",
   "execution_count": 21,
   "metadata": {
    "colab": {
     "base_uri": "https://localhost:8080/",
     "height": 81
    },
    "id": "YuzEgQKAJDAv",
    "outputId": "1c23b24f-e672-4ff1-a7bd-7d9f7e7362dc"
   },
   "outputs": [
    {
     "data": {
      "text/html": [
       "<div>\n",
       "<style scoped>\n",
       "    .dataframe tbody tr th:only-of-type {\n",
       "        vertical-align: middle;\n",
       "    }\n",
       "\n",
       "    .dataframe tbody tr th {\n",
       "        vertical-align: top;\n",
       "    }\n",
       "\n",
       "    .dataframe thead th {\n",
       "        text-align: right;\n",
       "    }\n",
       "</style>\n",
       "<table border=\"1\" class=\"dataframe\">\n",
       "  <thead>\n",
       "    <tr style=\"text-align: right;\">\n",
       "      <th></th>\n",
       "      <th>Support</th>\n",
       "      <th>length</th>\n",
       "    </tr>\n",
       "    <tr>\n",
       "      <th>index</th>\n",
       "      <th></th>\n",
       "      <th></th>\n",
       "    </tr>\n",
       "  </thead>\n",
       "  <tbody>\n",
       "  </tbody>\n",
       "</table>\n",
       "</div>"
      ],
      "text/plain": [
       "Empty DataFrame\n",
       "Columns: [Support, length]\n",
       "Index: []"
      ]
     },
     "execution_count": 21,
     "metadata": {},
     "output_type": "execute_result"
    }
   ],
   "source": [
    "iteration4 = ar_iterations(df, num_iter=4, support_value = min_support_value,iterationIndex=iteration3.index)\n",
    "iteration4"
   ]
  },
  {
   "cell_type": "markdown",
   "metadata": {
    "id": "Rujdgb-tJDAv"
   },
   "source": [
    "# Association Rule\n",
    "\n",
    "There are two main functions here. \n",
    "- `apriori()` : function evaluate support value for each k combination of products.\n",
    "- `association_rules()` : function help us to understand relationship between antecedents and consequences products. It gives some remarkable information about products.\n"
   ]
  },
  {
   "cell_type": "code",
   "execution_count": 22,
   "metadata": {
    "colab": {
     "base_uri": "https://localhost:8080/",
     "height": 1000
    },
    "id": "K_77K9ouJDAw",
    "outputId": "5c0e2cd7-c77f-42d8-da6c-0e8b080d4341"
   },
   "outputs": [
    {
     "data": {
      "text/html": [
       "<div>\n",
       "<style scoped>\n",
       "    .dataframe tbody tr th:only-of-type {\n",
       "        vertical-align: middle;\n",
       "    }\n",
       "\n",
       "    .dataframe tbody tr th {\n",
       "        vertical-align: top;\n",
       "    }\n",
       "\n",
       "    .dataframe thead th {\n",
       "        text-align: right;\n",
       "    }\n",
       "</style>\n",
       "<table border=\"1\" class=\"dataframe\">\n",
       "  <thead>\n",
       "    <tr style=\"text-align: right;\">\n",
       "      <th></th>\n",
       "      <th>support</th>\n",
       "      <th>itemsets</th>\n",
       "    </tr>\n",
       "  </thead>\n",
       "  <tbody>\n",
       "    <tr>\n",
       "      <th>4</th>\n",
       "      <td>0.44</td>\n",
       "      <td>(Guitar Hero 3)</td>\n",
       "    </tr>\n",
       "    <tr>\n",
       "      <th>3</th>\n",
       "      <td>0.44</td>\n",
       "      <td>(Grand Theft Auto V)</td>\n",
       "    </tr>\n",
       "    <tr>\n",
       "      <th>11</th>\n",
       "      <td>0.44</td>\n",
       "      <td>(The Last of Us)</td>\n",
       "    </tr>\n",
       "    <tr>\n",
       "      <th>6</th>\n",
       "      <td>0.44</td>\n",
       "      <td>(Minecraft)</td>\n",
       "    </tr>\n",
       "    <tr>\n",
       "      <th>10</th>\n",
       "      <td>0.44</td>\n",
       "      <td>(The Elder Scrolls V: Skyrim)</td>\n",
       "    </tr>\n",
       "    <tr>\n",
       "      <th>8</th>\n",
       "      <td>0.44</td>\n",
       "      <td>(Resident Evil 4)</td>\n",
       "    </tr>\n",
       "    <tr>\n",
       "      <th>1</th>\n",
       "      <td>0.44</td>\n",
       "      <td>(Dark Souls)</td>\n",
       "    </tr>\n",
       "    <tr>\n",
       "      <th>7</th>\n",
       "      <td>0.44</td>\n",
       "      <td>(Read Dead Redemption)</td>\n",
       "    </tr>\n",
       "    <tr>\n",
       "      <th>5</th>\n",
       "      <td>0.44</td>\n",
       "      <td>(Left 4 Dead)</td>\n",
       "    </tr>\n",
       "    <tr>\n",
       "      <th>9</th>\n",
       "      <td>0.43</td>\n",
       "      <td>(Super Mario World)</td>\n",
       "    </tr>\n",
       "    <tr>\n",
       "      <th>2</th>\n",
       "      <td>0.43</td>\n",
       "      <td>(God of War)</td>\n",
       "    </tr>\n",
       "    <tr>\n",
       "      <th>0</th>\n",
       "      <td>0.43</td>\n",
       "      <td>(Assassin's Creed 2)</td>\n",
       "    </tr>\n",
       "    <tr>\n",
       "      <th>24</th>\n",
       "      <td>0.21</td>\n",
       "      <td>(Grand Theft Auto V, The Last of Us)</td>\n",
       "    </tr>\n",
       "    <tr>\n",
       "      <th>18</th>\n",
       "      <td>0.21</td>\n",
       "      <td>(Resident Evil 4, God of War)</td>\n",
       "    </tr>\n",
       "    <tr>\n",
       "      <th>15</th>\n",
       "      <td>0.21</td>\n",
       "      <td>(Read Dead Redemption, Dark Souls)</td>\n",
       "    </tr>\n",
       "    <tr>\n",
       "      <th>13</th>\n",
       "      <td>0.20</td>\n",
       "      <td>(Dark Souls, Guitar Hero 3)</td>\n",
       "    </tr>\n",
       "    <tr>\n",
       "      <th>34</th>\n",
       "      <td>0.20</td>\n",
       "      <td>(Minecraft, The Last of Us)</td>\n",
       "    </tr>\n",
       "    <tr>\n",
       "      <th>37</th>\n",
       "      <td>0.20</td>\n",
       "      <td>(The Elder Scrolls V: Skyrim, Super Mario World)</td>\n",
       "    </tr>\n",
       "    <tr>\n",
       "      <th>35</th>\n",
       "      <td>0.20</td>\n",
       "      <td>(Read Dead Redemption, Resident Evil 4)</td>\n",
       "    </tr>\n",
       "    <tr>\n",
       "      <th>36</th>\n",
       "      <td>0.20</td>\n",
       "      <td>(The Elder Scrolls V: Skyrim, Resident Evil 4)</td>\n",
       "    </tr>\n",
       "    <tr>\n",
       "      <th>17</th>\n",
       "      <td>0.20</td>\n",
       "      <td>(Guitar Hero 3, God of War)</td>\n",
       "    </tr>\n",
       "    <tr>\n",
       "      <th>29</th>\n",
       "      <td>0.20</td>\n",
       "      <td>(Minecraft, Left 4 Dead)</td>\n",
       "    </tr>\n",
       "    <tr>\n",
       "      <th>30</th>\n",
       "      <td>0.20</td>\n",
       "      <td>(The Elder Scrolls V: Skyrim, Left 4 Dead)</td>\n",
       "    </tr>\n",
       "    <tr>\n",
       "      <th>22</th>\n",
       "      <td>0.20</td>\n",
       "      <td>(Grand Theft Auto V, Read Dead Redemption)</td>\n",
       "    </tr>\n",
       "    <tr>\n",
       "      <th>14</th>\n",
       "      <td>0.20</td>\n",
       "      <td>(Minecraft, Dark Souls)</td>\n",
       "    </tr>\n",
       "    <tr>\n",
       "      <th>32</th>\n",
       "      <td>0.20</td>\n",
       "      <td>(Minecraft, Read Dead Redemption)</td>\n",
       "    </tr>\n",
       "    <tr>\n",
       "      <th>38</th>\n",
       "      <td>0.20</td>\n",
       "      <td>(The Elder Scrolls V: Skyrim, The Last of Us)</td>\n",
       "    </tr>\n",
       "    <tr>\n",
       "      <th>23</th>\n",
       "      <td>0.20</td>\n",
       "      <td>(Grand Theft Auto V, Super Mario World)</td>\n",
       "    </tr>\n",
       "    <tr>\n",
       "      <th>28</th>\n",
       "      <td>0.20</td>\n",
       "      <td>(Guitar Hero 3, The Last of Us)</td>\n",
       "    </tr>\n",
       "    <tr>\n",
       "      <th>31</th>\n",
       "      <td>0.20</td>\n",
       "      <td>(The Last of Us, Left 4 Dead)</td>\n",
       "    </tr>\n",
       "    <tr>\n",
       "      <th>27</th>\n",
       "      <td>0.20</td>\n",
       "      <td>(The Elder Scrolls V: Skyrim, Guitar Hero 3)</td>\n",
       "    </tr>\n",
       "    <tr>\n",
       "      <th>12</th>\n",
       "      <td>0.20</td>\n",
       "      <td>(Grand Theft Auto V, Dark Souls)</td>\n",
       "    </tr>\n",
       "    <tr>\n",
       "      <th>25</th>\n",
       "      <td>0.20</td>\n",
       "      <td>(Minecraft, Guitar Hero 3)</td>\n",
       "    </tr>\n",
       "    <tr>\n",
       "      <th>26</th>\n",
       "      <td>0.20</td>\n",
       "      <td>(Resident Evil 4, Guitar Hero 3)</td>\n",
       "    </tr>\n",
       "    <tr>\n",
       "      <th>20</th>\n",
       "      <td>0.20</td>\n",
       "      <td>(The Last of Us, God of War)</td>\n",
       "    </tr>\n",
       "    <tr>\n",
       "      <th>21</th>\n",
       "      <td>0.20</td>\n",
       "      <td>(Grand Theft Auto V, Guitar Hero 3)</td>\n",
       "    </tr>\n",
       "    <tr>\n",
       "      <th>16</th>\n",
       "      <td>0.20</td>\n",
       "      <td>(Grand Theft Auto V, God of War)</td>\n",
       "    </tr>\n",
       "    <tr>\n",
       "      <th>33</th>\n",
       "      <td>0.20</td>\n",
       "      <td>(Minecraft, The Elder Scrolls V: Skyrim)</td>\n",
       "    </tr>\n",
       "    <tr>\n",
       "      <th>19</th>\n",
       "      <td>0.20</td>\n",
       "      <td>(The Elder Scrolls V: Skyrim, God of War)</td>\n",
       "    </tr>\n",
       "  </tbody>\n",
       "</table>\n",
       "</div>"
      ],
      "text/plain": [
       "    support                                          itemsets\n",
       "4      0.44                                   (Guitar Hero 3)\n",
       "3      0.44                              (Grand Theft Auto V)\n",
       "11     0.44                                  (The Last of Us)\n",
       "6      0.44                                       (Minecraft)\n",
       "10     0.44                     (The Elder Scrolls V: Skyrim)\n",
       "8      0.44                                 (Resident Evil 4)\n",
       "1      0.44                                      (Dark Souls)\n",
       "7      0.44                            (Read Dead Redemption)\n",
       "5      0.44                                     (Left 4 Dead)\n",
       "9      0.43                               (Super Mario World)\n",
       "2      0.43                                      (God of War)\n",
       "0      0.43                              (Assassin's Creed 2)\n",
       "24     0.21              (Grand Theft Auto V, The Last of Us)\n",
       "18     0.21                     (Resident Evil 4, God of War)\n",
       "15     0.21                (Read Dead Redemption, Dark Souls)\n",
       "13     0.20                       (Dark Souls, Guitar Hero 3)\n",
       "34     0.20                       (Minecraft, The Last of Us)\n",
       "37     0.20  (The Elder Scrolls V: Skyrim, Super Mario World)\n",
       "35     0.20           (Read Dead Redemption, Resident Evil 4)\n",
       "36     0.20    (The Elder Scrolls V: Skyrim, Resident Evil 4)\n",
       "17     0.20                       (Guitar Hero 3, God of War)\n",
       "29     0.20                          (Minecraft, Left 4 Dead)\n",
       "30     0.20        (The Elder Scrolls V: Skyrim, Left 4 Dead)\n",
       "22     0.20        (Grand Theft Auto V, Read Dead Redemption)\n",
       "14     0.20                           (Minecraft, Dark Souls)\n",
       "32     0.20                 (Minecraft, Read Dead Redemption)\n",
       "38     0.20     (The Elder Scrolls V: Skyrim, The Last of Us)\n",
       "23     0.20           (Grand Theft Auto V, Super Mario World)\n",
       "28     0.20                   (Guitar Hero 3, The Last of Us)\n",
       "31     0.20                     (The Last of Us, Left 4 Dead)\n",
       "27     0.20      (The Elder Scrolls V: Skyrim, Guitar Hero 3)\n",
       "12     0.20                  (Grand Theft Auto V, Dark Souls)\n",
       "25     0.20                        (Minecraft, Guitar Hero 3)\n",
       "26     0.20                  (Resident Evil 4, Guitar Hero 3)\n",
       "20     0.20                      (The Last of Us, God of War)\n",
       "21     0.20               (Grand Theft Auto V, Guitar Hero 3)\n",
       "16     0.20                  (Grand Theft Auto V, God of War)\n",
       "33     0.20          (Minecraft, The Elder Scrolls V: Skyrim)\n",
       "19     0.20         (The Elder Scrolls V: Skyrim, God of War)"
      ]
     },
     "execution_count": 22,
     "metadata": {},
     "output_type": "execute_result"
    }
   ],
   "source": [
    "# Apriori\n",
    "freq_items = apriori(df, min_support = min_support_value, use_colnames = True)\n",
    "freq_items.sort_values(\"support\", ascending = False)"
   ]
  },
  {
   "cell_type": "code",
   "execution_count": 23,
   "metadata": {
    "colab": {
     "base_uri": "https://localhost:8080/"
    },
    "id": "BAbp9eBE39Oc",
    "outputId": "1bafabdc-bed6-4df5-9e04-7ff1e3b898d3"
   },
   "outputs": [
    {
     "data": {
      "text/plain": [
       "(39, 2)"
      ]
     },
     "execution_count": 23,
     "metadata": {},
     "output_type": "execute_result"
    }
   ],
   "source": [
    "freq_items.shape"
   ]
  },
  {
   "cell_type": "markdown",
   "metadata": {
    "id": "pOtXZU2g2bda"
   },
   "source": [
    "# Observation: \n",
    "There are 39 different combination of items in the total transaction which are higher than or equal to the Minimum support value."
   ]
  },
  {
   "cell_type": "code",
   "execution_count": 24,
   "metadata": {
    "colab": {
     "base_uri": "https://localhost:8080/",
     "height": 206
    },
    "id": "onq4j0bm2H9x",
    "outputId": "15bc803a-28ac-4bfd-8a64-e8e3befb37fb"
   },
   "outputs": [
    {
     "data": {
      "text/html": [
       "<div>\n",
       "<style scoped>\n",
       "    .dataframe tbody tr th:only-of-type {\n",
       "        vertical-align: middle;\n",
       "    }\n",
       "\n",
       "    .dataframe tbody tr th {\n",
       "        vertical-align: top;\n",
       "    }\n",
       "\n",
       "    .dataframe thead th {\n",
       "        text-align: right;\n",
       "    }\n",
       "</style>\n",
       "<table border=\"1\" class=\"dataframe\">\n",
       "  <thead>\n",
       "    <tr style=\"text-align: right;\">\n",
       "      <th></th>\n",
       "      <th>support</th>\n",
       "      <th>itemsets</th>\n",
       "    </tr>\n",
       "  </thead>\n",
       "  <tbody>\n",
       "    <tr>\n",
       "      <th>4</th>\n",
       "      <td>0.44</td>\n",
       "      <td>(Guitar Hero 3)</td>\n",
       "    </tr>\n",
       "    <tr>\n",
       "      <th>3</th>\n",
       "      <td>0.44</td>\n",
       "      <td>(Grand Theft Auto V)</td>\n",
       "    </tr>\n",
       "    <tr>\n",
       "      <th>11</th>\n",
       "      <td>0.44</td>\n",
       "      <td>(The Last of Us)</td>\n",
       "    </tr>\n",
       "    <tr>\n",
       "      <th>6</th>\n",
       "      <td>0.44</td>\n",
       "      <td>(Minecraft)</td>\n",
       "    </tr>\n",
       "    <tr>\n",
       "      <th>10</th>\n",
       "      <td>0.44</td>\n",
       "      <td>(The Elder Scrolls V: Skyrim)</td>\n",
       "    </tr>\n",
       "  </tbody>\n",
       "</table>\n",
       "</div>"
      ],
      "text/plain": [
       "    support                       itemsets\n",
       "4      0.44                (Guitar Hero 3)\n",
       "3      0.44           (Grand Theft Auto V)\n",
       "11     0.44               (The Last of Us)\n",
       "6      0.44                    (Minecraft)\n",
       "10     0.44  (The Elder Scrolls V: Skyrim)"
      ]
     },
     "execution_count": 24,
     "metadata": {},
     "output_type": "execute_result"
    }
   ],
   "source": [
    "freq_items.sort_values(\"support\", ascending = False).head(5)"
   ]
  },
  {
   "cell_type": "code",
   "execution_count": 25,
   "metadata": {
    "colab": {
     "base_uri": "https://localhost:8080/",
     "height": 206
    },
    "id": "7_m46p1P2KPD",
    "outputId": "8b2c20a5-a66d-4547-ddc2-eab5a8179fb0"
   },
   "outputs": [
    {
     "data": {
      "text/html": [
       "<div>\n",
       "<style scoped>\n",
       "    .dataframe tbody tr th:only-of-type {\n",
       "        vertical-align: middle;\n",
       "    }\n",
       "\n",
       "    .dataframe tbody tr th {\n",
       "        vertical-align: top;\n",
       "    }\n",
       "\n",
       "    .dataframe thead th {\n",
       "        text-align: right;\n",
       "    }\n",
       "</style>\n",
       "<table border=\"1\" class=\"dataframe\">\n",
       "  <thead>\n",
       "    <tr style=\"text-align: right;\">\n",
       "      <th></th>\n",
       "      <th>support</th>\n",
       "      <th>itemsets</th>\n",
       "    </tr>\n",
       "  </thead>\n",
       "  <tbody>\n",
       "    <tr>\n",
       "      <th>20</th>\n",
       "      <td>0.20</td>\n",
       "      <td>(The Last of Us, God of War)</td>\n",
       "    </tr>\n",
       "    <tr>\n",
       "      <th>21</th>\n",
       "      <td>0.20</td>\n",
       "      <td>(Grand Theft Auto V, Guitar Hero 3)</td>\n",
       "    </tr>\n",
       "    <tr>\n",
       "      <th>16</th>\n",
       "      <td>0.20</td>\n",
       "      <td>(Grand Theft Auto V, God of War)</td>\n",
       "    </tr>\n",
       "    <tr>\n",
       "      <th>33</th>\n",
       "      <td>0.20</td>\n",
       "      <td>(Minecraft, The Elder Scrolls V: Skyrim)</td>\n",
       "    </tr>\n",
       "    <tr>\n",
       "      <th>19</th>\n",
       "      <td>0.20</td>\n",
       "      <td>(The Elder Scrolls V: Skyrim, God of War)</td>\n",
       "    </tr>\n",
       "  </tbody>\n",
       "</table>\n",
       "</div>"
      ],
      "text/plain": [
       "    support                                   itemsets\n",
       "20     0.20               (The Last of Us, God of War)\n",
       "21     0.20        (Grand Theft Auto V, Guitar Hero 3)\n",
       "16     0.20           (Grand Theft Auto V, God of War)\n",
       "33     0.20   (Minecraft, The Elder Scrolls V: Skyrim)\n",
       "19     0.20  (The Elder Scrolls V: Skyrim, God of War)"
      ]
     },
     "execution_count": 25,
     "metadata": {},
     "output_type": "execute_result"
    }
   ],
   "source": [
    "freq_items.sort_values(\"support\", ascending = False).tail(5)"
   ]
  },
  {
   "cell_type": "markdown",
   "metadata": {
    "id": "9_RsUBuWJDAw"
   },
   "source": [
    "*Support value gives us these information:*\n",
    "\n",
    "**Head 5**\n",
    "- 44 percent of 100 purchases are \"Guitar Hero 3\"\n",
    "- 44 percent of 100 purchases are \"Grand Theft Auto V\"\n",
    "- 44 percent of 100 purchases are \"The Last of Us\"\n",
    "- 44 percent of 100 purchases are \"Minecraft\"\n",
    "- 44 percent of 100 purchases are \"The Elder Scrolls V: Skyrim\"\n",
    "\n",
    "**Tail 5**\n",
    "- 20 percent of 100 purchases are \"The Last of Us\" and \"God of War\"\n",
    "- 20 percent of 100 purchases are \"Guitar Hero 3\" and \"Grand Theft Auto V\"\n",
    "- 20 percent of 100 purchases are \"Grand Theft Auto V\" and \"God of War\"\n",
    "- 20 percent of 100 purchases are \"The Elder Scrolls V: Skyrim\" and \"Minecraft\"\n",
    "- 20 percent of 100 purchases are \"The Elder Scrolls V: Skyrim\" and \"God of War\""
   ]
  },
  {
   "cell_type": "code",
   "execution_count": 26,
   "metadata": {
    "colab": {
     "base_uri": "https://localhost:8080/",
     "height": 81
    },
    "id": "CJJiHra1JDAx",
    "outputId": "a4947197-b0fc-420e-ddff-b3b30786db0c"
   },
   "outputs": [
    {
     "data": {
      "text/html": [
       "<div>\n",
       "<style scoped>\n",
       "    .dataframe tbody tr th:only-of-type {\n",
       "        vertical-align: middle;\n",
       "    }\n",
       "\n",
       "    .dataframe tbody tr th {\n",
       "        vertical-align: top;\n",
       "    }\n",
       "\n",
       "    .dataframe thead th {\n",
       "        text-align: right;\n",
       "    }\n",
       "</style>\n",
       "<table border=\"1\" class=\"dataframe\">\n",
       "  <thead>\n",
       "    <tr style=\"text-align: right;\">\n",
       "      <th></th>\n",
       "      <th>antecedents</th>\n",
       "      <th>consequents</th>\n",
       "      <th>antecedent support</th>\n",
       "      <th>consequent support</th>\n",
       "      <th>support</th>\n",
       "      <th>confidence</th>\n",
       "      <th>lift</th>\n",
       "      <th>leverage</th>\n",
       "      <th>conviction</th>\n",
       "      <th>zhangs_metric</th>\n",
       "    </tr>\n",
       "  </thead>\n",
       "  <tbody>\n",
       "    <tr>\n",
       "      <th>0</th>\n",
       "      <td>(God of War)</td>\n",
       "      <td>(Resident Evil 4)</td>\n",
       "      <td>0.43</td>\n",
       "      <td>0.44</td>\n",
       "      <td>0.21</td>\n",
       "      <td>0.47</td>\n",
       "      <td>1.08</td>\n",
       "      <td>0.02</td>\n",
       "      <td>1.07</td>\n",
       "      <td>0.14</td>\n",
       "    </tr>\n",
       "  </tbody>\n",
       "</table>\n",
       "</div>"
      ],
      "text/plain": [
       "    antecedents        consequents  antecedent support  consequent support  \\\n",
       "0  (God of War)  (Resident Evil 4)                0.43                0.44   \n",
       "\n",
       "   support  confidence  lift  leverage  conviction  zhangs_metric  \n",
       "0     0.21        0.47  1.08      0.02        1.07           0.14  "
      ]
     },
     "execution_count": 26,
     "metadata": {},
     "output_type": "execute_result"
    }
   ],
   "source": [
    "# Association Rules & Info\n",
    "df_ar = association_rules(freq_items, metric = \"confidence\", min_threshold = min_confidence_value)\n",
    "df_ar"
   ]
  },
  {
   "cell_type": "code",
   "execution_count": 27,
   "metadata": {
    "colab": {
     "base_uri": "https://localhost:8080/",
     "height": 81
    },
    "id": "tvl2oxY9JDAy",
    "outputId": "265503ea-3957-4d8c-9597-ed992944244b"
   },
   "outputs": [
    {
     "data": {
      "text/html": [
       "<div>\n",
       "<style scoped>\n",
       "    .dataframe tbody tr th:only-of-type {\n",
       "        vertical-align: middle;\n",
       "    }\n",
       "\n",
       "    .dataframe tbody tr th {\n",
       "        vertical-align: top;\n",
       "    }\n",
       "\n",
       "    .dataframe thead th {\n",
       "        text-align: right;\n",
       "    }\n",
       "</style>\n",
       "<table border=\"1\" class=\"dataframe\">\n",
       "  <thead>\n",
       "    <tr style=\"text-align: right;\">\n",
       "      <th></th>\n",
       "      <th>antecedents</th>\n",
       "      <th>consequents</th>\n",
       "      <th>antecedent support</th>\n",
       "      <th>consequent support</th>\n",
       "      <th>support</th>\n",
       "      <th>confidence</th>\n",
       "      <th>lift</th>\n",
       "      <th>leverage</th>\n",
       "      <th>conviction</th>\n",
       "      <th>zhangs_metric</th>\n",
       "    </tr>\n",
       "  </thead>\n",
       "  <tbody>\n",
       "    <tr>\n",
       "      <th>0</th>\n",
       "      <td>(God of War)</td>\n",
       "      <td>(Resident Evil 4)</td>\n",
       "      <td>0.43</td>\n",
       "      <td>0.44</td>\n",
       "      <td>0.21</td>\n",
       "      <td>0.47</td>\n",
       "      <td>1.08</td>\n",
       "      <td>0.02</td>\n",
       "      <td>1.07</td>\n",
       "      <td>0.14</td>\n",
       "    </tr>\n",
       "  </tbody>\n",
       "</table>\n",
       "</div>"
      ],
      "text/plain": [
       "    antecedents        consequents  antecedent support  consequent support  \\\n",
       "0  (God of War)  (Resident Evil 4)                0.43                0.44   \n",
       "\n",
       "   support  confidence  lift  leverage  conviction  zhangs_metric  \n",
       "0     0.21        0.47  1.08      0.02        1.07           0.14  "
      ]
     },
     "execution_count": 27,
     "metadata": {},
     "output_type": "execute_result"
    }
   ],
   "source": [
    "df_ar[(df_ar.support > min_support_value) & (df_ar.confidence > min_confidence_value)].sort_values(\"confidence\", ascending = False)"
   ]
  },
  {
   "cell_type": "markdown",
   "metadata": {
    "id": "rVD-Igzh7UlM"
   },
   "source": [
    "# Conclusion:\n",
    "Giving the minimum support and condidence value, **God of War** as an antecedents implies the consequent **Resident Evil 4**."
   ]
  },
  {
   "cell_type": "code",
   "execution_count": null,
   "metadata": {
    "id": "Un0Hpg6i8P2I"
   },
   "outputs": [],
   "source": []
  }
 ],
 "metadata": {
  "colab": {
   "provenance": [],
   "toc_visible": true
  },
  "kernelspec": {
   "display_name": "Python 3 (ipykernel)",
   "language": "python",
   "name": "python3"
  },
  "language_info": {
   "codemirror_mode": {
    "name": "ipython",
    "version": 3
   },
   "file_extension": ".py",
   "mimetype": "text/x-python",
   "name": "python",
   "nbconvert_exporter": "python",
   "pygments_lexer": "ipython3",
   "version": "3.10.5"
  }
 },
 "nbformat": 4,
 "nbformat_minor": 1
}
