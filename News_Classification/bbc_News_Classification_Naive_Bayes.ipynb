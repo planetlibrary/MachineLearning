{
  "nbformat": 4,
  "nbformat_minor": 0,
  "metadata": {
    "colab": {
      "provenance": []
    },
    "kernelspec": {
      "name": "python3",
      "display_name": "Python 3"
    },
    "language_info": {
      "name": "python"
    }
  },
  "cells": [
    {
      "cell_type": "markdown",
      "source": [
        "# Data set Description\n",
        "\n",
        "Consists of 2225 documents from the BBC news website corresponding to stories in five topical areas from 2004-2005.\n",
        "Natural Classes: 5 (business, entertainment, politics, sport, tech)\n",
        "\n",
        "If you make use of the dataset, please consider citing the publication:\n",
        "- D. Greene and P. Cunningham. \"Practical Solutions to the Problem of Diagonal Dominance in Kernel Document Clustering\", Proc. ICML 2006.\n",
        "\n",
        "All rights, including copyright, in the content of the original articles are owned by the BBC.\n",
        "\n",
        "Contact Derek Greene <derek.greene@ucd.ie> for further information.\n",
        "http://mlg.ucd.ie/datasets/bbc.html\n",
        "\n",
        "Using this dataset we have implemented Naive Bayes Algorithm to classify a news into 5 classes."
      ],
      "metadata": {
        "id": "WNIGrLz5K0yP"
      }
    },
    {
      "cell_type": "markdown",
      "source": [],
      "metadata": {
        "id": "tJ44tAeoLVeA"
      }
    },
    {
      "cell_type": "markdown",
      "source": [
        "# File Handling"
      ],
      "metadata": {
        "id": "yFG8Ny6IZF9G"
      }
    },
    {
      "cell_type": "code",
      "source": [
        "import os\n",
        "import pandas as pd\n",
        "import numpy as np\n",
        "import seaborn as sns\n",
        "from matplotlib import pyplot as plt\n",
        "import warnings\n",
        "warnings.filterwarnings(action = 'ignore')"
      ],
      "metadata": {
        "id": "ewfU6g74kT1G"
      },
      "execution_count": 1,
      "outputs": []
    },
    {
      "cell_type": "code",
      "execution_count": 2,
      "metadata": {
        "id": "c_8ZFdBOV8Kf"
      },
      "outputs": [],
      "source": [
        "# Specify the path to the main folder\n",
        "main_folder = \"/content/drive/MyDrive/ML_DA/bbc/business\"\n",
        "\n",
        "# Initialize an empty list to store the file paths\n",
        "file_paths = []\n",
        "\n",
        "# Iterate through the main folder and its subfolders\n",
        "for root, dirs, files in os.walk(main_folder):\n",
        "    files.sort()\n",
        "    for file in files:\n",
        "        file_paths.append(os.path.join(root, file))\n",
        "\n",
        "# Initialize an empty dataframe\n",
        "business_df = pd.DataFrame()\n",
        "\n",
        "# Iterate through the file paths and read the text files into the dataframe\n",
        "for file_path in file_paths:\n",
        "    with open(file_path, \"r\") as file:\n",
        "        content = file.read()\n",
        "        temp = pd.DataFrame({\"File Name\": [file_path.split('/')[-1]], \"title\": [content.split('\\n\\n')[0]],'news':[' '.join(content.split('\\n\\n')[1:])],'label':'business'})\n",
        "        business_df = pd.concat([business_df,temp], ignore_index=True)"
      ]
    },
    {
      "cell_type": "code",
      "source": [
        "# Specify the path to the main folder\n",
        "main_folder = \"/content/drive/MyDrive/ML_DA/bbc/entertainment\"\n",
        "\n",
        "# Initialize an empty list to store the file paths\n",
        "file_paths = []\n",
        "\n",
        "# Iterate through the main folder and its subfolders\n",
        "for root, dirs, files in os.walk(main_folder):\n",
        "    files.sort()\n",
        "    for file in files:\n",
        "        file_paths.append(os.path.join(root, file))\n",
        "\n",
        "# Initialize an empty dataframe\n",
        "entertainment_df = pd.DataFrame()\n",
        "\n",
        "# Iterate through the file paths and read the text files into the dataframe\n",
        "for file_path in file_paths:\n",
        "    with open(file_path, \"r\") as file:\n",
        "        content = file.read()\n",
        "        temp = pd.DataFrame({\"File Name\": [file_path.split('/')[-1]], \"title\": [content.split('\\n\\n')[0]],'news':[' '.join(content.split('\\n\\n')[1:])],'label':'entertainment'})\n",
        "        entertainment_df = pd.concat([entertainment_df,temp], ignore_index=True)\n"
      ],
      "metadata": {
        "id": "9KFaiS25kldA"
      },
      "execution_count": 3,
      "outputs": []
    },
    {
      "cell_type": "code",
      "source": [
        "# Specify the path to the main folder\n",
        "main_folder = \"/content/drive/MyDrive/ML_DA/bbc/politics\"\n",
        "\n",
        "# Initialize an empty list to store the file paths\n",
        "file_paths = []\n",
        "\n",
        "# Iterate through the main folder and its subfolders\n",
        "for root, dirs, files in os.walk(main_folder):\n",
        "    files.sort()\n",
        "    for file in files:\n",
        "        file_paths.append(os.path.join(root, file))\n",
        "\n",
        "# Initialize an empty dataframe\n",
        "politics_df = pd.DataFrame()\n",
        "\n",
        "# Iterate through the file paths and read the text files into the dataframe\n",
        "for file_path in file_paths:\n",
        "    with open(file_path, \"r\") as file:\n",
        "        content = file.read()\n",
        "        temp = pd.DataFrame({\"File Name\": [file_path.split('/')[-1]], \"title\": [content.split('\\n\\n')[0]],'news':[' '.join(content.split('\\n\\n')[1:])],'label':['politics']})\n",
        "        politics_df = pd.concat([politics_df,temp], ignore_index=True)\n"
      ],
      "metadata": {
        "id": "Fi2bXvrpn7km"
      },
      "execution_count": 4,
      "outputs": []
    },
    {
      "cell_type": "code",
      "source": [
        "# Specify the path to the main folder\n",
        "main_folder = \"/content/drive/MyDrive/ML_DA/bbc/sport\"\n",
        "\n",
        "# Initialize an empty list to store the file paths\n",
        "file_paths = []\n",
        "\n",
        "# Iterate through the main folder and its subfolders\n",
        "for root, dirs, files in os.walk(main_folder):\n",
        "    files.sort()\n",
        "    for file in files:\n",
        "        file_paths.append(os.path.join(root, file))\n",
        "\n",
        "# Initialize an empty dataframe\n",
        "sport_df = pd.DataFrame()\n",
        "\n",
        "# Iterate through the file paths and read the text files into the dataframe\n",
        "for file_path in file_paths:\n",
        "    with open(file_path, \"r\") as file:\n",
        "        content = file.read()\n",
        "        temp = pd.DataFrame({\"File Name\": [file_path.split('/')[-1]], \"title\": [content.split('\\n\\n')[0]],'news':[' '.join(content.split('\\n\\n')[1:])],'label':['sport']})\n",
        "        sport_df = pd.concat([sport_df,temp], ignore_index=True)\n"
      ],
      "metadata": {
        "id": "ANPQjiFtnvhB"
      },
      "execution_count": 5,
      "outputs": []
    },
    {
      "cell_type": "code",
      "source": [
        "# Specify the path to the main folder\n",
        "main_folder = \"/content/drive/MyDrive/ML_DA/bbc/tech\"\n",
        "\n",
        "# Initialize an empty list to store the file paths\n",
        "file_paths = []\n",
        "\n",
        "# Iterate through the main folder and its subfolders\n",
        "for root, dirs, files in os.walk(main_folder):\n",
        "    files.sort()\n",
        "    for file in files:\n",
        "        file_paths.append(os.path.join(root, file))\n",
        "\n",
        "# Initialize an empty dataframe\n",
        "tech_df = pd.DataFrame()\n",
        "\n",
        "# Iterate through the file paths and read the text files into the dataframe\n",
        "for file_path in file_paths:\n",
        "    with open(file_path, \"r\") as file:\n",
        "        content = file.read()\n",
        "        temp = pd.DataFrame({\"File Name\": [file_path.split('/')[-1]], \"title\": [content.split('\\n\\n')[0]],'news':[' '.join(content.split('\\n\\n')[1:])],'label':['tech']})\n",
        "        tech_df = pd.concat([tech_df,temp], ignore_index=True)\n"
      ],
      "metadata": {
        "id": "pRkEERqdoZV-"
      },
      "execution_count": 6,
      "outputs": []
    },
    {
      "cell_type": "code",
      "source": [
        "# business_df.head()"
      ],
      "metadata": {
        "id": "VmeVE9-42L7W"
      },
      "execution_count": 7,
      "outputs": []
    },
    {
      "cell_type": "code",
      "source": [
        "# entertainment_df.head()"
      ],
      "metadata": {
        "id": "Rx1owGtA2PCN"
      },
      "execution_count": 8,
      "outputs": []
    },
    {
      "cell_type": "code",
      "source": [
        "# politics_df.head()"
      ],
      "metadata": {
        "id": "BkGCul8B2VYW"
      },
      "execution_count": 9,
      "outputs": []
    },
    {
      "cell_type": "code",
      "source": [
        "# sport_df.head()"
      ],
      "metadata": {
        "id": "IpQUsqB_2ZSW"
      },
      "execution_count": 10,
      "outputs": []
    },
    {
      "cell_type": "code",
      "source": [
        "# tech_df.head()"
      ],
      "metadata": {
        "id": "XLvRTUAP2cKh"
      },
      "execution_count": 11,
      "outputs": []
    },
    {
      "cell_type": "markdown",
      "source": [
        "# Main DataFrame"
      ],
      "metadata": {
        "id": "4u-jmuaBEgZY"
      }
    },
    {
      "cell_type": "code",
      "source": [
        "data = pd.concat([business_df,entertainment_df,politics_df,sport_df,tech_df],ignore_index = True)\n",
        "data.head()"
      ],
      "metadata": {
        "colab": {
          "base_uri": "https://localhost:8080/",
          "height": 250
        },
        "id": "gxMT5aw62fYc",
        "outputId": "a6265949-f52a-424d-db4f-5e11252fc0ea"
      },
      "execution_count": 12,
      "outputs": [
        {
          "output_type": "execute_result",
          "data": {
            "text/plain": [
              "  File Name                              title  \\\n",
              "0   001.txt  Ad sales boost Time Warner profit   \n",
              "1   002.txt   Dollar gains on Greenspan speech   \n",
              "2   003.txt  Yukos unit buyer faces loan claim   \n",
              "3   004.txt  High fuel prices hit BA's profits   \n",
              "4   005.txt  Pernod takeover talk lifts Domecq   \n",
              "\n",
              "                                                news     label  \n",
              "0  Quarterly profits at US media giant TimeWarner...  business  \n",
              "1  The dollar has hit its highest level against t...  business  \n",
              "2  The owners of embattled Russian oil giant Yuko...  business  \n",
              "3  British Airways has blamed high fuel prices fo...  business  \n",
              "4  Shares in UK drinks and food firm Allied Domec...  business  "
            ],
            "text/html": [
              "\n",
              "  <div id=\"df-1d09ee2f-ced7-400d-82f9-bd199bac0853\">\n",
              "    <div class=\"colab-df-container\">\n",
              "      <div>\n",
              "<style scoped>\n",
              "    .dataframe tbody tr th:only-of-type {\n",
              "        vertical-align: middle;\n",
              "    }\n",
              "\n",
              "    .dataframe tbody tr th {\n",
              "        vertical-align: top;\n",
              "    }\n",
              "\n",
              "    .dataframe thead th {\n",
              "        text-align: right;\n",
              "    }\n",
              "</style>\n",
              "<table border=\"1\" class=\"dataframe\">\n",
              "  <thead>\n",
              "    <tr style=\"text-align: right;\">\n",
              "      <th></th>\n",
              "      <th>File Name</th>\n",
              "      <th>title</th>\n",
              "      <th>news</th>\n",
              "      <th>label</th>\n",
              "    </tr>\n",
              "  </thead>\n",
              "  <tbody>\n",
              "    <tr>\n",
              "      <th>0</th>\n",
              "      <td>001.txt</td>\n",
              "      <td>Ad sales boost Time Warner profit</td>\n",
              "      <td>Quarterly profits at US media giant TimeWarner...</td>\n",
              "      <td>business</td>\n",
              "    </tr>\n",
              "    <tr>\n",
              "      <th>1</th>\n",
              "      <td>002.txt</td>\n",
              "      <td>Dollar gains on Greenspan speech</td>\n",
              "      <td>The dollar has hit its highest level against t...</td>\n",
              "      <td>business</td>\n",
              "    </tr>\n",
              "    <tr>\n",
              "      <th>2</th>\n",
              "      <td>003.txt</td>\n",
              "      <td>Yukos unit buyer faces loan claim</td>\n",
              "      <td>The owners of embattled Russian oil giant Yuko...</td>\n",
              "      <td>business</td>\n",
              "    </tr>\n",
              "    <tr>\n",
              "      <th>3</th>\n",
              "      <td>004.txt</td>\n",
              "      <td>High fuel prices hit BA's profits</td>\n",
              "      <td>British Airways has blamed high fuel prices fo...</td>\n",
              "      <td>business</td>\n",
              "    </tr>\n",
              "    <tr>\n",
              "      <th>4</th>\n",
              "      <td>005.txt</td>\n",
              "      <td>Pernod takeover talk lifts Domecq</td>\n",
              "      <td>Shares in UK drinks and food firm Allied Domec...</td>\n",
              "      <td>business</td>\n",
              "    </tr>\n",
              "  </tbody>\n",
              "</table>\n",
              "</div>\n",
              "      <button class=\"colab-df-convert\" onclick=\"convertToInteractive('df-1d09ee2f-ced7-400d-82f9-bd199bac0853')\"\n",
              "              title=\"Convert this dataframe to an interactive table.\"\n",
              "              style=\"display:none;\">\n",
              "        \n",
              "  <svg xmlns=\"http://www.w3.org/2000/svg\" height=\"24px\"viewBox=\"0 0 24 24\"\n",
              "       width=\"24px\">\n",
              "    <path d=\"M0 0h24v24H0V0z\" fill=\"none\"/>\n",
              "    <path d=\"M18.56 5.44l.94 2.06.94-2.06 2.06-.94-2.06-.94-.94-2.06-.94 2.06-2.06.94zm-11 1L8.5 8.5l.94-2.06 2.06-.94-2.06-.94L8.5 2.5l-.94 2.06-2.06.94zm10 10l.94 2.06.94-2.06 2.06-.94-2.06-.94-.94-2.06-.94 2.06-2.06.94z\"/><path d=\"M17.41 7.96l-1.37-1.37c-.4-.4-.92-.59-1.43-.59-.52 0-1.04.2-1.43.59L10.3 9.45l-7.72 7.72c-.78.78-.78 2.05 0 2.83L4 21.41c.39.39.9.59 1.41.59.51 0 1.02-.2 1.41-.59l7.78-7.78 2.81-2.81c.8-.78.8-2.07 0-2.86zM5.41 20L4 18.59l7.72-7.72 1.47 1.35L5.41 20z\"/>\n",
              "  </svg>\n",
              "      </button>\n",
              "      \n",
              "  <style>\n",
              "    .colab-df-container {\n",
              "      display:flex;\n",
              "      flex-wrap:wrap;\n",
              "      gap: 12px;\n",
              "    }\n",
              "\n",
              "    .colab-df-convert {\n",
              "      background-color: #E8F0FE;\n",
              "      border: none;\n",
              "      border-radius: 50%;\n",
              "      cursor: pointer;\n",
              "      display: none;\n",
              "      fill: #1967D2;\n",
              "      height: 32px;\n",
              "      padding: 0 0 0 0;\n",
              "      width: 32px;\n",
              "    }\n",
              "\n",
              "    .colab-df-convert:hover {\n",
              "      background-color: #E2EBFA;\n",
              "      box-shadow: 0px 1px 2px rgba(60, 64, 67, 0.3), 0px 1px 3px 1px rgba(60, 64, 67, 0.15);\n",
              "      fill: #174EA6;\n",
              "    }\n",
              "\n",
              "    [theme=dark] .colab-df-convert {\n",
              "      background-color: #3B4455;\n",
              "      fill: #D2E3FC;\n",
              "    }\n",
              "\n",
              "    [theme=dark] .colab-df-convert:hover {\n",
              "      background-color: #434B5C;\n",
              "      box-shadow: 0px 1px 3px 1px rgba(0, 0, 0, 0.15);\n",
              "      filter: drop-shadow(0px 1px 2px rgba(0, 0, 0, 0.3));\n",
              "      fill: #FFFFFF;\n",
              "    }\n",
              "  </style>\n",
              "\n",
              "      <script>\n",
              "        const buttonEl =\n",
              "          document.querySelector('#df-1d09ee2f-ced7-400d-82f9-bd199bac0853 button.colab-df-convert');\n",
              "        buttonEl.style.display =\n",
              "          google.colab.kernel.accessAllowed ? 'block' : 'none';\n",
              "\n",
              "        async function convertToInteractive(key) {\n",
              "          const element = document.querySelector('#df-1d09ee2f-ced7-400d-82f9-bd199bac0853');\n",
              "          const dataTable =\n",
              "            await google.colab.kernel.invokeFunction('convertToInteractive',\n",
              "                                                     [key], {});\n",
              "          if (!dataTable) return;\n",
              "\n",
              "          const docLinkHtml = 'Like what you see? Visit the ' +\n",
              "            '<a target=\"_blank\" href=https://colab.research.google.com/notebooks/data_table.ipynb>data table notebook</a>'\n",
              "            + ' to learn more about interactive tables.';\n",
              "          element.innerHTML = '';\n",
              "          dataTable['output_type'] = 'display_data';\n",
              "          await google.colab.output.renderOutput(dataTable, element);\n",
              "          const docLink = document.createElement('div');\n",
              "          docLink.innerHTML = docLinkHtml;\n",
              "          element.appendChild(docLink);\n",
              "        }\n",
              "      </script>\n",
              "    </div>\n",
              "  </div>\n",
              "  "
            ]
          },
          "metadata": {},
          "execution_count": 12
        }
      ]
    },
    {
      "cell_type": "code",
      "source": [
        "data.shape"
      ],
      "metadata": {
        "colab": {
          "base_uri": "https://localhost:8080/"
        },
        "id": "fIy0T31s3IBE",
        "outputId": "8fa5f23d-113e-47e1-9f09-720d6e484249"
      },
      "execution_count": 13,
      "outputs": [
        {
          "output_type": "execute_result",
          "data": {
            "text/plain": [
              "(2225, 4)"
            ]
          },
          "metadata": {},
          "execution_count": 13
        }
      ]
    },
    {
      "cell_type": "code",
      "source": [
        "data.label.value_counts()"
      ],
      "metadata": {
        "colab": {
          "base_uri": "https://localhost:8080/"
        },
        "id": "aRPUWXBM3RvA",
        "outputId": "036d4272-0be2-4e6d-c20e-3cf395e351e2"
      },
      "execution_count": 14,
      "outputs": [
        {
          "output_type": "execute_result",
          "data": {
            "text/plain": [
              "sport            511\n",
              "business         510\n",
              "politics         417\n",
              "tech             401\n",
              "entertainment    386\n",
              "Name: label, dtype: int64"
            ]
          },
          "metadata": {},
          "execution_count": 14
        }
      ]
    },
    {
      "cell_type": "code",
      "source": [
        "data.label.unique()"
      ],
      "metadata": {
        "colab": {
          "base_uri": "https://localhost:8080/"
        },
        "id": "Ml7FkIhn4LLJ",
        "outputId": "ef0e99f6-d2e3-4b7a-ee1f-0b5602bcb999"
      },
      "execution_count": 15,
      "outputs": [
        {
          "output_type": "execute_result",
          "data": {
            "text/plain": [
              "array(['business', 'entertainment', 'politics', 'sport', 'tech'],\n",
              "      dtype=object)"
            ]
          },
          "metadata": {},
          "execution_count": 15
        }
      ]
    },
    {
      "cell_type": "code",
      "source": [
        "#define Seaborn color palette to use\n",
        "colors = sns.color_palette('husl')\n",
        "plt.pie(data.label.value_counts(),labels= ['sport','business','politics','tech','entertainment'],colors=colors,autopct='%0.1f%%')\n",
        "plt.show()"
      ],
      "metadata": {
        "colab": {
          "base_uri": "https://localhost:8080/",
          "height": 406
        },
        "id": "mK59KsfX3Uee",
        "outputId": "ade74b85-b11f-48c6-a233-ce9dbc836899"
      },
      "execution_count": 16,
      "outputs": [
        {
          "output_type": "display_data",
          "data": {
            "text/plain": [
              "<Figure size 640x480 with 1 Axes>"
            ],
            "image/png": "[encoded data removed]"
          },
          "metadata": {}
        }
      ]
    },
    {
      "cell_type": "markdown",
      "source": [
        "# Feature Engineering"
      ],
      "metadata": {
        "id": "Wxj0JScp6rTU"
      }
    },
    {
      "cell_type": "code",
      "source": [
        "# !pip install gensim\n",
        "# !pip install nltk"
      ],
      "metadata": {
        "id": "bboLqJ0t6rys"
      },
      "execution_count": 17,
      "outputs": []
    },
    {
      "cell_type": "markdown",
      "source": [
        "**Concatenating all the text**"
      ],
      "metadata": {
        "id": "TjHjyGHv9TFh"
      }
    },
    {
      "cell_type": "code",
      "source": [
        "data['content'] = data['title']+' '+data['news']"
      ],
      "metadata": {
        "id": "hedKlll46t2T"
      },
      "execution_count": 18,
      "outputs": []
    },
    {
      "cell_type": "code",
      "source": [
        "data.info()"
      ],
      "metadata": {
        "colab": {
          "base_uri": "https://localhost:8080/"
        },
        "id": "Vu8GvZ9P_ebi",
        "outputId": "a17775d7-f3a8-437e-b5e8-778ac4207857"
      },
      "execution_count": 19,
      "outputs": [
        {
          "output_type": "stream",
          "name": "stdout",
          "text": [
            "<class 'pandas.core.frame.DataFrame'>\n",
            "RangeIndex: 2225 entries, 0 to 2224\n",
            "Data columns (total 5 columns):\n",
            " #   Column     Non-Null Count  Dtype \n",
            "---  ------     --------------  ----- \n",
            " 0   File Name  2225 non-null   object\n",
            " 1   title      2225 non-null   object\n",
            " 2   news       2225 non-null   object\n",
            " 3   label      2225 non-null   object\n",
            " 4   content    2225 non-null   object\n",
            "dtypes: object(5)\n",
            "memory usage: 87.0+ KB\n"
          ]
        }
      ]
    },
    {
      "cell_type": "code",
      "source": [
        "import gensim\n",
        "import nltk"
      ],
      "metadata": {
        "id": "CU_i7TUZSlK-"
      },
      "execution_count": 20,
      "outputs": []
    },
    {
      "cell_type": "markdown",
      "source": [
        "**Tokenizing the texts**"
      ],
      "metadata": {
        "id": "wYvW_Yg4DNMu"
      }
    },
    {
      "cell_type": "code",
      "source": [
        "data['tokens'] = data.content.apply(gensim.utils.simple_preprocess)\n",
        "data['tokens'] = data.tokens.apply(lambda x: ' '.join(x))"
      ],
      "metadata": {
        "id": "ZEUBUCyqSu8w"
      },
      "execution_count": 21,
      "outputs": []
    },
    {
      "cell_type": "code",
      "source": [
        "data.info()"
      ],
      "metadata": {
        "colab": {
          "base_uri": "https://localhost:8080/"
        },
        "id": "ocb-XMKMTBGU",
        "outputId": "01aa39fd-5ce3-4750-942e-6c9458546484"
      },
      "execution_count": 22,
      "outputs": [
        {
          "output_type": "stream",
          "name": "stdout",
          "text": [
            "<class 'pandas.core.frame.DataFrame'>\n",
            "RangeIndex: 2225 entries, 0 to 2224\n",
            "Data columns (total 6 columns):\n",
            " #   Column     Non-Null Count  Dtype \n",
            "---  ------     --------------  ----- \n",
            " 0   File Name  2225 non-null   object\n",
            " 1   title      2225 non-null   object\n",
            " 2   news       2225 non-null   object\n",
            " 3   label      2225 non-null   object\n",
            " 4   content    2225 non-null   object\n",
            " 5   tokens     2225 non-null   object\n",
            "dtypes: object(6)\n",
            "memory usage: 104.4+ KB\n"
          ]
        }
      ]
    },
    {
      "cell_type": "code",
      "source": [
        "from sklearn.preprocessing import LabelEncoder\n",
        "le = LabelEncoder()\n",
        "data['y'] = le.fit_transform(data.label)"
      ],
      "metadata": {
        "id": "eXKPWrmza9pM"
      },
      "execution_count": 23,
      "outputs": []
    },
    {
      "cell_type": "markdown",
      "source": [
        "After label encoding:\n",
        "\n",
        "The encoded values of each class is:\n",
        "\n",
        "1. Business : 0\n",
        "2. Entertainment : 1\n",
        "3. Politics : 2\n",
        "4. Sport : 3\n",
        "5. Tech : 4"
      ],
      "metadata": {
        "id": "FDkfQiS_Hkbg"
      }
    },
    {
      "cell_type": "code",
      "source": [
        "data.head()"
      ],
      "metadata": {
        "colab": {
          "base_uri": "https://localhost:8080/",
          "height": 441
        },
        "id": "bdWH7z_SbYwp",
        "outputId": "a12fb521-d805-4c24-c96f-c208c5b1f4cc"
      },
      "execution_count": 24,
      "outputs": [
        {
          "output_type": "execute_result",
          "data": {
            "text/plain": [
              "  File Name                              title  \\\n",
              "0   001.txt  Ad sales boost Time Warner profit   \n",
              "1   002.txt   Dollar gains on Greenspan speech   \n",
              "2   003.txt  Yukos unit buyer faces loan claim   \n",
              "3   004.txt  High fuel prices hit BA's profits   \n",
              "4   005.txt  Pernod takeover talk lifts Domecq   \n",
              "\n",
              "                                                news     label  \\\n",
              "0  Quarterly profits at US media giant TimeWarner...  business   \n",
              "1  The dollar has hit its highest level against t...  business   \n",
              "2  The owners of embattled Russian oil giant Yuko...  business   \n",
              "3  British Airways has blamed high fuel prices fo...  business   \n",
              "4  Shares in UK drinks and food firm Allied Domec...  business   \n",
              "\n",
              "                                             content  \\\n",
              "0  Ad sales boost Time Warner profit Quarterly pr...   \n",
              "1  Dollar gains on Greenspan speech The dollar ha...   \n",
              "2  Yukos unit buyer faces loan claim The owners o...   \n",
              "3  High fuel prices hit BA's profits British Airw...   \n",
              "4  Pernod takeover talk lifts Domecq Shares in UK...   \n",
              "\n",
              "                                              tokens  y  \n",
              "0  ad sales boost time warner profit quarterly pr...  0  \n",
              "1  dollar gains on greenspan speech the dollar ha...  0  \n",
              "2  yukos unit buyer faces loan claim the owners o...  0  \n",
              "3  high fuel prices hit ba profits british airway...  0  \n",
              "4  pernod takeover talk lifts domecq shares in uk...  0  "
            ],
            "text/html": [
              "\n",
              "  <div id=\"df-9a46aeae-f8cf-447d-9596-77d6bf871663\">\n",
              "    <div class=\"colab-df-container\">\n",
              "      <div>\n",
              "<style scoped>\n",
              "    .dataframe tbody tr th:only-of-type {\n",
              "        vertical-align: middle;\n",
              "    }\n",
              "\n",
              "    .dataframe tbody tr th {\n",
              "        vertical-align: top;\n",
              "    }\n",
              "\n",
              "    .dataframe thead th {\n",
              "        text-align: right;\n",
              "    }\n",
              "</style>\n",
              "<table border=\"1\" class=\"dataframe\">\n",
              "  <thead>\n",
              "    <tr style=\"text-align: right;\">\n",
              "      <th></th>\n",
              "      <th>File Name</th>\n",
              "      <th>title</th>\n",
              "      <th>news</th>\n",
              "      <th>label</th>\n",
              "      <th>content</th>\n",
              "      <th>tokens</th>\n",
              "      <th>y</th>\n",
              "    </tr>\n",
              "  </thead>\n",
              "  <tbody>\n",
              "    <tr>\n",
              "      <th>0</th>\n",
              "      <td>001.txt</td>\n",
              "      <td>Ad sales boost Time Warner profit</td>\n",
              "      <td>Quarterly profits at US media giant TimeWarner...</td>\n",
              "      <td>business</td>\n",
              "      <td>Ad sales boost Time Warner profit Quarterly pr...</td>\n",
              "      <td>ad sales boost time warner profit quarterly pr...</td>\n",
              "      <td>0</td>\n",
              "    </tr>\n",
              "    <tr>\n",
              "      <th>1</th>\n",
              "      <td>002.txt</td>\n",
              "      <td>Dollar gains on Greenspan speech</td>\n",
              "      <td>The dollar has hit its highest level against t...</td>\n",
              "      <td>business</td>\n",
              "      <td>Dollar gains on Greenspan speech The dollar ha...</td>\n",
              "      <td>dollar gains on greenspan speech the dollar ha...</td>\n",
              "      <td>0</td>\n",
              "    </tr>\n",
              "    <tr>\n",
              "      <th>2</th>\n",
              "      <td>003.txt</td>\n",
              "      <td>Yukos unit buyer faces loan claim</td>\n",
              "      <td>The owners of embattled Russian oil giant Yuko...</td>\n",
              "      <td>business</td>\n",
              "      <td>Yukos unit buyer faces loan claim The owners o...</td>\n",
              "      <td>yukos unit buyer faces loan claim the owners o...</td>\n",
              "      <td>0</td>\n",
              "    </tr>\n",
              "    <tr>\n",
              "      <th>3</th>\n",
              "      <td>004.txt</td>\n",
              "      <td>High fuel prices hit BA's profits</td>\n",
              "      <td>British Airways has blamed high fuel prices fo...</td>\n",
              "      <td>business</td>\n",
              "      <td>High fuel prices hit BA's profits British Airw...</td>\n",
              "      <td>high fuel prices hit ba profits british airway...</td>\n",
              "      <td>0</td>\n",
              "    </tr>\n",
              "    <tr>\n",
              "      <th>4</th>\n",
              "      <td>005.txt</td>\n",
              "      <td>Pernod takeover talk lifts Domecq</td>\n",
              "      <td>Shares in UK drinks and food firm Allied Domec...</td>\n",
              "      <td>business</td>\n",
              "      <td>Pernod takeover talk lifts Domecq Shares in UK...</td>\n",
              "      <td>pernod takeover talk lifts domecq shares in uk...</td>\n",
              "      <td>0</td>\n",
              "    </tr>\n",
              "  </tbody>\n",
              "</table>\n",
              "</div>\n",
              "      <button class=\"colab-df-convert\" onclick=\"convertToInteractive('df-9a46aeae-f8cf-447d-9596-77d6bf871663')\"\n",
              "              title=\"Convert this dataframe to an interactive table.\"\n",
              "              style=\"display:none;\">\n",
              "        \n",
              "  <svg xmlns=\"http://www.w3.org/2000/svg\" height=\"24px\"viewBox=\"0 0 24 24\"\n",
              "       width=\"24px\">\n",
              "    <path d=\"M0 0h24v24H0V0z\" fill=\"none\"/>\n",
              "    <path d=\"M18.56 5.44l.94 2.06.94-2.06 2.06-.94-2.06-.94-.94-2.06-.94 2.06-2.06.94zm-11 1L8.5 8.5l.94-2.06 2.06-.94-2.06-.94L8.5 2.5l-.94 2.06-2.06.94zm10 10l.94 2.06.94-2.06 2.06-.94-2.06-.94-.94-2.06-.94 2.06-2.06.94z\"/><path d=\"M17.41 7.96l-1.37-1.37c-.4-.4-.92-.59-1.43-.59-.52 0-1.04.2-1.43.59L10.3 9.45l-7.72 7.72c-.78.78-.78 2.05 0 2.83L4 21.41c.39.39.9.59 1.41.59.51 0 1.02-.2 1.41-.59l7.78-7.78 2.81-2.81c.8-.78.8-2.07 0-2.86zM5.41 20L4 18.59l7.72-7.72 1.47 1.35L5.41 20z\"/>\n",
              "  </svg>\n",
              "      </button>\n",
              "      \n",
              "  <style>\n",
              "    .colab-df-container {\n",
              "      display:flex;\n",
              "      flex-wrap:wrap;\n",
              "      gap: 12px;\n",
              "    }\n",
              "\n",
              "    .colab-df-convert {\n",
              "      background-color: #E8F0FE;\n",
              "      border: none;\n",
              "      border-radius: 50%;\n",
              "      cursor: pointer;\n",
              "      display: none;\n",
              "      fill: #1967D2;\n",
              "      height: 32px;\n",
              "      padding: 0 0 0 0;\n",
              "      width: 32px;\n",
              "    }\n",
              "\n",
              "    .colab-df-convert:hover {\n",
              "      background-color: #E2EBFA;\n",
              "      box-shadow: 0px 1px 2px rgba(60, 64, 67, 0.3), 0px 1px 3px 1px rgba(60, 64, 67, 0.15);\n",
              "      fill: #174EA6;\n",
              "    }\n",
              "\n",
              "    [theme=dark] .colab-df-convert {\n",
              "      background-color: #3B4455;\n",
              "      fill: #D2E3FC;\n",
              "    }\n",
              "\n",
              "    [theme=dark] .colab-df-convert:hover {\n",
              "      background-color: #434B5C;\n",
              "      box-shadow: 0px 1px 3px 1px rgba(0, 0, 0, 0.15);\n",
              "      filter: drop-shadow(0px 1px 2px rgba(0, 0, 0, 0.3));\n",
              "      fill: #FFFFFF;\n",
              "    }\n",
              "  </style>\n",
              "\n",
              "      <script>\n",
              "        const buttonEl =\n",
              "          document.querySelector('#df-9a46aeae-f8cf-447d-9596-77d6bf871663 button.colab-df-convert');\n",
              "        buttonEl.style.display =\n",
              "          google.colab.kernel.accessAllowed ? 'block' : 'none';\n",
              "\n",
              "        async function convertToInteractive(key) {\n",
              "          const element = document.querySelector('#df-9a46aeae-f8cf-447d-9596-77d6bf871663');\n",
              "          const dataTable =\n",
              "            await google.colab.kernel.invokeFunction('convertToInteractive',\n",
              "                                                     [key], {});\n",
              "          if (!dataTable) return;\n",
              "\n",
              "          const docLinkHtml = 'Like what you see? Visit the ' +\n",
              "            '<a target=\"_blank\" href=https://colab.research.google.com/notebooks/data_table.ipynb>data table notebook</a>'\n",
              "            + ' to learn more about interactive tables.';\n",
              "          element.innerHTML = '';\n",
              "          dataTable['output_type'] = 'display_data';\n",
              "          await google.colab.output.renderOutput(dataTable, element);\n",
              "          const docLink = document.createElement('div');\n",
              "          docLink.innerHTML = docLinkHtml;\n",
              "          element.appendChild(docLink);\n",
              "        }\n",
              "      </script>\n",
              "    </div>\n",
              "  </div>\n",
              "  "
            ]
          },
          "metadata": {},
          "execution_count": 24
        }
      ]
    },
    {
      "cell_type": "markdown",
      "source": [
        "**Stemming**"
      ],
      "metadata": {
        "id": "M3MPNI4dDsej"
      }
    },
    {
      "cell_type": "code",
      "source": [
        "from nltk.stem.porter import PorterStemmer\n",
        "ps = PorterStemmer()\n",
        "data['tokens'] = data.tokens.apply(lambda x: ' '.join([ps.stem(y) for y in x.split()]))"
      ],
      "metadata": {
        "id": "QA2CEHzbdsnW"
      },
      "execution_count": 25,
      "outputs": []
    },
    {
      "cell_type": "code",
      "source": [
        "from sklearn.model_selection import train_test_split\n",
        "X_train,X_test,y_train,y_test = train_test_split(data.tokens, data.y, test_size = 0.3, random_state = 42)"
      ],
      "metadata": {
        "id": "zWS4sWwqlXYc"
      },
      "execution_count": 26,
      "outputs": []
    },
    {
      "cell_type": "markdown",
      "source": [
        "Saving the Training and Testing data"
      ],
      "metadata": {
        "id": "annvGvt4JII8"
      }
    },
    {
      "cell_type": "code",
      "source": [
        "Train = pd.DataFrame(X_train)\n",
        "Train['label'] = y_train\n",
        "\n",
        "Train.to_csv('Train.csv', index=False)\n",
        "\n",
        "Test = pd.DataFrame(X_test)\n",
        "Test['label'] = y_test\n",
        "\n",
        "Test.to_csv('Test.csv', index=False)"
      ],
      "metadata": {
        "id": "RKge3dZ8F2IF"
      },
      "execution_count": 27,
      "outputs": []
    },
    {
      "cell_type": "code",
      "source": [],
      "metadata": {
        "id": "KZ6K3SsUI60-"
      },
      "execution_count": 27,
      "outputs": []
    },
    {
      "cell_type": "code",
      "source": [
        "X_train.shape, X_test.shape"
      ],
      "metadata": {
        "colab": {
          "base_uri": "https://localhost:8080/"
        },
        "id": "IvlKqSbimFUQ",
        "outputId": "8d72c4ca-07f8-4a24-ca13-0ab8cef6bfe8"
      },
      "execution_count": 28,
      "outputs": [
        {
          "output_type": "execute_result",
          "data": {
            "text/plain": [
              "((1557,), (668,))"
            ]
          },
          "metadata": {},
          "execution_count": 28
        }
      ]
    },
    {
      "cell_type": "markdown",
      "source": [
        "# Model Building and Evaluation"
      ],
      "metadata": {
        "id": "oAz4TuPO5yEt"
      }
    },
    {
      "cell_type": "code",
      "source": [
        "from sklearn.feature_extraction.text import CountVectorizer\n",
        "from sklearn.preprocessing import MaxAbsScaler\n",
        "from sklearn.pipeline import Pipeline"
      ],
      "metadata": {
        "id": "0ISF-Mjd5L25"
      },
      "execution_count": 29,
      "outputs": []
    },
    {
      "cell_type": "markdown",
      "source": [
        "**Multinomial Naive Bayes**"
      ],
      "metadata": {
        "id": "gUGBELxcD2N6"
      }
    },
    {
      "cell_type": "code",
      "source": [
        "from sklearn.naive_bayes import MultinomialNB\n",
        "\n",
        "#Define the pipeline\n",
        "pipeline = Pipeline([\n",
        "    ('vectorizer', CountVectorizer(max_features=3000)),  # CountVectorizer for text to vector conversion\n",
        "    ('scaler', MaxAbsScaler()),  # MaxAbsScaler for feature scaling\n",
        "    ('naive_bayes', MultinomialNB())  # Naive Bayes classifier\n",
        "])\n",
        "\n",
        "# Fit and transform the pipeline on the training data\n",
        "pipeline.fit(X_train, y_train)\n",
        "\n",
        "# Predict on new data\n",
        "y_pred = pipeline.predict(X_test)\n"
      ],
      "metadata": {
        "id": "QXFIyv43iTAx"
      },
      "execution_count": 30,
      "outputs": []
    },
    {
      "cell_type": "code",
      "source": [
        "from sklearn.metrics import accuracy_score, f1_score, classification_report, confusion_matrix\n",
        "print(f\"The accuracy of the {pipeline.steps[2][1].__class__.__name__} is : {round(accuracy_score(y_test, y_pred)*100,2)}% and The f1-score of the model is : {round(f1_score(y_test, y_pred, average = 'macro')*100, 2)}%\")"
      ],
      "metadata": {
        "colab": {
          "base_uri": "https://localhost:8080/"
        },
        "id": "3hVoZwVa5cFG",
        "outputId": "5c7f705b-34d3-4899-a58e-f74d33ea92cd"
      },
      "execution_count": 31,
      "outputs": [
        {
          "output_type": "stream",
          "name": "stdout",
          "text": [
            "The accuracy of the MultinomialNB is : 95.06% and The f1-score of the model is : 95.08%\n"
          ]
        }
      ]
    },
    {
      "cell_type": "code",
      "source": [
        "print(f\"The confusion matrix for {pipeline.steps[2][1].__class__.__name__} is:\\n {confusion_matrix(y_test, y_pred)}\")"
      ],
      "metadata": {
        "colab": {
          "base_uri": "https://localhost:8080/"
        },
        "id": "E6WmchpW6NgQ",
        "outputId": "7af5c4ce-4506-4575-93fb-063ae0749e38"
      },
      "execution_count": 32,
      "outputs": [
        {
          "output_type": "stream",
          "name": "stdout",
          "text": [
            "The confusion matrix for MultinomialNB is:\n",
            " [[153   2   6   0   4]\n",
            " [  4 110   3   0   1]\n",
            " [  4   0 115   0   1]\n",
            " [  1   0   1 138   0]\n",
            " [  2   3   1   0 119]]\n"
          ]
        }
      ]
    },
    {
      "cell_type": "code",
      "source": [
        "print(classification_report(y_test, y_pred))"
      ],
      "metadata": {
        "colab": {
          "base_uri": "https://localhost:8080/"
        },
        "id": "1m8U2ELl5fEp",
        "outputId": "8eef4fc4-736d-487f-c601-5a47f5210747"
      },
      "execution_count": 33,
      "outputs": [
        {
          "output_type": "stream",
          "name": "stdout",
          "text": [
            "              precision    recall  f1-score   support\n",
            "\n",
            "           0       0.93      0.93      0.93       165\n",
            "           1       0.96      0.93      0.94       118\n",
            "           2       0.91      0.96      0.93       120\n",
            "           3       1.00      0.99      0.99       140\n",
            "           4       0.95      0.95      0.95       125\n",
            "\n",
            "    accuracy                           0.95       668\n",
            "   macro avg       0.95      0.95      0.95       668\n",
            "weighted avg       0.95      0.95      0.95       668\n",
            "\n"
          ]
        }
      ]
    },
    {
      "cell_type": "markdown",
      "source": [
        "**Bernoulli Naive Bayes**"
      ],
      "metadata": {
        "id": "_fawzYfMD-9t"
      }
    },
    {
      "cell_type": "code",
      "source": [
        "from sklearn.naive_bayes import BernoulliNB\n",
        "\n",
        "#Define the pipeline\n",
        "pipeline = Pipeline([\n",
        "    ('vectorizer', CountVectorizer(max_features=3000)),  # CountVectorizer for text to vector conversion\n",
        "    ('scaler', MaxAbsScaler()),  # MaxAbsScaler for feature scaling\n",
        "    ('naive_bayes', BernoulliNB())  # Naive Bayes classifier\n",
        "])\n",
        "\n",
        "# Fit and transform the pipeline on the training data\n",
        "pipeline.fit(X_train, y_train)\n",
        "\n",
        "# Predict on new data\n",
        "y_pred = pipeline.predict(X_test)\n"
      ],
      "metadata": {
        "id": "V0yMeK2orube"
      },
      "execution_count": 34,
      "outputs": []
    },
    {
      "cell_type": "code",
      "source": [
        "from sklearn.metrics import accuracy_score, f1_score, classification_report, confusion_matrix\n",
        "print(f\"The accuracy of the {pipeline.steps[2][1].__class__.__name__} is : {round(accuracy_score(y_test, y_pred)*100,2)}% and The f1-score of the model is : {round(f1_score(y_test, y_pred, average = 'macro')*100, 2)}%\")"
      ],
      "metadata": {
        "colab": {
          "base_uri": "https://localhost:8080/"
        },
        "id": "9PksC3Mj5giu",
        "outputId": "fc61623b-87ac-4685-bad6-2da428327b93"
      },
      "execution_count": 35,
      "outputs": [
        {
          "output_type": "stream",
          "name": "stdout",
          "text": [
            "The accuracy of the BernoulliNB is : 94.31% and The f1-score of the model is : 94.33%\n"
          ]
        }
      ]
    },
    {
      "cell_type": "code",
      "source": [
        "print(f\"The confusion matrix for {pipeline.steps[2][1].__class__.__name__} is:\\n {confusion_matrix(y_test, y_pred)}\")"
      ],
      "metadata": {
        "colab": {
          "base_uri": "https://localhost:8080/"
        },
        "id": "Dzgwcs3a6L5h",
        "outputId": "8b35da26-f4a9-4035-e442-94c663e306ef"
      },
      "execution_count": 36,
      "outputs": [
        {
          "output_type": "stream",
          "name": "stdout",
          "text": [
            "The confusion matrix for BernoulliNB is:\n",
            " [[158   1   5   0   1]\n",
            " [  2 112   1   0   3]\n",
            " [  8   2 108   2   0]\n",
            " [  1   0   0 139   0]\n",
            " [  9   3   0   0 113]]\n"
          ]
        }
      ]
    },
    {
      "cell_type": "code",
      "source": [
        "print(classification_report(y_test, y_pred))"
      ],
      "metadata": {
        "colab": {
          "base_uri": "https://localhost:8080/"
        },
        "id": "9JCDBbnX5h_9",
        "outputId": "0a19bee1-deb7-47db-bc7c-899a850c30cc"
      },
      "execution_count": 37,
      "outputs": [
        {
          "output_type": "stream",
          "name": "stdout",
          "text": [
            "              precision    recall  f1-score   support\n",
            "\n",
            "           0       0.89      0.96      0.92       165\n",
            "           1       0.95      0.95      0.95       118\n",
            "           2       0.95      0.90      0.92       120\n",
            "           3       0.99      0.99      0.99       140\n",
            "           4       0.97      0.90      0.93       125\n",
            "\n",
            "    accuracy                           0.94       668\n",
            "   macro avg       0.95      0.94      0.94       668\n",
            "weighted avg       0.94      0.94      0.94       668\n",
            "\n"
          ]
        }
      ]
    },
    {
      "cell_type": "code",
      "source": [],
      "metadata": {
        "id": "1GefVKYREHKr"
      },
      "execution_count": 37,
      "outputs": []
    }
  ]
}