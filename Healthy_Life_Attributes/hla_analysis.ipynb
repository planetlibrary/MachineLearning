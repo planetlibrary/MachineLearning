{
 "cells": [
  {
   "cell_type": "code",
   "execution_count": 1,
   "metadata": {
    "id": "p29ebildn2Rl"
   },
   "outputs": [],
   "source": [
    "# Focal cell:\n",
    "import pandas as pd\n",
    "import numpy as np\n",
    "from matplotlib import pyplot as plt\n",
    "import seaborn as sns\n",
    "import warnings\n",
    "\n",
    "warnings.filterwarnings(action='ignore')\n"
   ]
  },
  {
   "cell_type": "markdown",
   "metadata": {},
   "source": [
    "# Data Loading"
   ]
  },
  {
   "cell_type": "code",
   "execution_count": 2,
   "metadata": {
    "colab": {
     "base_uri": "https://localhost:8080/",
     "height": 386
    },
    "id": "iLMtJlYfqfxm",
    "outputId": "be0dd90a-29ef-4cf6-fd7e-c9eb3e884538"
   },
   "outputs": [
    {
     "data": {
      "text/html": [
       "<div>\n",
       "<style scoped>\n",
       "    .dataframe tbody tr th:only-of-type {\n",
       "        vertical-align: middle;\n",
       "    }\n",
       "\n",
       "    .dataframe tbody tr th {\n",
       "        vertical-align: top;\n",
       "    }\n",
       "\n",
       "    .dataframe thead th {\n",
       "        text-align: right;\n",
       "    }\n",
       "</style>\n",
       "<table border=\"1\" class=\"dataframe\">\n",
       "  <thead>\n",
       "    <tr style=\"text-align: right;\">\n",
       "      <th></th>\n",
       "      <th>Timestamp</th>\n",
       "      <th>FRUITS_VEGGIES</th>\n",
       "      <th>DAILY_STRESS</th>\n",
       "      <th>PLACES_VISITED</th>\n",
       "      <th>CORE_CIRCLE</th>\n",
       "      <th>SUPPORTING_OTHERS</th>\n",
       "      <th>SOCIAL_NETWORK</th>\n",
       "      <th>ACHIEVEMENT</th>\n",
       "      <th>DONATION</th>\n",
       "      <th>BMI_RANGE</th>\n",
       "      <th>...</th>\n",
       "      <th>SLEEP_HOURS</th>\n",
       "      <th>LOST_VACATION</th>\n",
       "      <th>DAILY_SHOUTING</th>\n",
       "      <th>SUFFICIENT_INCOME</th>\n",
       "      <th>PERSONAL_AWARDS</th>\n",
       "      <th>TIME_FOR_PASSION</th>\n",
       "      <th>WEEKLY_MEDITATION</th>\n",
       "      <th>AGE</th>\n",
       "      <th>GENDER</th>\n",
       "      <th>WORK_LIFE_BALANCE_SCORE</th>\n",
       "    </tr>\n",
       "  </thead>\n",
       "  <tbody>\n",
       "    <tr>\n",
       "      <th>0</th>\n",
       "      <td>7/7/15</td>\n",
       "      <td>3</td>\n",
       "      <td>2</td>\n",
       "      <td>2</td>\n",
       "      <td>5</td>\n",
       "      <td>0</td>\n",
       "      <td>5</td>\n",
       "      <td>2</td>\n",
       "      <td>0</td>\n",
       "      <td>1</td>\n",
       "      <td>...</td>\n",
       "      <td>7</td>\n",
       "      <td>5</td>\n",
       "      <td>5</td>\n",
       "      <td>1</td>\n",
       "      <td>4</td>\n",
       "      <td>0</td>\n",
       "      <td>5</td>\n",
       "      <td>36 to 50</td>\n",
       "      <td>Female</td>\n",
       "      <td>609.5</td>\n",
       "    </tr>\n",
       "    <tr>\n",
       "      <th>1</th>\n",
       "      <td>7/7/15</td>\n",
       "      <td>2</td>\n",
       "      <td>3</td>\n",
       "      <td>4</td>\n",
       "      <td>3</td>\n",
       "      <td>8</td>\n",
       "      <td>10</td>\n",
       "      <td>5</td>\n",
       "      <td>2</td>\n",
       "      <td>2</td>\n",
       "      <td>...</td>\n",
       "      <td>8</td>\n",
       "      <td>2</td>\n",
       "      <td>2</td>\n",
       "      <td>2</td>\n",
       "      <td>3</td>\n",
       "      <td>2</td>\n",
       "      <td>6</td>\n",
       "      <td>36 to 50</td>\n",
       "      <td>Female</td>\n",
       "      <td>655.6</td>\n",
       "    </tr>\n",
       "    <tr>\n",
       "      <th>2</th>\n",
       "      <td>7/7/15</td>\n",
       "      <td>2</td>\n",
       "      <td>3</td>\n",
       "      <td>3</td>\n",
       "      <td>4</td>\n",
       "      <td>4</td>\n",
       "      <td>10</td>\n",
       "      <td>3</td>\n",
       "      <td>2</td>\n",
       "      <td>2</td>\n",
       "      <td>...</td>\n",
       "      <td>8</td>\n",
       "      <td>10</td>\n",
       "      <td>2</td>\n",
       "      <td>2</td>\n",
       "      <td>4</td>\n",
       "      <td>8</td>\n",
       "      <td>3</td>\n",
       "      <td>36 to 50</td>\n",
       "      <td>Female</td>\n",
       "      <td>631.6</td>\n",
       "    </tr>\n",
       "    <tr>\n",
       "      <th>3</th>\n",
       "      <td>7/7/15</td>\n",
       "      <td>3</td>\n",
       "      <td>3</td>\n",
       "      <td>10</td>\n",
       "      <td>3</td>\n",
       "      <td>10</td>\n",
       "      <td>7</td>\n",
       "      <td>2</td>\n",
       "      <td>5</td>\n",
       "      <td>2</td>\n",
       "      <td>...</td>\n",
       "      <td>5</td>\n",
       "      <td>7</td>\n",
       "      <td>5</td>\n",
       "      <td>1</td>\n",
       "      <td>5</td>\n",
       "      <td>2</td>\n",
       "      <td>0</td>\n",
       "      <td>51 or more</td>\n",
       "      <td>Female</td>\n",
       "      <td>622.7</td>\n",
       "    </tr>\n",
       "    <tr>\n",
       "      <th>4</th>\n",
       "      <td>7/7/15</td>\n",
       "      <td>5</td>\n",
       "      <td>1</td>\n",
       "      <td>3</td>\n",
       "      <td>3</td>\n",
       "      <td>10</td>\n",
       "      <td>4</td>\n",
       "      <td>2</td>\n",
       "      <td>4</td>\n",
       "      <td>2</td>\n",
       "      <td>...</td>\n",
       "      <td>7</td>\n",
       "      <td>0</td>\n",
       "      <td>0</td>\n",
       "      <td>2</td>\n",
       "      <td>8</td>\n",
       "      <td>1</td>\n",
       "      <td>5</td>\n",
       "      <td>51 or more</td>\n",
       "      <td>Female</td>\n",
       "      <td>663.9</td>\n",
       "    </tr>\n",
       "  </tbody>\n",
       "</table>\n",
       "<p>5 rows × 24 columns</p>\n",
       "</div>"
      ],
      "text/plain": [
       "  Timestamp  FRUITS_VEGGIES DAILY_STRESS  PLACES_VISITED  CORE_CIRCLE  \\\n",
       "0    7/7/15               3            2               2            5   \n",
       "1    7/7/15               2            3               4            3   \n",
       "2    7/7/15               2            3               3            4   \n",
       "3    7/7/15               3            3              10            3   \n",
       "4    7/7/15               5            1               3            3   \n",
       "\n",
       "   SUPPORTING_OTHERS  SOCIAL_NETWORK  ACHIEVEMENT  DONATION  BMI_RANGE  ...  \\\n",
       "0                  0               5            2         0          1  ...   \n",
       "1                  8              10            5         2          2  ...   \n",
       "2                  4              10            3         2          2  ...   \n",
       "3                 10               7            2         5          2  ...   \n",
       "4                 10               4            2         4          2  ...   \n",
       "\n",
       "   SLEEP_HOURS  LOST_VACATION  DAILY_SHOUTING  SUFFICIENT_INCOME  \\\n",
       "0            7              5               5                  1   \n",
       "1            8              2               2                  2   \n",
       "2            8             10               2                  2   \n",
       "3            5              7               5                  1   \n",
       "4            7              0               0                  2   \n",
       "\n",
       "   PERSONAL_AWARDS  TIME_FOR_PASSION  WEEKLY_MEDITATION         AGE  GENDER  \\\n",
       "0                4                 0                  5    36 to 50  Female   \n",
       "1                3                 2                  6    36 to 50  Female   \n",
       "2                4                 8                  3    36 to 50  Female   \n",
       "3                5                 2                  0  51 or more  Female   \n",
       "4                8                 1                  5  51 or more  Female   \n",
       "\n",
       "   WORK_LIFE_BALANCE_SCORE  \n",
       "0                    609.5  \n",
       "1                    655.6  \n",
       "2                    631.6  \n",
       "3                    622.7  \n",
       "4                    663.9  \n",
       "\n",
       "[5 rows x 24 columns]"
      ]
     },
     "execution_count": 2,
     "metadata": {},
     "output_type": "execute_result"
    }
   ],
   "source": [
    "data = pd.read_csv('Health.csv')\n",
    "data.head()"
   ]
  },
  {
   "cell_type": "code",
   "execution_count": 3,
   "metadata": {
    "colab": {
     "base_uri": "https://localhost:8080/"
    },
    "id": "8pCLYcixrIUp",
    "outputId": "457029cb-af62-4552-8497-94372d42d0aa"
   },
   "outputs": [
    {
     "name": "stdout",
     "output_type": "stream",
     "text": [
      "<class 'pandas.core.frame.DataFrame'>\n",
      "RangeIndex: 15972 entries, 0 to 15971\n",
      "Data columns (total 24 columns):\n",
      " #   Column                   Non-Null Count  Dtype  \n",
      "---  ------                   --------------  -----  \n",
      " 0   Timestamp                15972 non-null  object \n",
      " 1   FRUITS_VEGGIES           15972 non-null  int64  \n",
      " 2   DAILY_STRESS             15972 non-null  object \n",
      " 3   PLACES_VISITED           15972 non-null  int64  \n",
      " 4   CORE_CIRCLE              15972 non-null  int64  \n",
      " 5   SUPPORTING_OTHERS        15972 non-null  int64  \n",
      " 6   SOCIAL_NETWORK           15972 non-null  int64  \n",
      " 7   ACHIEVEMENT              15972 non-null  int64  \n",
      " 8   DONATION                 15972 non-null  int64  \n",
      " 9   BMI_RANGE                15972 non-null  int64  \n",
      " 10  TODO_COMPLETED           15972 non-null  int64  \n",
      " 11  FLOW                     15972 non-null  int64  \n",
      " 12  DAILY_STEPS              15972 non-null  int64  \n",
      " 13  LIVE_VISION              15972 non-null  int64  \n",
      " 14  SLEEP_HOURS              15972 non-null  int64  \n",
      " 15  LOST_VACATION            15972 non-null  int64  \n",
      " 16  DAILY_SHOUTING           15972 non-null  int64  \n",
      " 17  SUFFICIENT_INCOME        15972 non-null  int64  \n",
      " 18  PERSONAL_AWARDS          15972 non-null  int64  \n",
      " 19  TIME_FOR_PASSION         15972 non-null  int64  \n",
      " 20  WEEKLY_MEDITATION        15972 non-null  int64  \n",
      " 21  AGE                      15972 non-null  object \n",
      " 22  GENDER                   15972 non-null  object \n",
      " 23  WORK_LIFE_BALANCE_SCORE  15972 non-null  float64\n",
      "dtypes: float64(1), int64(19), object(4)\n",
      "memory usage: 2.9+ MB\n"
     ]
    }
   ],
   "source": [
    "data.info()"
   ]
  },
  {
   "cell_type": "code",
   "execution_count": 4,
   "metadata": {
    "colab": {
     "base_uri": "https://localhost:8080/",
     "height": 720
    },
    "id": "2j9TntEG2bE-",
    "outputId": "032b90f4-0ca9-467f-c568-a1dcaca7ebc4",
    "tags": []
   },
   "outputs": [
    {
     "data": {
      "text/html": [
       "<div>\n",
       "<style scoped>\n",
       "    .dataframe tbody tr th:only-of-type {\n",
       "        vertical-align: middle;\n",
       "    }\n",
       "\n",
       "    .dataframe tbody tr th {\n",
       "        vertical-align: top;\n",
       "    }\n",
       "\n",
       "    .dataframe thead th {\n",
       "        text-align: right;\n",
       "    }\n",
       "</style>\n",
       "<table border=\"1\" class=\"dataframe\">\n",
       "  <thead>\n",
       "    <tr style=\"text-align: right;\">\n",
       "      <th></th>\n",
       "      <th>count</th>\n",
       "      <th>mean</th>\n",
       "      <th>std</th>\n",
       "      <th>min</th>\n",
       "      <th>25%</th>\n",
       "      <th>50%</th>\n",
       "      <th>75%</th>\n",
       "      <th>max</th>\n",
       "    </tr>\n",
       "  </thead>\n",
       "  <tbody>\n",
       "    <tr>\n",
       "      <th>FRUITS_VEGGIES</th>\n",
       "      <td>15972.0</td>\n",
       "      <td>2.922677</td>\n",
       "      <td>1.442694</td>\n",
       "      <td>0.0</td>\n",
       "      <td>2.0</td>\n",
       "      <td>3.0</td>\n",
       "      <td>4.0</td>\n",
       "      <td>5.0</td>\n",
       "    </tr>\n",
       "    <tr>\n",
       "      <th>PLACES_VISITED</th>\n",
       "      <td>15972.0</td>\n",
       "      <td>5.232970</td>\n",
       "      <td>3.311912</td>\n",
       "      <td>0.0</td>\n",
       "      <td>2.0</td>\n",
       "      <td>5.0</td>\n",
       "      <td>8.0</td>\n",
       "      <td>10.0</td>\n",
       "    </tr>\n",
       "    <tr>\n",
       "      <th>CORE_CIRCLE</th>\n",
       "      <td>15972.0</td>\n",
       "      <td>5.508077</td>\n",
       "      <td>2.840334</td>\n",
       "      <td>0.0</td>\n",
       "      <td>3.0</td>\n",
       "      <td>5.0</td>\n",
       "      <td>8.0</td>\n",
       "      <td>10.0</td>\n",
       "    </tr>\n",
       "    <tr>\n",
       "      <th>SUPPORTING_OTHERS</th>\n",
       "      <td>15972.0</td>\n",
       "      <td>5.616454</td>\n",
       "      <td>3.242021</td>\n",
       "      <td>0.0</td>\n",
       "      <td>3.0</td>\n",
       "      <td>5.0</td>\n",
       "      <td>10.0</td>\n",
       "      <td>10.0</td>\n",
       "    </tr>\n",
       "    <tr>\n",
       "      <th>SOCIAL_NETWORK</th>\n",
       "      <td>15972.0</td>\n",
       "      <td>6.474267</td>\n",
       "      <td>3.086672</td>\n",
       "      <td>0.0</td>\n",
       "      <td>4.0</td>\n",
       "      <td>6.0</td>\n",
       "      <td>10.0</td>\n",
       "      <td>10.0</td>\n",
       "    </tr>\n",
       "    <tr>\n",
       "      <th>ACHIEVEMENT</th>\n",
       "      <td>15972.0</td>\n",
       "      <td>4.000751</td>\n",
       "      <td>2.755837</td>\n",
       "      <td>0.0</td>\n",
       "      <td>2.0</td>\n",
       "      <td>3.0</td>\n",
       "      <td>6.0</td>\n",
       "      <td>10.0</td>\n",
       "    </tr>\n",
       "    <tr>\n",
       "      <th>DONATION</th>\n",
       "      <td>15972.0</td>\n",
       "      <td>2.715314</td>\n",
       "      <td>1.851586</td>\n",
       "      <td>0.0</td>\n",
       "      <td>1.0</td>\n",
       "      <td>3.0</td>\n",
       "      <td>5.0</td>\n",
       "      <td>5.0</td>\n",
       "    </tr>\n",
       "    <tr>\n",
       "      <th>BMI_RANGE</th>\n",
       "      <td>15972.0</td>\n",
       "      <td>1.410656</td>\n",
       "      <td>0.491968</td>\n",
       "      <td>1.0</td>\n",
       "      <td>1.0</td>\n",
       "      <td>1.0</td>\n",
       "      <td>2.0</td>\n",
       "      <td>2.0</td>\n",
       "    </tr>\n",
       "    <tr>\n",
       "      <th>TODO_COMPLETED</th>\n",
       "      <td>15972.0</td>\n",
       "      <td>5.745993</td>\n",
       "      <td>2.624097</td>\n",
       "      <td>0.0</td>\n",
       "      <td>4.0</td>\n",
       "      <td>6.0</td>\n",
       "      <td>8.0</td>\n",
       "      <td>10.0</td>\n",
       "    </tr>\n",
       "    <tr>\n",
       "      <th>FLOW</th>\n",
       "      <td>15972.0</td>\n",
       "      <td>3.194778</td>\n",
       "      <td>2.357518</td>\n",
       "      <td>0.0</td>\n",
       "      <td>1.0</td>\n",
       "      <td>3.0</td>\n",
       "      <td>5.0</td>\n",
       "      <td>10.0</td>\n",
       "    </tr>\n",
       "    <tr>\n",
       "      <th>DAILY_STEPS</th>\n",
       "      <td>15972.0</td>\n",
       "      <td>5.703606</td>\n",
       "      <td>2.891013</td>\n",
       "      <td>1.0</td>\n",
       "      <td>3.0</td>\n",
       "      <td>5.0</td>\n",
       "      <td>8.0</td>\n",
       "      <td>10.0</td>\n",
       "    </tr>\n",
       "    <tr>\n",
       "      <th>LIVE_VISION</th>\n",
       "      <td>15972.0</td>\n",
       "      <td>3.752129</td>\n",
       "      <td>3.230987</td>\n",
       "      <td>0.0</td>\n",
       "      <td>1.0</td>\n",
       "      <td>3.0</td>\n",
       "      <td>5.0</td>\n",
       "      <td>10.0</td>\n",
       "    </tr>\n",
       "    <tr>\n",
       "      <th>SLEEP_HOURS</th>\n",
       "      <td>15972.0</td>\n",
       "      <td>7.042888</td>\n",
       "      <td>1.199044</td>\n",
       "      <td>1.0</td>\n",
       "      <td>6.0</td>\n",
       "      <td>7.0</td>\n",
       "      <td>8.0</td>\n",
       "      <td>10.0</td>\n",
       "    </tr>\n",
       "    <tr>\n",
       "      <th>LOST_VACATION</th>\n",
       "      <td>15972.0</td>\n",
       "      <td>2.898886</td>\n",
       "      <td>3.692180</td>\n",
       "      <td>0.0</td>\n",
       "      <td>0.0</td>\n",
       "      <td>0.0</td>\n",
       "      <td>5.0</td>\n",
       "      <td>10.0</td>\n",
       "    </tr>\n",
       "    <tr>\n",
       "      <th>DAILY_SHOUTING</th>\n",
       "      <td>15972.0</td>\n",
       "      <td>2.930879</td>\n",
       "      <td>2.676301</td>\n",
       "      <td>0.0</td>\n",
       "      <td>1.0</td>\n",
       "      <td>2.0</td>\n",
       "      <td>4.0</td>\n",
       "      <td>10.0</td>\n",
       "    </tr>\n",
       "    <tr>\n",
       "      <th>SUFFICIENT_INCOME</th>\n",
       "      <td>15972.0</td>\n",
       "      <td>1.728963</td>\n",
       "      <td>0.444509</td>\n",
       "      <td>1.0</td>\n",
       "      <td>1.0</td>\n",
       "      <td>2.0</td>\n",
       "      <td>2.0</td>\n",
       "      <td>2.0</td>\n",
       "    </tr>\n",
       "    <tr>\n",
       "      <th>PERSONAL_AWARDS</th>\n",
       "      <td>15972.0</td>\n",
       "      <td>5.711558</td>\n",
       "      <td>3.089630</td>\n",
       "      <td>0.0</td>\n",
       "      <td>3.0</td>\n",
       "      <td>5.0</td>\n",
       "      <td>9.0</td>\n",
       "      <td>10.0</td>\n",
       "    </tr>\n",
       "    <tr>\n",
       "      <th>TIME_FOR_PASSION</th>\n",
       "      <td>15972.0</td>\n",
       "      <td>3.326572</td>\n",
       "      <td>2.729293</td>\n",
       "      <td>0.0</td>\n",
       "      <td>1.0</td>\n",
       "      <td>3.0</td>\n",
       "      <td>5.0</td>\n",
       "      <td>10.0</td>\n",
       "    </tr>\n",
       "    <tr>\n",
       "      <th>WEEKLY_MEDITATION</th>\n",
       "      <td>15972.0</td>\n",
       "      <td>6.233346</td>\n",
       "      <td>3.016571</td>\n",
       "      <td>0.0</td>\n",
       "      <td>4.0</td>\n",
       "      <td>7.0</td>\n",
       "      <td>10.0</td>\n",
       "      <td>10.0</td>\n",
       "    </tr>\n",
       "    <tr>\n",
       "      <th>WORK_LIFE_BALANCE_SCORE</th>\n",
       "      <td>15972.0</td>\n",
       "      <td>666.751503</td>\n",
       "      <td>45.019868</td>\n",
       "      <td>480.0</td>\n",
       "      <td>636.0</td>\n",
       "      <td>667.7</td>\n",
       "      <td>698.5</td>\n",
       "      <td>820.2</td>\n",
       "    </tr>\n",
       "  </tbody>\n",
       "</table>\n",
       "</div>"
      ],
      "text/plain": [
       "                           count        mean        std    min    25%    50%  \\\n",
       "FRUITS_VEGGIES           15972.0    2.922677   1.442694    0.0    2.0    3.0   \n",
       "PLACES_VISITED           15972.0    5.232970   3.311912    0.0    2.0    5.0   \n",
       "CORE_CIRCLE              15972.0    5.508077   2.840334    0.0    3.0    5.0   \n",
       "SUPPORTING_OTHERS        15972.0    5.616454   3.242021    0.0    3.0    5.0   \n",
       "SOCIAL_NETWORK           15972.0    6.474267   3.086672    0.0    4.0    6.0   \n",
       "ACHIEVEMENT              15972.0    4.000751   2.755837    0.0    2.0    3.0   \n",
       "DONATION                 15972.0    2.715314   1.851586    0.0    1.0    3.0   \n",
       "BMI_RANGE                15972.0    1.410656   0.491968    1.0    1.0    1.0   \n",
       "TODO_COMPLETED           15972.0    5.745993   2.624097    0.0    4.0    6.0   \n",
       "FLOW                     15972.0    3.194778   2.357518    0.0    1.0    3.0   \n",
       "DAILY_STEPS              15972.0    5.703606   2.891013    1.0    3.0    5.0   \n",
       "LIVE_VISION              15972.0    3.752129   3.230987    0.0    1.0    3.0   \n",
       "SLEEP_HOURS              15972.0    7.042888   1.199044    1.0    6.0    7.0   \n",
       "LOST_VACATION            15972.0    2.898886   3.692180    0.0    0.0    0.0   \n",
       "DAILY_SHOUTING           15972.0    2.930879   2.676301    0.0    1.0    2.0   \n",
       "SUFFICIENT_INCOME        15972.0    1.728963   0.444509    1.0    1.0    2.0   \n",
       "PERSONAL_AWARDS          15972.0    5.711558   3.089630    0.0    3.0    5.0   \n",
       "TIME_FOR_PASSION         15972.0    3.326572   2.729293    0.0    1.0    3.0   \n",
       "WEEKLY_MEDITATION        15972.0    6.233346   3.016571    0.0    4.0    7.0   \n",
       "WORK_LIFE_BALANCE_SCORE  15972.0  666.751503  45.019868  480.0  636.0  667.7   \n",
       "\n",
       "                           75%    max  \n",
       "FRUITS_VEGGIES             4.0    5.0  \n",
       "PLACES_VISITED             8.0   10.0  \n",
       "CORE_CIRCLE                8.0   10.0  \n",
       "SUPPORTING_OTHERS         10.0   10.0  \n",
       "SOCIAL_NETWORK            10.0   10.0  \n",
       "ACHIEVEMENT                6.0   10.0  \n",
       "DONATION                   5.0    5.0  \n",
       "BMI_RANGE                  2.0    2.0  \n",
       "TODO_COMPLETED             8.0   10.0  \n",
       "FLOW                       5.0   10.0  \n",
       "DAILY_STEPS                8.0   10.0  \n",
       "LIVE_VISION                5.0   10.0  \n",
       "SLEEP_HOURS                8.0   10.0  \n",
       "LOST_VACATION              5.0   10.0  \n",
       "DAILY_SHOUTING             4.0   10.0  \n",
       "SUFFICIENT_INCOME          2.0    2.0  \n",
       "PERSONAL_AWARDS            9.0   10.0  \n",
       "TIME_FOR_PASSION           5.0   10.0  \n",
       "WEEKLY_MEDITATION         10.0   10.0  \n",
       "WORK_LIFE_BALANCE_SCORE  698.5  820.2  "
      ]
     },
     "execution_count": 4,
     "metadata": {},
     "output_type": "execute_result"
    }
   ],
   "source": [
    "# Display the transpose of the descriptive statistics of the data\n",
    "data.describe().T\n"
   ]
  },
  {
   "cell_type": "markdown",
   "metadata": {},
   "source": [
    "**Data Cleaning**"
   ]
  },
  {
   "cell_type": "code",
   "execution_count": 5,
   "metadata": {
    "colab": {
     "base_uri": "https://localhost:8080/"
    },
    "id": "E9kTjLDT3hwz",
    "outputId": "eb88c8be-2493-4124-ce5d-d65c44ea4c46"
   },
   "outputs": [
    {
     "data": {
      "text/plain": [
       "1"
      ]
     },
     "execution_count": 5,
     "metadata": {},
     "output_type": "execute_result"
    }
   ],
   "source": [
    "count = (data['DAILY_STRESS'] == '1/1/00').sum()\n",
    "count"
   ]
  },
  {
   "cell_type": "code",
   "execution_count": 6,
   "metadata": {
    "id": "oEmSBtnv4A1U"
   },
   "outputs": [],
   "source": [
    "# Calculate the mode of the 'DAILY_STRESS' column\n",
    "mode = data['DAILY_STRESS'].mode()[0]\n",
    "mode\n",
    "\n",
    "# Replace '1/1/00' with the mode\n",
    "data.loc[data['DAILY_STRESS'] == '1/1/00', 'DAILY_STRESS'] = mode"
   ]
  },
  {
   "cell_type": "code",
   "execution_count": 7,
   "metadata": {
    "colab": {
     "base_uri": "https://localhost:8080/"
    },
    "id": "jrX4ofPu4MkQ",
    "outputId": "f006acba-002d-49b4-be41-6716bae5f085"
   },
   "outputs": [
    {
     "name": "stdout",
     "output_type": "stream",
     "text": [
      "<class 'pandas.core.frame.DataFrame'>\n",
      "RangeIndex: 15972 entries, 0 to 15971\n",
      "Data columns (total 24 columns):\n",
      " #   Column                   Non-Null Count  Dtype  \n",
      "---  ------                   --------------  -----  \n",
      " 0   Timestamp                15972 non-null  object \n",
      " 1   FRUITS_VEGGIES           15972 non-null  int64  \n",
      " 2   DAILY_STRESS             15972 non-null  object \n",
      " 3   PLACES_VISITED           15972 non-null  int64  \n",
      " 4   CORE_CIRCLE              15972 non-null  int64  \n",
      " 5   SUPPORTING_OTHERS        15972 non-null  int64  \n",
      " 6   SOCIAL_NETWORK           15972 non-null  int64  \n",
      " 7   ACHIEVEMENT              15972 non-null  int64  \n",
      " 8   DONATION                 15972 non-null  int64  \n",
      " 9   BMI_RANGE                15972 non-null  int64  \n",
      " 10  TODO_COMPLETED           15972 non-null  int64  \n",
      " 11  FLOW                     15972 non-null  int64  \n",
      " 12  DAILY_STEPS              15972 non-null  int64  \n",
      " 13  LIVE_VISION              15972 non-null  int64  \n",
      " 14  SLEEP_HOURS              15972 non-null  int64  \n",
      " 15  LOST_VACATION            15972 non-null  int64  \n",
      " 16  DAILY_SHOUTING           15972 non-null  int64  \n",
      " 17  SUFFICIENT_INCOME        15972 non-null  int64  \n",
      " 18  PERSONAL_AWARDS          15972 non-null  int64  \n",
      " 19  TIME_FOR_PASSION         15972 non-null  int64  \n",
      " 20  WEEKLY_MEDITATION        15972 non-null  int64  \n",
      " 21  AGE                      15972 non-null  object \n",
      " 22  GENDER                   15972 non-null  object \n",
      " 23  WORK_LIFE_BALANCE_SCORE  15972 non-null  float64\n",
      "dtypes: float64(1), int64(19), object(4)\n",
      "memory usage: 2.9+ MB\n"
     ]
    }
   ],
   "source": [
    "data.info()"
   ]
  },
  {
   "cell_type": "code",
   "execution_count": 8,
   "metadata": {
    "id": "_SqjQLUy5rS6"
   },
   "outputs": [],
   "source": [
    "# Convert 'DAILY_STRESS' column to integer data type\n",
    "data['DAILY_STRESS'] = data['DAILY_STRESS'].astype(int)\n"
   ]
  },
  {
   "cell_type": "code",
   "execution_count": 9,
   "metadata": {
    "colab": {
     "base_uri": "https://localhost:8080/"
    },
    "id": "abKVZpAq58eW",
    "outputId": "d3a637e9-6f62-4a99-9ea8-36a9a169d7b0"
   },
   "outputs": [
    {
     "name": "stdout",
     "output_type": "stream",
     "text": [
      "<class 'pandas.core.frame.DataFrame'>\n",
      "RangeIndex: 15972 entries, 0 to 15971\n",
      "Data columns (total 24 columns):\n",
      " #   Column                   Non-Null Count  Dtype  \n",
      "---  ------                   --------------  -----  \n",
      " 0   Timestamp                15972 non-null  object \n",
      " 1   FRUITS_VEGGIES           15972 non-null  int64  \n",
      " 2   DAILY_STRESS             15972 non-null  int32  \n",
      " 3   PLACES_VISITED           15972 non-null  int64  \n",
      " 4   CORE_CIRCLE              15972 non-null  int64  \n",
      " 5   SUPPORTING_OTHERS        15972 non-null  int64  \n",
      " 6   SOCIAL_NETWORK           15972 non-null  int64  \n",
      " 7   ACHIEVEMENT              15972 non-null  int64  \n",
      " 8   DONATION                 15972 non-null  int64  \n",
      " 9   BMI_RANGE                15972 non-null  int64  \n",
      " 10  TODO_COMPLETED           15972 non-null  int64  \n",
      " 11  FLOW                     15972 non-null  int64  \n",
      " 12  DAILY_STEPS              15972 non-null  int64  \n",
      " 13  LIVE_VISION              15972 non-null  int64  \n",
      " 14  SLEEP_HOURS              15972 non-null  int64  \n",
      " 15  LOST_VACATION            15972 non-null  int64  \n",
      " 16  DAILY_SHOUTING           15972 non-null  int64  \n",
      " 17  SUFFICIENT_INCOME        15972 non-null  int64  \n",
      " 18  PERSONAL_AWARDS          15972 non-null  int64  \n",
      " 19  TIME_FOR_PASSION         15972 non-null  int64  \n",
      " 20  WEEKLY_MEDITATION        15972 non-null  int64  \n",
      " 21  AGE                      15972 non-null  object \n",
      " 22  GENDER                   15972 non-null  object \n",
      " 23  WORK_LIFE_BALANCE_SCORE  15972 non-null  float64\n",
      "dtypes: float64(1), int32(1), int64(19), object(3)\n",
      "memory usage: 2.9+ MB\n"
     ]
    }
   ],
   "source": [
    "data.info()"
   ]
  },
  {
   "cell_type": "markdown",
   "metadata": {},
   "source": [
    "**Column Transformation**"
   ]
  },
  {
   "cell_type": "code",
   "execution_count": 10,
   "metadata": {
    "id": "A2bLaDJd5-t2"
   },
   "outputs": [],
   "source": [
    "\n",
    "\n",
    "# Convert the 'Timestamp' column to datetime format\n",
    "data['Timestamp'] = pd.to_datetime(data['Timestamp'])\n"
   ]
  },
  {
   "cell_type": "code",
   "execution_count": 11,
   "metadata": {
    "colab": {
     "base_uri": "https://localhost:8080/"
    },
    "id": "fSf6pjMj65Q_",
    "outputId": "59be8e55-f493-45bf-b466-4854d32b4190"
   },
   "outputs": [
    {
     "name": "stdout",
     "output_type": "stream",
     "text": [
      "<class 'pandas.core.frame.DataFrame'>\n",
      "RangeIndex: 15972 entries, 0 to 15971\n",
      "Data columns (total 24 columns):\n",
      " #   Column                   Non-Null Count  Dtype         \n",
      "---  ------                   --------------  -----         \n",
      " 0   Timestamp                15972 non-null  datetime64[ns]\n",
      " 1   FRUITS_VEGGIES           15972 non-null  int64         \n",
      " 2   DAILY_STRESS             15972 non-null  int32         \n",
      " 3   PLACES_VISITED           15972 non-null  int64         \n",
      " 4   CORE_CIRCLE              15972 non-null  int64         \n",
      " 5   SUPPORTING_OTHERS        15972 non-null  int64         \n",
      " 6   SOCIAL_NETWORK           15972 non-null  int64         \n",
      " 7   ACHIEVEMENT              15972 non-null  int64         \n",
      " 8   DONATION                 15972 non-null  int64         \n",
      " 9   BMI_RANGE                15972 non-null  int64         \n",
      " 10  TODO_COMPLETED           15972 non-null  int64         \n",
      " 11  FLOW                     15972 non-null  int64         \n",
      " 12  DAILY_STEPS              15972 non-null  int64         \n",
      " 13  LIVE_VISION              15972 non-null  int64         \n",
      " 14  SLEEP_HOURS              15972 non-null  int64         \n",
      " 15  LOST_VACATION            15972 non-null  int64         \n",
      " 16  DAILY_SHOUTING           15972 non-null  int64         \n",
      " 17  SUFFICIENT_INCOME        15972 non-null  int64         \n",
      " 18  PERSONAL_AWARDS          15972 non-null  int64         \n",
      " 19  TIME_FOR_PASSION         15972 non-null  int64         \n",
      " 20  WEEKLY_MEDITATION        15972 non-null  int64         \n",
      " 21  AGE                      15972 non-null  object        \n",
      " 22  GENDER                   15972 non-null  object        \n",
      " 23  WORK_LIFE_BALANCE_SCORE  15972 non-null  float64       \n",
      "dtypes: datetime64[ns](1), float64(1), int32(1), int64(19), object(2)\n",
      "memory usage: 2.9+ MB\n"
     ]
    }
   ],
   "source": [
    "data.info()"
   ]
  },
  {
   "cell_type": "markdown",
   "metadata": {
    "tags": []
   },
   "source": [
    "**Null Value Check**"
   ]
  },
  {
   "cell_type": "code",
   "execution_count": 12,
   "metadata": {
    "colab": {
     "base_uri": "https://localhost:8080/"
    },
    "id": "B3-YPaIt6-iJ",
    "outputId": "ebc1f53e-9881-4bc2-e3e4-f41c6d2e3763"
   },
   "outputs": [
    {
     "data": {
      "text/plain": [
       "Timestamp                  0\n",
       "FRUITS_VEGGIES             0\n",
       "DAILY_STRESS               0\n",
       "PLACES_VISITED             0\n",
       "CORE_CIRCLE                0\n",
       "SUPPORTING_OTHERS          0\n",
       "SOCIAL_NETWORK             0\n",
       "ACHIEVEMENT                0\n",
       "DONATION                   0\n",
       "BMI_RANGE                  0\n",
       "TODO_COMPLETED             0\n",
       "FLOW                       0\n",
       "DAILY_STEPS                0\n",
       "LIVE_VISION                0\n",
       "SLEEP_HOURS                0\n",
       "LOST_VACATION              0\n",
       "DAILY_SHOUTING             0\n",
       "SUFFICIENT_INCOME          0\n",
       "PERSONAL_AWARDS            0\n",
       "TIME_FOR_PASSION           0\n",
       "WEEKLY_MEDITATION          0\n",
       "AGE                        0\n",
       "GENDER                     0\n",
       "WORK_LIFE_BALANCE_SCORE    0\n",
       "dtype: int64"
      ]
     },
     "execution_count": 12,
     "metadata": {},
     "output_type": "execute_result"
    }
   ],
   "source": [
    "data.isnull().sum()"
   ]
  },
  {
   "cell_type": "code",
   "execution_count": 13,
   "metadata": {
    "colab": {
     "base_uri": "https://localhost:8080/"
    },
    "id": "ZHyI8MU87E5r",
    "outputId": "beeab2cb-3b26-46a0-b64f-21052233e80c"
   },
   "outputs": [
    {
     "data": {
      "text/plain": [
       "482"
      ]
     },
     "execution_count": 13,
     "metadata": {},
     "output_type": "execute_result"
    }
   ],
   "source": [
    "data.duplicated().sum()"
   ]
  },
  {
   "cell_type": "code",
   "execution_count": 14,
   "metadata": {
    "id": "UHl4QIEa7MAG"
   },
   "outputs": [],
   "source": [
    "# Remove duplicate rows from the data DataFrame\n",
    "data.drop_duplicates(inplace=True)\n"
   ]
  },
  {
   "cell_type": "code",
   "execution_count": 15,
   "metadata": {
    "id": "nEoX_r5MIxCE"
   },
   "outputs": [
    {
     "data": {
      "text/plain": [
       "2    11316\n",
       "1     4174\n",
       "Name: SUFFICIENT_INCOME, dtype: int64"
      ]
     },
     "execution_count": 15,
     "metadata": {},
     "output_type": "execute_result"
    }
   ],
   "source": [
    "data.SUFFICIENT_INCOME.value_counts()"
   ]
  },
  {
   "cell_type": "code",
   "execution_count": 16,
   "metadata": {
    "colab": {
     "base_uri": "https://localhost:8080/",
     "height": 752
    },
    "id": "pfebKmwl7S5k",
    "outputId": "f86b7f50-b563-4141-b384-b79476c09627"
   },
   "outputs": [
    {
     "data": {
      "text/html": [
       "<div>\n",
       "<style scoped>\n",
       "    .dataframe tbody tr th:only-of-type {\n",
       "        vertical-align: middle;\n",
       "    }\n",
       "\n",
       "    .dataframe tbody tr th {\n",
       "        vertical-align: top;\n",
       "    }\n",
       "\n",
       "    .dataframe thead th {\n",
       "        text-align: right;\n",
       "    }\n",
       "</style>\n",
       "<table border=\"1\" class=\"dataframe\">\n",
       "  <thead>\n",
       "    <tr style=\"text-align: right;\">\n",
       "      <th></th>\n",
       "      <th>count</th>\n",
       "      <th>mean</th>\n",
       "      <th>std</th>\n",
       "      <th>min</th>\n",
       "      <th>25%</th>\n",
       "      <th>50%</th>\n",
       "      <th>75%</th>\n",
       "      <th>max</th>\n",
       "    </tr>\n",
       "  </thead>\n",
       "  <tbody>\n",
       "    <tr>\n",
       "      <th>FRUITS_VEGGIES</th>\n",
       "      <td>15490.0</td>\n",
       "      <td>2.922466</td>\n",
       "      <td>1.443356</td>\n",
       "      <td>0.0</td>\n",
       "      <td>2.0</td>\n",
       "      <td>3.0</td>\n",
       "      <td>4.0</td>\n",
       "      <td>5.0</td>\n",
       "    </tr>\n",
       "    <tr>\n",
       "      <th>DAILY_STRESS</th>\n",
       "      <td>15490.0</td>\n",
       "      <td>2.792318</td>\n",
       "      <td>1.369330</td>\n",
       "      <td>0.0</td>\n",
       "      <td>2.0</td>\n",
       "      <td>3.0</td>\n",
       "      <td>4.0</td>\n",
       "      <td>5.0</td>\n",
       "    </tr>\n",
       "    <tr>\n",
       "      <th>PLACES_VISITED</th>\n",
       "      <td>15490.0</td>\n",
       "      <td>5.225823</td>\n",
       "      <td>3.315740</td>\n",
       "      <td>0.0</td>\n",
       "      <td>2.0</td>\n",
       "      <td>5.0</td>\n",
       "      <td>8.0</td>\n",
       "      <td>10.0</td>\n",
       "    </tr>\n",
       "    <tr>\n",
       "      <th>CORE_CIRCLE</th>\n",
       "      <td>15490.0</td>\n",
       "      <td>5.513170</td>\n",
       "      <td>2.839156</td>\n",
       "      <td>0.0</td>\n",
       "      <td>3.0</td>\n",
       "      <td>5.0</td>\n",
       "      <td>8.0</td>\n",
       "      <td>10.0</td>\n",
       "    </tr>\n",
       "    <tr>\n",
       "      <th>SUPPORTING_OTHERS</th>\n",
       "      <td>15490.0</td>\n",
       "      <td>5.619496</td>\n",
       "      <td>3.244341</td>\n",
       "      <td>0.0</td>\n",
       "      <td>3.0</td>\n",
       "      <td>5.0</td>\n",
       "      <td>10.0</td>\n",
       "      <td>10.0</td>\n",
       "    </tr>\n",
       "    <tr>\n",
       "      <th>SOCIAL_NETWORK</th>\n",
       "      <td>15490.0</td>\n",
       "      <td>6.489606</td>\n",
       "      <td>3.084922</td>\n",
       "      <td>0.0</td>\n",
       "      <td>4.0</td>\n",
       "      <td>6.0</td>\n",
       "      <td>10.0</td>\n",
       "      <td>10.0</td>\n",
       "    </tr>\n",
       "    <tr>\n",
       "      <th>ACHIEVEMENT</th>\n",
       "      <td>15490.0</td>\n",
       "      <td>4.000194</td>\n",
       "      <td>2.760281</td>\n",
       "      <td>0.0</td>\n",
       "      <td>2.0</td>\n",
       "      <td>3.0</td>\n",
       "      <td>6.0</td>\n",
       "      <td>10.0</td>\n",
       "    </tr>\n",
       "    <tr>\n",
       "      <th>DONATION</th>\n",
       "      <td>15490.0</td>\n",
       "      <td>2.716333</td>\n",
       "      <td>1.851438</td>\n",
       "      <td>0.0</td>\n",
       "      <td>1.0</td>\n",
       "      <td>3.0</td>\n",
       "      <td>5.0</td>\n",
       "      <td>5.0</td>\n",
       "    </tr>\n",
       "    <tr>\n",
       "      <th>BMI_RANGE</th>\n",
       "      <td>15490.0</td>\n",
       "      <td>1.409038</td>\n",
       "      <td>0.491672</td>\n",
       "      <td>1.0</td>\n",
       "      <td>1.0</td>\n",
       "      <td>1.0</td>\n",
       "      <td>2.0</td>\n",
       "      <td>2.0</td>\n",
       "    </tr>\n",
       "    <tr>\n",
       "      <th>TODO_COMPLETED</th>\n",
       "      <td>15490.0</td>\n",
       "      <td>5.749645</td>\n",
       "      <td>2.623108</td>\n",
       "      <td>0.0</td>\n",
       "      <td>4.0</td>\n",
       "      <td>6.0</td>\n",
       "      <td>8.0</td>\n",
       "      <td>10.0</td>\n",
       "    </tr>\n",
       "    <tr>\n",
       "      <th>FLOW</th>\n",
       "      <td>15490.0</td>\n",
       "      <td>3.190252</td>\n",
       "      <td>2.355849</td>\n",
       "      <td>0.0</td>\n",
       "      <td>1.0</td>\n",
       "      <td>3.0</td>\n",
       "      <td>5.0</td>\n",
       "      <td>10.0</td>\n",
       "    </tr>\n",
       "    <tr>\n",
       "      <th>DAILY_STEPS</th>\n",
       "      <td>15490.0</td>\n",
       "      <td>5.715946</td>\n",
       "      <td>2.887100</td>\n",
       "      <td>1.0</td>\n",
       "      <td>3.0</td>\n",
       "      <td>6.0</td>\n",
       "      <td>8.0</td>\n",
       "      <td>10.0</td>\n",
       "    </tr>\n",
       "    <tr>\n",
       "      <th>LIVE_VISION</th>\n",
       "      <td>15490.0</td>\n",
       "      <td>3.752163</td>\n",
       "      <td>3.225963</td>\n",
       "      <td>0.0</td>\n",
       "      <td>1.0</td>\n",
       "      <td>3.0</td>\n",
       "      <td>5.0</td>\n",
       "      <td>10.0</td>\n",
       "    </tr>\n",
       "    <tr>\n",
       "      <th>SLEEP_HOURS</th>\n",
       "      <td>15490.0</td>\n",
       "      <td>7.038476</td>\n",
       "      <td>1.198948</td>\n",
       "      <td>1.0</td>\n",
       "      <td>6.0</td>\n",
       "      <td>7.0</td>\n",
       "      <td>8.0</td>\n",
       "      <td>10.0</td>\n",
       "    </tr>\n",
       "    <tr>\n",
       "      <th>LOST_VACATION</th>\n",
       "      <td>15490.0</td>\n",
       "      <td>2.891995</td>\n",
       "      <td>3.686959</td>\n",
       "      <td>0.0</td>\n",
       "      <td>0.0</td>\n",
       "      <td>0.0</td>\n",
       "      <td>5.0</td>\n",
       "      <td>10.0</td>\n",
       "    </tr>\n",
       "    <tr>\n",
       "      <th>DAILY_SHOUTING</th>\n",
       "      <td>15490.0</td>\n",
       "      <td>2.923951</td>\n",
       "      <td>2.676001</td>\n",
       "      <td>0.0</td>\n",
       "      <td>1.0</td>\n",
       "      <td>2.0</td>\n",
       "      <td>4.0</td>\n",
       "      <td>10.0</td>\n",
       "    </tr>\n",
       "    <tr>\n",
       "      <th>SUFFICIENT_INCOME</th>\n",
       "      <td>15490.0</td>\n",
       "      <td>1.730536</td>\n",
       "      <td>0.443696</td>\n",
       "      <td>1.0</td>\n",
       "      <td>1.0</td>\n",
       "      <td>2.0</td>\n",
       "      <td>2.0</td>\n",
       "      <td>2.0</td>\n",
       "    </tr>\n",
       "    <tr>\n",
       "      <th>PERSONAL_AWARDS</th>\n",
       "      <td>15490.0</td>\n",
       "      <td>5.710394</td>\n",
       "      <td>3.091236</td>\n",
       "      <td>0.0</td>\n",
       "      <td>3.0</td>\n",
       "      <td>5.0</td>\n",
       "      <td>9.0</td>\n",
       "      <td>10.0</td>\n",
       "    </tr>\n",
       "    <tr>\n",
       "      <th>TIME_FOR_PASSION</th>\n",
       "      <td>15490.0</td>\n",
       "      <td>3.321304</td>\n",
       "      <td>2.728343</td>\n",
       "      <td>0.0</td>\n",
       "      <td>1.0</td>\n",
       "      <td>3.0</td>\n",
       "      <td>5.0</td>\n",
       "      <td>10.0</td>\n",
       "    </tr>\n",
       "    <tr>\n",
       "      <th>WEEKLY_MEDITATION</th>\n",
       "      <td>15490.0</td>\n",
       "      <td>6.222660</td>\n",
       "      <td>3.017574</td>\n",
       "      <td>0.0</td>\n",
       "      <td>4.0</td>\n",
       "      <td>6.0</td>\n",
       "      <td>10.0</td>\n",
       "      <td>10.0</td>\n",
       "    </tr>\n",
       "    <tr>\n",
       "      <th>WORK_LIFE_BALANCE_SCORE</th>\n",
       "      <td>15490.0</td>\n",
       "      <td>666.841233</td>\n",
       "      <td>45.001295</td>\n",
       "      <td>480.0</td>\n",
       "      <td>636.0</td>\n",
       "      <td>667.9</td>\n",
       "      <td>698.5</td>\n",
       "      <td>820.2</td>\n",
       "    </tr>\n",
       "  </tbody>\n",
       "</table>\n",
       "</div>"
      ],
      "text/plain": [
       "                           count        mean        std    min    25%    50%  \\\n",
       "FRUITS_VEGGIES           15490.0    2.922466   1.443356    0.0    2.0    3.0   \n",
       "DAILY_STRESS             15490.0    2.792318   1.369330    0.0    2.0    3.0   \n",
       "PLACES_VISITED           15490.0    5.225823   3.315740    0.0    2.0    5.0   \n",
       "CORE_CIRCLE              15490.0    5.513170   2.839156    0.0    3.0    5.0   \n",
       "SUPPORTING_OTHERS        15490.0    5.619496   3.244341    0.0    3.0    5.0   \n",
       "SOCIAL_NETWORK           15490.0    6.489606   3.084922    0.0    4.0    6.0   \n",
       "ACHIEVEMENT              15490.0    4.000194   2.760281    0.0    2.0    3.0   \n",
       "DONATION                 15490.0    2.716333   1.851438    0.0    1.0    3.0   \n",
       "BMI_RANGE                15490.0    1.409038   0.491672    1.0    1.0    1.0   \n",
       "TODO_COMPLETED           15490.0    5.749645   2.623108    0.0    4.0    6.0   \n",
       "FLOW                     15490.0    3.190252   2.355849    0.0    1.0    3.0   \n",
       "DAILY_STEPS              15490.0    5.715946   2.887100    1.0    3.0    6.0   \n",
       "LIVE_VISION              15490.0    3.752163   3.225963    0.0    1.0    3.0   \n",
       "SLEEP_HOURS              15490.0    7.038476   1.198948    1.0    6.0    7.0   \n",
       "LOST_VACATION            15490.0    2.891995   3.686959    0.0    0.0    0.0   \n",
       "DAILY_SHOUTING           15490.0    2.923951   2.676001    0.0    1.0    2.0   \n",
       "SUFFICIENT_INCOME        15490.0    1.730536   0.443696    1.0    1.0    2.0   \n",
       "PERSONAL_AWARDS          15490.0    5.710394   3.091236    0.0    3.0    5.0   \n",
       "TIME_FOR_PASSION         15490.0    3.321304   2.728343    0.0    1.0    3.0   \n",
       "WEEKLY_MEDITATION        15490.0    6.222660   3.017574    0.0    4.0    6.0   \n",
       "WORK_LIFE_BALANCE_SCORE  15490.0  666.841233  45.001295  480.0  636.0  667.9   \n",
       "\n",
       "                           75%    max  \n",
       "FRUITS_VEGGIES             4.0    5.0  \n",
       "DAILY_STRESS               4.0    5.0  \n",
       "PLACES_VISITED             8.0   10.0  \n",
       "CORE_CIRCLE                8.0   10.0  \n",
       "SUPPORTING_OTHERS         10.0   10.0  \n",
       "SOCIAL_NETWORK            10.0   10.0  \n",
       "ACHIEVEMENT                6.0   10.0  \n",
       "DONATION                   5.0    5.0  \n",
       "BMI_RANGE                  2.0    2.0  \n",
       "TODO_COMPLETED             8.0   10.0  \n",
       "FLOW                       5.0   10.0  \n",
       "DAILY_STEPS                8.0   10.0  \n",
       "LIVE_VISION                5.0   10.0  \n",
       "SLEEP_HOURS                8.0   10.0  \n",
       "LOST_VACATION              5.0   10.0  \n",
       "DAILY_SHOUTING             4.0   10.0  \n",
       "SUFFICIENT_INCOME          2.0    2.0  \n",
       "PERSONAL_AWARDS            9.0   10.0  \n",
       "TIME_FOR_PASSION           5.0   10.0  \n",
       "WEEKLY_MEDITATION         10.0   10.0  \n",
       "WORK_LIFE_BALANCE_SCORE  698.5  820.2  "
      ]
     },
     "execution_count": 16,
     "metadata": {},
     "output_type": "execute_result"
    }
   ],
   "source": [
    "# Display the descriptive statistics of the dataset\n",
    "data.describe().T\n"
   ]
  },
  {
   "cell_type": "markdown",
   "metadata": {
    "id": "ZlvKi8MLKTLd"
   },
   "source": [
    "Here ordinal values are: TO-DO Lists [(1-10) scale], daily_stress, sufficient_income, BMI, age, gender"
   ]
  },
  {
   "cell_type": "code",
   "execution_count": 17,
   "metadata": {
    "id": "JCJyPgSJM6Cn"
   },
   "outputs": [],
   "source": [
    "from sklearn.preprocessing import MinMaxScaler\n",
    "\n",
    "# Create a MinMaxScaler object with feature range from 0 to 5\n",
    "mc = MinMaxScaler(feature_range=(0, 5))\n",
    "\n",
    "# Reshape the 'TODO_COMPLETED' column of the data and transform it using the MinMaxScaler\n",
    "data['TODO_COMPLETED'] = mc.fit_transform(data['TODO_COMPLETED'].values.reshape(-1, 1))\n"
   ]
  },
  {
   "cell_type": "code",
   "execution_count": 18,
   "metadata": {
    "colab": {
     "base_uri": "https://localhost:8080/",
     "height": 752
    },
    "id": "NWRtsCGTYvEd",
    "outputId": "d3026107-ad5f-4afe-e83e-e4e954d832c3"
   },
   "outputs": [
    {
     "data": {
      "text/html": [
       "<div>\n",
       "<style scoped>\n",
       "    .dataframe tbody tr th:only-of-type {\n",
       "        vertical-align: middle;\n",
       "    }\n",
       "\n",
       "    .dataframe tbody tr th {\n",
       "        vertical-align: top;\n",
       "    }\n",
       "\n",
       "    .dataframe thead th {\n",
       "        text-align: right;\n",
       "    }\n",
       "</style>\n",
       "<table border=\"1\" class=\"dataframe\">\n",
       "  <thead>\n",
       "    <tr style=\"text-align: right;\">\n",
       "      <th></th>\n",
       "      <th>count</th>\n",
       "      <th>mean</th>\n",
       "      <th>std</th>\n",
       "      <th>min</th>\n",
       "      <th>25%</th>\n",
       "      <th>50%</th>\n",
       "      <th>75%</th>\n",
       "      <th>max</th>\n",
       "    </tr>\n",
       "  </thead>\n",
       "  <tbody>\n",
       "    <tr>\n",
       "      <th>FRUITS_VEGGIES</th>\n",
       "      <td>15490.0</td>\n",
       "      <td>2.922466</td>\n",
       "      <td>1.443356</td>\n",
       "      <td>0.0</td>\n",
       "      <td>2.0</td>\n",
       "      <td>3.0</td>\n",
       "      <td>4.0</td>\n",
       "      <td>5.0</td>\n",
       "    </tr>\n",
       "    <tr>\n",
       "      <th>DAILY_STRESS</th>\n",
       "      <td>15490.0</td>\n",
       "      <td>2.792318</td>\n",
       "      <td>1.369330</td>\n",
       "      <td>0.0</td>\n",
       "      <td>2.0</td>\n",
       "      <td>3.0</td>\n",
       "      <td>4.0</td>\n",
       "      <td>5.0</td>\n",
       "    </tr>\n",
       "    <tr>\n",
       "      <th>PLACES_VISITED</th>\n",
       "      <td>15490.0</td>\n",
       "      <td>5.225823</td>\n",
       "      <td>3.315740</td>\n",
       "      <td>0.0</td>\n",
       "      <td>2.0</td>\n",
       "      <td>5.0</td>\n",
       "      <td>8.0</td>\n",
       "      <td>10.0</td>\n",
       "    </tr>\n",
       "    <tr>\n",
       "      <th>CORE_CIRCLE</th>\n",
       "      <td>15490.0</td>\n",
       "      <td>5.513170</td>\n",
       "      <td>2.839156</td>\n",
       "      <td>0.0</td>\n",
       "      <td>3.0</td>\n",
       "      <td>5.0</td>\n",
       "      <td>8.0</td>\n",
       "      <td>10.0</td>\n",
       "    </tr>\n",
       "    <tr>\n",
       "      <th>SUPPORTING_OTHERS</th>\n",
       "      <td>15490.0</td>\n",
       "      <td>5.619496</td>\n",
       "      <td>3.244341</td>\n",
       "      <td>0.0</td>\n",
       "      <td>3.0</td>\n",
       "      <td>5.0</td>\n",
       "      <td>10.0</td>\n",
       "      <td>10.0</td>\n",
       "    </tr>\n",
       "    <tr>\n",
       "      <th>SOCIAL_NETWORK</th>\n",
       "      <td>15490.0</td>\n",
       "      <td>6.489606</td>\n",
       "      <td>3.084922</td>\n",
       "      <td>0.0</td>\n",
       "      <td>4.0</td>\n",
       "      <td>6.0</td>\n",
       "      <td>10.0</td>\n",
       "      <td>10.0</td>\n",
       "    </tr>\n",
       "    <tr>\n",
       "      <th>ACHIEVEMENT</th>\n",
       "      <td>15490.0</td>\n",
       "      <td>4.000194</td>\n",
       "      <td>2.760281</td>\n",
       "      <td>0.0</td>\n",
       "      <td>2.0</td>\n",
       "      <td>3.0</td>\n",
       "      <td>6.0</td>\n",
       "      <td>10.0</td>\n",
       "    </tr>\n",
       "    <tr>\n",
       "      <th>DONATION</th>\n",
       "      <td>15490.0</td>\n",
       "      <td>2.716333</td>\n",
       "      <td>1.851438</td>\n",
       "      <td>0.0</td>\n",
       "      <td>1.0</td>\n",
       "      <td>3.0</td>\n",
       "      <td>5.0</td>\n",
       "      <td>5.0</td>\n",
       "    </tr>\n",
       "    <tr>\n",
       "      <th>BMI_RANGE</th>\n",
       "      <td>15490.0</td>\n",
       "      <td>1.409038</td>\n",
       "      <td>0.491672</td>\n",
       "      <td>1.0</td>\n",
       "      <td>1.0</td>\n",
       "      <td>1.0</td>\n",
       "      <td>2.0</td>\n",
       "      <td>2.0</td>\n",
       "    </tr>\n",
       "    <tr>\n",
       "      <th>TODO_COMPLETED</th>\n",
       "      <td>15490.0</td>\n",
       "      <td>2.874822</td>\n",
       "      <td>1.311554</td>\n",
       "      <td>0.0</td>\n",
       "      <td>2.0</td>\n",
       "      <td>3.0</td>\n",
       "      <td>4.0</td>\n",
       "      <td>5.0</td>\n",
       "    </tr>\n",
       "    <tr>\n",
       "      <th>FLOW</th>\n",
       "      <td>15490.0</td>\n",
       "      <td>3.190252</td>\n",
       "      <td>2.355849</td>\n",
       "      <td>0.0</td>\n",
       "      <td>1.0</td>\n",
       "      <td>3.0</td>\n",
       "      <td>5.0</td>\n",
       "      <td>10.0</td>\n",
       "    </tr>\n",
       "    <tr>\n",
       "      <th>DAILY_STEPS</th>\n",
       "      <td>15490.0</td>\n",
       "      <td>5.715946</td>\n",
       "      <td>2.887100</td>\n",
       "      <td>1.0</td>\n",
       "      <td>3.0</td>\n",
       "      <td>6.0</td>\n",
       "      <td>8.0</td>\n",
       "      <td>10.0</td>\n",
       "    </tr>\n",
       "    <tr>\n",
       "      <th>LIVE_VISION</th>\n",
       "      <td>15490.0</td>\n",
       "      <td>3.752163</td>\n",
       "      <td>3.225963</td>\n",
       "      <td>0.0</td>\n",
       "      <td>1.0</td>\n",
       "      <td>3.0</td>\n",
       "      <td>5.0</td>\n",
       "      <td>10.0</td>\n",
       "    </tr>\n",
       "    <tr>\n",
       "      <th>SLEEP_HOURS</th>\n",
       "      <td>15490.0</td>\n",
       "      <td>7.038476</td>\n",
       "      <td>1.198948</td>\n",
       "      <td>1.0</td>\n",
       "      <td>6.0</td>\n",
       "      <td>7.0</td>\n",
       "      <td>8.0</td>\n",
       "      <td>10.0</td>\n",
       "    </tr>\n",
       "    <tr>\n",
       "      <th>LOST_VACATION</th>\n",
       "      <td>15490.0</td>\n",
       "      <td>2.891995</td>\n",
       "      <td>3.686959</td>\n",
       "      <td>0.0</td>\n",
       "      <td>0.0</td>\n",
       "      <td>0.0</td>\n",
       "      <td>5.0</td>\n",
       "      <td>10.0</td>\n",
       "    </tr>\n",
       "    <tr>\n",
       "      <th>DAILY_SHOUTING</th>\n",
       "      <td>15490.0</td>\n",
       "      <td>2.923951</td>\n",
       "      <td>2.676001</td>\n",
       "      <td>0.0</td>\n",
       "      <td>1.0</td>\n",
       "      <td>2.0</td>\n",
       "      <td>4.0</td>\n",
       "      <td>10.0</td>\n",
       "    </tr>\n",
       "    <tr>\n",
       "      <th>SUFFICIENT_INCOME</th>\n",
       "      <td>15490.0</td>\n",
       "      <td>1.730536</td>\n",
       "      <td>0.443696</td>\n",
       "      <td>1.0</td>\n",
       "      <td>1.0</td>\n",
       "      <td>2.0</td>\n",
       "      <td>2.0</td>\n",
       "      <td>2.0</td>\n",
       "    </tr>\n",
       "    <tr>\n",
       "      <th>PERSONAL_AWARDS</th>\n",
       "      <td>15490.0</td>\n",
       "      <td>5.710394</td>\n",
       "      <td>3.091236</td>\n",
       "      <td>0.0</td>\n",
       "      <td>3.0</td>\n",
       "      <td>5.0</td>\n",
       "      <td>9.0</td>\n",
       "      <td>10.0</td>\n",
       "    </tr>\n",
       "    <tr>\n",
       "      <th>TIME_FOR_PASSION</th>\n",
       "      <td>15490.0</td>\n",
       "      <td>3.321304</td>\n",
       "      <td>2.728343</td>\n",
       "      <td>0.0</td>\n",
       "      <td>1.0</td>\n",
       "      <td>3.0</td>\n",
       "      <td>5.0</td>\n",
       "      <td>10.0</td>\n",
       "    </tr>\n",
       "    <tr>\n",
       "      <th>WEEKLY_MEDITATION</th>\n",
       "      <td>15490.0</td>\n",
       "      <td>6.222660</td>\n",
       "      <td>3.017574</td>\n",
       "      <td>0.0</td>\n",
       "      <td>4.0</td>\n",
       "      <td>6.0</td>\n",
       "      <td>10.0</td>\n",
       "      <td>10.0</td>\n",
       "    </tr>\n",
       "    <tr>\n",
       "      <th>WORK_LIFE_BALANCE_SCORE</th>\n",
       "      <td>15490.0</td>\n",
       "      <td>666.841233</td>\n",
       "      <td>45.001295</td>\n",
       "      <td>480.0</td>\n",
       "      <td>636.0</td>\n",
       "      <td>667.9</td>\n",
       "      <td>698.5</td>\n",
       "      <td>820.2</td>\n",
       "    </tr>\n",
       "  </tbody>\n",
       "</table>\n",
       "</div>"
      ],
      "text/plain": [
       "                           count        mean        std    min    25%    50%  \\\n",
       "FRUITS_VEGGIES           15490.0    2.922466   1.443356    0.0    2.0    3.0   \n",
       "DAILY_STRESS             15490.0    2.792318   1.369330    0.0    2.0    3.0   \n",
       "PLACES_VISITED           15490.0    5.225823   3.315740    0.0    2.0    5.0   \n",
       "CORE_CIRCLE              15490.0    5.513170   2.839156    0.0    3.0    5.0   \n",
       "SUPPORTING_OTHERS        15490.0    5.619496   3.244341    0.0    3.0    5.0   \n",
       "SOCIAL_NETWORK           15490.0    6.489606   3.084922    0.0    4.0    6.0   \n",
       "ACHIEVEMENT              15490.0    4.000194   2.760281    0.0    2.0    3.0   \n",
       "DONATION                 15490.0    2.716333   1.851438    0.0    1.0    3.0   \n",
       "BMI_RANGE                15490.0    1.409038   0.491672    1.0    1.0    1.0   \n",
       "TODO_COMPLETED           15490.0    2.874822   1.311554    0.0    2.0    3.0   \n",
       "FLOW                     15490.0    3.190252   2.355849    0.0    1.0    3.0   \n",
       "DAILY_STEPS              15490.0    5.715946   2.887100    1.0    3.0    6.0   \n",
       "LIVE_VISION              15490.0    3.752163   3.225963    0.0    1.0    3.0   \n",
       "SLEEP_HOURS              15490.0    7.038476   1.198948    1.0    6.0    7.0   \n",
       "LOST_VACATION            15490.0    2.891995   3.686959    0.0    0.0    0.0   \n",
       "DAILY_SHOUTING           15490.0    2.923951   2.676001    0.0    1.0    2.0   \n",
       "SUFFICIENT_INCOME        15490.0    1.730536   0.443696    1.0    1.0    2.0   \n",
       "PERSONAL_AWARDS          15490.0    5.710394   3.091236    0.0    3.0    5.0   \n",
       "TIME_FOR_PASSION         15490.0    3.321304   2.728343    0.0    1.0    3.0   \n",
       "WEEKLY_MEDITATION        15490.0    6.222660   3.017574    0.0    4.0    6.0   \n",
       "WORK_LIFE_BALANCE_SCORE  15490.0  666.841233  45.001295  480.0  636.0  667.9   \n",
       "\n",
       "                           75%    max  \n",
       "FRUITS_VEGGIES             4.0    5.0  \n",
       "DAILY_STRESS               4.0    5.0  \n",
       "PLACES_VISITED             8.0   10.0  \n",
       "CORE_CIRCLE                8.0   10.0  \n",
       "SUPPORTING_OTHERS         10.0   10.0  \n",
       "SOCIAL_NETWORK            10.0   10.0  \n",
       "ACHIEVEMENT                6.0   10.0  \n",
       "DONATION                   5.0    5.0  \n",
       "BMI_RANGE                  2.0    2.0  \n",
       "TODO_COMPLETED             4.0    5.0  \n",
       "FLOW                       5.0   10.0  \n",
       "DAILY_STEPS                8.0   10.0  \n",
       "LIVE_VISION                5.0   10.0  \n",
       "SLEEP_HOURS                8.0   10.0  \n",
       "LOST_VACATION              5.0   10.0  \n",
       "DAILY_SHOUTING             4.0   10.0  \n",
       "SUFFICIENT_INCOME          2.0    2.0  \n",
       "PERSONAL_AWARDS            9.0   10.0  \n",
       "TIME_FOR_PASSION           5.0   10.0  \n",
       "WEEKLY_MEDITATION         10.0   10.0  \n",
       "WORK_LIFE_BALANCE_SCORE  698.5  820.2  "
      ]
     },
     "execution_count": 18,
     "metadata": {},
     "output_type": "execute_result"
    }
   ],
   "source": [
    "data.describe().T"
   ]
  },
  {
   "cell_type": "markdown",
   "metadata": {
    "id": "-y2AX2RfYzKZ"
   },
   "source": [
    "# Exploratory Data Analysis and Feature Engineering"
   ]
  },
  {
   "cell_type": "markdown",
   "metadata": {
    "id": "tJMwj7LbL4vf"
   },
   "source": [
    "**One Hot Encoding**"
   ]
  },
  {
   "cell_type": "code",
   "execution_count": 19,
   "metadata": {
    "colab": {
     "base_uri": "https://localhost:8080/"
    },
    "id": "Q0y7vjoVZn1x",
    "outputId": "ba9048ce-b0fc-4ba5-9813-b79762588315"
   },
   "outputs": [
    {
     "data": {
      "text/plain": [
       "Index(['Timestamp', 'FRUITS_VEGGIES', 'DAILY_STRESS', 'PLACES_VISITED',\n",
       "       'CORE_CIRCLE', 'SUPPORTING_OTHERS', 'SOCIAL_NETWORK', 'ACHIEVEMENT',\n",
       "       'DONATION', 'BMI_RANGE', 'TODO_COMPLETED', 'FLOW', 'DAILY_STEPS',\n",
       "       'LIVE_VISION', 'SLEEP_HOURS', 'LOST_VACATION', 'DAILY_SHOUTING',\n",
       "       'SUFFICIENT_INCOME', 'PERSONAL_AWARDS', 'TIME_FOR_PASSION',\n",
       "       'WEEKLY_MEDITATION', 'AGE', 'GENDER', 'WORK_LIFE_BALANCE_SCORE'],\n",
       "      dtype='object')"
      ]
     },
     "execution_count": 19,
     "metadata": {},
     "output_type": "execute_result"
    }
   ],
   "source": [
    "# Get the columns of the data\n",
    "data.columns\n"
   ]
  },
  {
   "cell_type": "code",
   "execution_count": 20,
   "metadata": {
    "id": "kZxGoKec9J1n"
   },
   "outputs": [],
   "source": [
    "encdata = pd.get_dummies(data, columns=['DAILY_STRESS', 'BMI_RANGE', 'TODO_COMPLETED', 'SUFFICIENT_INCOME', 'AGE', 'GENDER'], drop_first=True)\n"
   ]
  },
  {
   "cell_type": "code",
   "execution_count": 21,
   "metadata": {
    "colab": {
     "base_uri": "https://localhost:8080/"
    },
    "id": "ienYLJHnZgF6",
    "outputId": "85396e6b-27f7-4d96-c714-7509256d4b1c"
   },
   "outputs": [
    {
     "data": {
      "text/plain": [
       "Index(['Timestamp', 'FRUITS_VEGGIES', 'PLACES_VISITED', 'CORE_CIRCLE',\n",
       "       'SUPPORTING_OTHERS', 'SOCIAL_NETWORK', 'ACHIEVEMENT', 'DONATION',\n",
       "       'FLOW', 'DAILY_STEPS', 'LIVE_VISION', 'SLEEP_HOURS', 'LOST_VACATION',\n",
       "       'DAILY_SHOUTING', 'PERSONAL_AWARDS', 'TIME_FOR_PASSION',\n",
       "       'WEEKLY_MEDITATION', 'WORK_LIFE_BALANCE_SCORE', 'DAILY_STRESS_1',\n",
       "       'DAILY_STRESS_2', 'DAILY_STRESS_3', 'DAILY_STRESS_4', 'DAILY_STRESS_5',\n",
       "       'BMI_RANGE_2', 'TODO_COMPLETED_0.5', 'TODO_COMPLETED_1.0',\n",
       "       'TODO_COMPLETED_1.5', 'TODO_COMPLETED_2.0', 'TODO_COMPLETED_2.5',\n",
       "       'TODO_COMPLETED_3.0', 'TODO_COMPLETED_3.5', 'TODO_COMPLETED_4.0',\n",
       "       'TODO_COMPLETED_4.5', 'TODO_COMPLETED_5.0', 'SUFFICIENT_INCOME_2',\n",
       "       'AGE_36 to 50', 'AGE_51 or more', 'AGE_Less than 20', 'GENDER_Male'],\n",
       "      dtype='object')"
      ]
     },
     "execution_count": 21,
     "metadata": {},
     "output_type": "execute_result"
    }
   ],
   "source": [
    "encdata.columns"
   ]
  },
  {
   "cell_type": "code",
   "execution_count": 22,
   "metadata": {
    "colab": {
     "base_uri": "https://localhost:8080/",
     "height": 452
    },
    "id": "l0bBbi8galRn",
    "outputId": "1d1cac9e-52a3-436a-a69e-8274ebe9dc53"
   },
   "outputs": [
    {
     "data": {
      "image/png": "[encoded data removed]",
      "text/plain": [
       "<Figure size 432x288 with 1 Axes>"
      ]
     },
     "metadata": {
      "needs_background": "light"
     },
     "output_type": "display_data"
    }
   ],
   "source": [
    "import matplotlib.pyplot as plt\n",
    "\n",
    "# Plotting a histogram of the WORK_LIFE_BALANCE_SCORE\n",
    "encdata.WORK_LIFE_BALANCE_SCORE.hist(bins=8, density=True)\n",
    "\n",
    "# Setting the title of the plot\n",
    "plt.title('Histogram for WORK LIFE BALANCE SCORE')\n",
    "\n",
    "# Displaying the plot\n",
    "plt.show()\n"
   ]
  },
  {
   "cell_type": "code",
   "execution_count": 23,
   "metadata": {
    "colab": {
     "base_uri": "https://localhost:8080/",
     "height": 852
    },
    "id": "21gDvB8-x0R5",
    "outputId": "b095eb1e-06d7-4919-e394-6149c80e09e8"
   },
   "outputs": [
    {
     "data": {
      "image/png": "[encoded data removed]",
      "text/plain": [
       "<Figure size 864x720 with 12 Axes>"
      ]
     },
     "metadata": {
      "needs_background": "light"
     },
     "output_type": "display_data"
    }
   ],
   "source": [
    "import itertools\n",
    "import matplotlib.pyplot as plt\n",
    "\n",
    "num_col = [\n",
    "    'FRUITS_VEGGIES',\n",
    "    'PLACES_VISITED',\n",
    "    'CORE_CIRCLE',\n",
    "    'SUPPORTING_OTHERS',\n",
    "    'SOCIAL_NETWORK',\n",
    "    'ACHIEVEMENT',\n",
    "    'DONATION',\n",
    "    'SLEEP_HOURS',\n",
    "    'LOST_VACATION',\n",
    "    'DAILY_SHOUTING',\n",
    "    'PERSONAL_AWARDS',\n",
    "    'TIME_FOR_PASSION',\n",
    "]\n",
    "\n",
    "plt.subplots(figsize=(12, 10))\n",
    "length = len(num_col)\n",
    "\n",
    "for i, j in itertools.zip_longest(num_col, range(length)):\n",
    "    plt.subplot((length // 2), 3, j + 1)\n",
    "    plt.subplots_adjust(wspace=0.1, hspace=0.5)\n",
    "    encdata[i].hist(bins=5, density=True)\n",
    "    plt.title(i)\n",
    "\n",
    "plt.show()\n"
   ]
  },
  {
   "cell_type": "code",
   "execution_count": 24,
   "metadata": {
    "id": "MU4e1Yx09o8s"
   },
   "outputs": [],
   "source": [
    "import numpy as np\n",
    "\n",
    "def outlier_detect(col):\n",
    "    \"\"\"\n",
    "    Detect outliers in a column.\n",
    "\n",
    "    Args:\n",
    "        col (numpy.ndarray): Column of data.\n",
    "\n",
    "    Returns:\n",
    "        tuple: Upper and lower bounds for outlier detection.\n",
    "    \"\"\"\n",
    "    mean = np.mean(col)\n",
    "    sd = np.std(col)\n",
    "    upp_bd = mean + 3 * sd\n",
    "    low_bd = mean - 3 * sd\n",
    "    return upp_bd, low_bd\n"
   ]
  },
  {
   "cell_type": "code",
   "execution_count": 25,
   "metadata": {
    "colab": {
     "base_uri": "https://localhost:8080/",
     "height": 582
    },
    "id": "HFpQWpFy9pfp",
    "outputId": "5eaffa78-f732-4480-ddb5-9deba15dbccd"
   },
   "outputs": [
    {
     "data": {
      "text/html": [
       "<div>\n",
       "<style scoped>\n",
       "    .dataframe tbody tr th:only-of-type {\n",
       "        vertical-align: middle;\n",
       "    }\n",
       "\n",
       "    .dataframe tbody tr th {\n",
       "        vertical-align: top;\n",
       "    }\n",
       "\n",
       "    .dataframe thead th {\n",
       "        text-align: right;\n",
       "    }\n",
       "</style>\n",
       "<table border=\"1\" class=\"dataframe\">\n",
       "  <thead>\n",
       "    <tr style=\"text-align: right;\">\n",
       "      <th></th>\n",
       "      <th>Upper Bound</th>\n",
       "      <th>Lower Bound</th>\n",
       "    </tr>\n",
       "  </thead>\n",
       "  <tbody>\n",
       "    <tr>\n",
       "      <th>FRUITS_VEGGIES</th>\n",
       "      <td>7.252395</td>\n",
       "      <td>-1.407463</td>\n",
       "    </tr>\n",
       "    <tr>\n",
       "      <th>PLACES_VISITED</th>\n",
       "      <td>15.172721</td>\n",
       "      <td>-4.721075</td>\n",
       "    </tr>\n",
       "    <tr>\n",
       "      <th>CORE_CIRCLE</th>\n",
       "      <td>14.030362</td>\n",
       "      <td>-3.004022</td>\n",
       "    </tr>\n",
       "    <tr>\n",
       "      <th>SUPPORTING_OTHERS</th>\n",
       "      <td>15.352205</td>\n",
       "      <td>-4.113212</td>\n",
       "    </tr>\n",
       "    <tr>\n",
       "      <th>SOCIAL_NETWORK</th>\n",
       "      <td>15.744073</td>\n",
       "      <td>-2.764861</td>\n",
       "    </tr>\n",
       "    <tr>\n",
       "      <th>ACHIEVEMENT</th>\n",
       "      <td>12.280768</td>\n",
       "      <td>-4.280381</td>\n",
       "    </tr>\n",
       "    <tr>\n",
       "      <th>DONATION</th>\n",
       "      <td>8.270469</td>\n",
       "      <td>-2.837803</td>\n",
       "    </tr>\n",
       "    <tr>\n",
       "      <th>FLOW</th>\n",
       "      <td>10.257571</td>\n",
       "      <td>-3.877067</td>\n",
       "    </tr>\n",
       "    <tr>\n",
       "      <th>DAILY_STEPS</th>\n",
       "      <td>14.376966</td>\n",
       "      <td>-2.945074</td>\n",
       "    </tr>\n",
       "    <tr>\n",
       "      <th>LIVE_VISION</th>\n",
       "      <td>13.429741</td>\n",
       "      <td>-5.925415</td>\n",
       "    </tr>\n",
       "    <tr>\n",
       "      <th>SLEEP_HOURS</th>\n",
       "      <td>10.635204</td>\n",
       "      <td>3.441749</td>\n",
       "    </tr>\n",
       "    <tr>\n",
       "      <th>LOST_VACATION</th>\n",
       "      <td>13.952515</td>\n",
       "      <td>-8.168525</td>\n",
       "    </tr>\n",
       "    <tr>\n",
       "      <th>DAILY_SHOUTING</th>\n",
       "      <td>10.951694</td>\n",
       "      <td>-5.103792</td>\n",
       "    </tr>\n",
       "    <tr>\n",
       "      <th>PERSONAL_AWARDS</th>\n",
       "      <td>14.983802</td>\n",
       "      <td>-3.563014</td>\n",
       "    </tr>\n",
       "    <tr>\n",
       "      <th>TIME_FOR_PASSION</th>\n",
       "      <td>11.506069</td>\n",
       "      <td>-4.863460</td>\n",
       "    </tr>\n",
       "    <tr>\n",
       "      <th>WEEKLY_MEDITATION</th>\n",
       "      <td>15.275091</td>\n",
       "      <td>-2.829771</td>\n",
       "    </tr>\n",
       "    <tr>\n",
       "      <th>WORK_LIFE_BALANCE_SCORE</th>\n",
       "      <td>801.840761</td>\n",
       "      <td>531.841705</td>\n",
       "    </tr>\n",
       "  </tbody>\n",
       "</table>\n",
       "</div>"
      ],
      "text/plain": [
       "                         Upper Bound  Lower Bound\n",
       "FRUITS_VEGGIES              7.252395    -1.407463\n",
       "PLACES_VISITED             15.172721    -4.721075\n",
       "CORE_CIRCLE                14.030362    -3.004022\n",
       "SUPPORTING_OTHERS          15.352205    -4.113212\n",
       "SOCIAL_NETWORK             15.744073    -2.764861\n",
       "ACHIEVEMENT                12.280768    -4.280381\n",
       "DONATION                    8.270469    -2.837803\n",
       "FLOW                       10.257571    -3.877067\n",
       "DAILY_STEPS                14.376966    -2.945074\n",
       "LIVE_VISION                13.429741    -5.925415\n",
       "SLEEP_HOURS                10.635204     3.441749\n",
       "LOST_VACATION              13.952515    -8.168525\n",
       "DAILY_SHOUTING             10.951694    -5.103792\n",
       "PERSONAL_AWARDS            14.983802    -3.563014\n",
       "TIME_FOR_PASSION           11.506069    -4.863460\n",
       "WEEKLY_MEDITATION          15.275091    -2.829771\n",
       "WORK_LIFE_BALANCE_SCORE   801.840761   531.841705"
      ]
     },
     "execution_count": 25,
     "metadata": {},
     "output_type": "execute_result"
    }
   ],
   "source": [
    "upp_lis = []\n",
    "low_lis = []\n",
    "\n",
    "col = encdata.columns[1:18]\n",
    "length = len(col)\n",
    "\n",
    "# Iterate over each column\n",
    "for i in col:\n",
    "    # Perform outlier detection\n",
    "    upp, low = outlier_detect(data[i])\n",
    "    \n",
    "    # Append upper and lower bounds to lists\n",
    "    upp_lis.append(upp)\n",
    "    low_lis.append(low)\n",
    "    \n",
    "# Create a dictionary with upper and lower bounds\n",
    "d = {'Upper Bound': upp_lis, 'Lower Bound': low_lis}\n",
    "\n",
    "# Create a DataFrame from the dictionary with column indices\n",
    "outlier_df = pd.DataFrame(d, index=col)\n",
    "\n",
    "outlier_df\n"
   ]
  },
  {
   "cell_type": "code",
   "execution_count": 26,
   "metadata": {
    "colab": {
     "base_uri": "https://localhost:8080/",
     "height": 582
    },
    "id": "rJYpsa8f9so4",
    "outputId": "d0406d4a-c098-4f92-8c1d-5904a0fbe2ba"
   },
   "outputs": [
    {
     "data": {
      "text/html": [
       "<div>\n",
       "<style scoped>\n",
       "    .dataframe tbody tr th:only-of-type {\n",
       "        vertical-align: middle;\n",
       "    }\n",
       "\n",
       "    .dataframe tbody tr th {\n",
       "        vertical-align: top;\n",
       "    }\n",
       "\n",
       "    .dataframe thead th {\n",
       "        text-align: right;\n",
       "    }\n",
       "</style>\n",
       "<table border=\"1\" class=\"dataframe\">\n",
       "  <thead>\n",
       "    <tr style=\"text-align: right;\">\n",
       "      <th></th>\n",
       "      <th>Outlier Count</th>\n",
       "    </tr>\n",
       "  </thead>\n",
       "  <tbody>\n",
       "    <tr>\n",
       "      <th>FRUITS_VEGGIES</th>\n",
       "      <td>0</td>\n",
       "    </tr>\n",
       "    <tr>\n",
       "      <th>PLACES_VISITED</th>\n",
       "      <td>0</td>\n",
       "    </tr>\n",
       "    <tr>\n",
       "      <th>CORE_CIRCLE</th>\n",
       "      <td>0</td>\n",
       "    </tr>\n",
       "    <tr>\n",
       "      <th>SUPPORTING_OTHERS</th>\n",
       "      <td>0</td>\n",
       "    </tr>\n",
       "    <tr>\n",
       "      <th>SOCIAL_NETWORK</th>\n",
       "      <td>0</td>\n",
       "    </tr>\n",
       "    <tr>\n",
       "      <th>ACHIEVEMENT</th>\n",
       "      <td>0</td>\n",
       "    </tr>\n",
       "    <tr>\n",
       "      <th>DONATION</th>\n",
       "      <td>0</td>\n",
       "    </tr>\n",
       "    <tr>\n",
       "      <th>FLOW</th>\n",
       "      <td>0</td>\n",
       "    </tr>\n",
       "    <tr>\n",
       "      <th>DAILY_STEPS</th>\n",
       "      <td>0</td>\n",
       "    </tr>\n",
       "    <tr>\n",
       "      <th>LIVE_VISION</th>\n",
       "      <td>0</td>\n",
       "    </tr>\n",
       "    <tr>\n",
       "      <th>SLEEP_HOURS</th>\n",
       "      <td>87</td>\n",
       "    </tr>\n",
       "    <tr>\n",
       "      <th>LOST_VACATION</th>\n",
       "      <td>0</td>\n",
       "    </tr>\n",
       "    <tr>\n",
       "      <th>DAILY_SHOUTING</th>\n",
       "      <td>0</td>\n",
       "    </tr>\n",
       "    <tr>\n",
       "      <th>PERSONAL_AWARDS</th>\n",
       "      <td>0</td>\n",
       "    </tr>\n",
       "    <tr>\n",
       "      <th>TIME_FOR_PASSION</th>\n",
       "      <td>0</td>\n",
       "    </tr>\n",
       "    <tr>\n",
       "      <th>WEEKLY_MEDITATION</th>\n",
       "      <td>0</td>\n",
       "    </tr>\n",
       "    <tr>\n",
       "      <th>WORK_LIFE_BALANCE_SCORE</th>\n",
       "      <td>37</td>\n",
       "    </tr>\n",
       "  </tbody>\n",
       "</table>\n",
       "</div>"
      ],
      "text/plain": [
       "                         Outlier Count\n",
       "FRUITS_VEGGIES                       0\n",
       "PLACES_VISITED                       0\n",
       "CORE_CIRCLE                          0\n",
       "SUPPORTING_OTHERS                    0\n",
       "SOCIAL_NETWORK                       0\n",
       "ACHIEVEMENT                          0\n",
       "DONATION                             0\n",
       "FLOW                                 0\n",
       "DAILY_STEPS                          0\n",
       "LIVE_VISION                          0\n",
       "SLEEP_HOURS                         87\n",
       "LOST_VACATION                        0\n",
       "DAILY_SHOUTING                       0\n",
       "PERSONAL_AWARDS                      0\n",
       "TIME_FOR_PASSION                     0\n",
       "WEEKLY_MEDITATION                    0\n",
       "WORK_LIFE_BALANCE_SCORE             37"
      ]
     },
     "execution_count": 26,
     "metadata": {},
     "output_type": "execute_result"
    }
   ],
   "source": [
    "import pandas as pd\n",
    "\n",
    "def calculate_outlier_count(data: pd.DataFrame, col: list, outlier_df: pd.DataFrame) -> pd.DataFrame:\n",
    "    \"\"\"\n",
    "    Calculates the count of outliers for each column in the data.\n",
    "    \n",
    "    Args:\n",
    "        data (pd.DataFrame): The data containing the columns.\n",
    "        col (list): The list of column names.\n",
    "        outlier_df (pd.DataFrame): The dataframe containing upper and lower outlier limits for each column.\n",
    "    \n",
    "    Returns:\n",
    "        pd.DataFrame: A dataframe with the count of outliers for each column.\n",
    "    \"\"\"\n",
    "    count_lis = []\n",
    "    for i in col:\n",
    "        upp, low = outlier_df.loc[i]\n",
    "        count = sum((data[i] > upp) | (data[i] < low))\n",
    "        count_lis.append(count)\n",
    "\n",
    "    d = {'Outlier Count': count_lis}\n",
    "    outlier_count_df = pd.DataFrame(d, index=col)\n",
    "    \n",
    "    return outlier_count_df\n",
    "\n",
    "#before the treatment\n",
    "outlier_count_df = calculate_outlier_count(data, col, outlier_df)\n",
    "outlier_count_df"
   ]
  },
  {
   "cell_type": "code",
   "execution_count": 27,
   "metadata": {
    "id": "Jr21yJlH_rjX"
   },
   "outputs": [],
   "source": [
    "# Focal cell:\n",
    "\n",
    "count_lis = []\n",
    "\n",
    "# Iterate over each column in `col`\n",
    "for i in col:\n",
    "    upp, low = outlier_detect(data[i])\n",
    "    # Replace values in `data[i]` that are greater than `upp` with `upp`,\n",
    "    # values that are less than `low` with `low`, and leave other values unchanged\n",
    "    data[i] = np.where(data[i] > upp, upp, np.where(data[i] < low, low, data[i]))\n"
   ]
  },
  {
   "cell_type": "code",
   "execution_count": 28,
   "metadata": {
    "colab": {
     "base_uri": "https://localhost:8080/",
     "height": 582
    },
    "id": "D7qXdvJK_9Q3",
    "outputId": "e4f3b8cf-fbf4-4f2c-e206-da942f6563c9"
   },
   "outputs": [
    {
     "data": {
      "text/html": [
       "<div>\n",
       "<style scoped>\n",
       "    .dataframe tbody tr th:only-of-type {\n",
       "        vertical-align: middle;\n",
       "    }\n",
       "\n",
       "    .dataframe tbody tr th {\n",
       "        vertical-align: top;\n",
       "    }\n",
       "\n",
       "    .dataframe thead th {\n",
       "        text-align: right;\n",
       "    }\n",
       "</style>\n",
       "<table border=\"1\" class=\"dataframe\">\n",
       "  <thead>\n",
       "    <tr style=\"text-align: right;\">\n",
       "      <th></th>\n",
       "      <th>Outlier Count</th>\n",
       "    </tr>\n",
       "  </thead>\n",
       "  <tbody>\n",
       "    <tr>\n",
       "      <th>FRUITS_VEGGIES</th>\n",
       "      <td>0</td>\n",
       "    </tr>\n",
       "    <tr>\n",
       "      <th>PLACES_VISITED</th>\n",
       "      <td>0</td>\n",
       "    </tr>\n",
       "    <tr>\n",
       "      <th>CORE_CIRCLE</th>\n",
       "      <td>0</td>\n",
       "    </tr>\n",
       "    <tr>\n",
       "      <th>SUPPORTING_OTHERS</th>\n",
       "      <td>0</td>\n",
       "    </tr>\n",
       "    <tr>\n",
       "      <th>SOCIAL_NETWORK</th>\n",
       "      <td>0</td>\n",
       "    </tr>\n",
       "    <tr>\n",
       "      <th>ACHIEVEMENT</th>\n",
       "      <td>0</td>\n",
       "    </tr>\n",
       "    <tr>\n",
       "      <th>DONATION</th>\n",
       "      <td>0</td>\n",
       "    </tr>\n",
       "    <tr>\n",
       "      <th>FLOW</th>\n",
       "      <td>0</td>\n",
       "    </tr>\n",
       "    <tr>\n",
       "      <th>DAILY_STEPS</th>\n",
       "      <td>0</td>\n",
       "    </tr>\n",
       "    <tr>\n",
       "      <th>LIVE_VISION</th>\n",
       "      <td>0</td>\n",
       "    </tr>\n",
       "    <tr>\n",
       "      <th>SLEEP_HOURS</th>\n",
       "      <td>0</td>\n",
       "    </tr>\n",
       "    <tr>\n",
       "      <th>LOST_VACATION</th>\n",
       "      <td>0</td>\n",
       "    </tr>\n",
       "    <tr>\n",
       "      <th>DAILY_SHOUTING</th>\n",
       "      <td>0</td>\n",
       "    </tr>\n",
       "    <tr>\n",
       "      <th>PERSONAL_AWARDS</th>\n",
       "      <td>0</td>\n",
       "    </tr>\n",
       "    <tr>\n",
       "      <th>TIME_FOR_PASSION</th>\n",
       "      <td>0</td>\n",
       "    </tr>\n",
       "    <tr>\n",
       "      <th>WEEKLY_MEDITATION</th>\n",
       "      <td>0</td>\n",
       "    </tr>\n",
       "    <tr>\n",
       "      <th>WORK_LIFE_BALANCE_SCORE</th>\n",
       "      <td>0</td>\n",
       "    </tr>\n",
       "  </tbody>\n",
       "</table>\n",
       "</div>"
      ],
      "text/plain": [
       "                         Outlier Count\n",
       "FRUITS_VEGGIES                       0\n",
       "PLACES_VISITED                       0\n",
       "CORE_CIRCLE                          0\n",
       "SUPPORTING_OTHERS                    0\n",
       "SOCIAL_NETWORK                       0\n",
       "ACHIEVEMENT                          0\n",
       "DONATION                             0\n",
       "FLOW                                 0\n",
       "DAILY_STEPS                          0\n",
       "LIVE_VISION                          0\n",
       "SLEEP_HOURS                          0\n",
       "LOST_VACATION                        0\n",
       "DAILY_SHOUTING                       0\n",
       "PERSONAL_AWARDS                      0\n",
       "TIME_FOR_PASSION                     0\n",
       "WEEKLY_MEDITATION                    0\n",
       "WORK_LIFE_BALANCE_SCORE              0"
      ]
     },
     "execution_count": 28,
     "metadata": {},
     "output_type": "execute_result"
    }
   ],
   "source": [
    "#after the treatment\n",
    "outlier_count_df = calculate_outlier_count(data, col, outlier_df)\n",
    "outlier_count_df"
   ]
  },
  {
   "cell_type": "code",
   "execution_count": 29,
   "metadata": {
    "colab": {
     "base_uri": "https://localhost:8080/",
     "height": 433
    },
    "id": "hcUfDlmfW4a1",
    "outputId": "37f50cd9-bc2b-41ee-a07f-5a0806f0e583"
   },
   "outputs": [
    {
     "data": {
      "image/png": "[encoded data removed]",
      "text/plain": [
       "<Figure size 1440x1080 with 17 Axes>"
      ]
     },
     "metadata": {
      "needs_background": "light"
     },
     "output_type": "display_data"
    }
   ],
   "source": [
    "# Focal cell:\n",
    "\n",
    "num_col = [\n",
    "    'FRUITS_VEGGIES', 'PLACES_VISITED', 'CORE_CIRCLE', 'SUPPORTING_OTHERS', \n",
    "    'SOCIAL_NETWORK', 'ACHIEVEMENT', 'DONATION', 'FLOW', 'DAILY_STEPS', \n",
    "    'LIVE_VISION', 'SLEEP_HOURS', 'LOST_VACATION', 'DAILY_SHOUTING', \n",
    "    'PERSONAL_AWARDS', 'TIME_FOR_PASSION', 'WEEKLY_MEDITATION', 'WORK_LIFE_BALANCE_SCORE'\n",
    "]\n",
    "\n",
    "# Histogram of each feature\n",
    "import itertools\n",
    "\n",
    "plt.subplots(figsize=(20, 15))\n",
    "length = len(num_col)\n",
    "\n",
    "for i, j in itertools.zip_longest(num_col, range(length)):\n",
    "    plt.subplot((length//2), 3, j + 1)\n",
    "    plt.subplots_adjust(wspace=0.1, hspace=0.5)\n",
    "    encdata[i].hist(bins=5)\n",
    "    plt.title(i)\n",
    "\n",
    "plt.show()\n"
   ]
  },
  {
   "cell_type": "code",
   "execution_count": null,
   "metadata": {
    "id": "H7oxhoGaxKff"
   },
   "outputs": [],
   "source": []
  },
  {
   "cell_type": "code",
   "execution_count": 30,
   "metadata": {
    "colab": {
     "base_uri": "https://localhost:8080/",
     "height": 507
    },
    "id": "SpKL8GT7bVgh",
    "outputId": "c57b24b4-0d42-470a-9418-ebdb1bde833f"
   },
   "outputs": [
    {
     "data": {
      "text/html": [
       "<div>\n",
       "<style scoped>\n",
       "    .dataframe tbody tr th:only-of-type {\n",
       "        vertical-align: middle;\n",
       "    }\n",
       "\n",
       "    .dataframe tbody tr th {\n",
       "        vertical-align: top;\n",
       "    }\n",
       "\n",
       "    .dataframe thead th {\n",
       "        text-align: right;\n",
       "    }\n",
       "</style>\n",
       "<table border=\"1\" class=\"dataframe\">\n",
       "  <thead>\n",
       "    <tr style=\"text-align: right;\">\n",
       "      <th></th>\n",
       "      <th>Timestamp</th>\n",
       "      <th>FRUITS_VEGGIES</th>\n",
       "      <th>PLACES_VISITED</th>\n",
       "      <th>CORE_CIRCLE</th>\n",
       "      <th>SUPPORTING_OTHERS</th>\n",
       "      <th>SOCIAL_NETWORK</th>\n",
       "      <th>ACHIEVEMENT</th>\n",
       "      <th>DONATION</th>\n",
       "      <th>FLOW</th>\n",
       "      <th>DAILY_STEPS</th>\n",
       "      <th>...</th>\n",
       "      <th>TODO_COMPLETED_3.0</th>\n",
       "      <th>TODO_COMPLETED_3.5</th>\n",
       "      <th>TODO_COMPLETED_4.0</th>\n",
       "      <th>TODO_COMPLETED_4.5</th>\n",
       "      <th>TODO_COMPLETED_5.0</th>\n",
       "      <th>SUFFICIENT_INCOME_2</th>\n",
       "      <th>AGE_36 to 50</th>\n",
       "      <th>AGE_51 or more</th>\n",
       "      <th>AGE_Less than 20</th>\n",
       "      <th>GENDER_Male</th>\n",
       "    </tr>\n",
       "  </thead>\n",
       "  <tbody>\n",
       "    <tr>\n",
       "      <th>15967</th>\n",
       "      <td>2021-03-14 05:42:00</td>\n",
       "      <td>3</td>\n",
       "      <td>0</td>\n",
       "      <td>4</td>\n",
       "      <td>0</td>\n",
       "      <td>10</td>\n",
       "      <td>0</td>\n",
       "      <td>4</td>\n",
       "      <td>2</td>\n",
       "      <td>10</td>\n",
       "      <td>...</td>\n",
       "      <td>0</td>\n",
       "      <td>0</td>\n",
       "      <td>1</td>\n",
       "      <td>0</td>\n",
       "      <td>0</td>\n",
       "      <td>0</td>\n",
       "      <td>0</td>\n",
       "      <td>1</td>\n",
       "      <td>0</td>\n",
       "      <td>0</td>\n",
       "    </tr>\n",
       "    <tr>\n",
       "      <th>15968</th>\n",
       "      <td>2021-03-14 06:30:00</td>\n",
       "      <td>3</td>\n",
       "      <td>6</td>\n",
       "      <td>8</td>\n",
       "      <td>7</td>\n",
       "      <td>4</td>\n",
       "      <td>6</td>\n",
       "      <td>3</td>\n",
       "      <td>5</td>\n",
       "      <td>6</td>\n",
       "      <td>...</td>\n",
       "      <td>0</td>\n",
       "      <td>1</td>\n",
       "      <td>0</td>\n",
       "      <td>0</td>\n",
       "      <td>0</td>\n",
       "      <td>1</td>\n",
       "      <td>0</td>\n",
       "      <td>0</td>\n",
       "      <td>0</td>\n",
       "      <td>0</td>\n",
       "    </tr>\n",
       "    <tr>\n",
       "      <th>15969</th>\n",
       "      <td>2021-03-14 08:35:00</td>\n",
       "      <td>4</td>\n",
       "      <td>0</td>\n",
       "      <td>10</td>\n",
       "      <td>10</td>\n",
       "      <td>8</td>\n",
       "      <td>6</td>\n",
       "      <td>5</td>\n",
       "      <td>3</td>\n",
       "      <td>5</td>\n",
       "      <td>...</td>\n",
       "      <td>0</td>\n",
       "      <td>1</td>\n",
       "      <td>0</td>\n",
       "      <td>0</td>\n",
       "      <td>0</td>\n",
       "      <td>1</td>\n",
       "      <td>0</td>\n",
       "      <td>0</td>\n",
       "      <td>0</td>\n",
       "      <td>1</td>\n",
       "    </tr>\n",
       "    <tr>\n",
       "      <th>15970</th>\n",
       "      <td>2021-03-14 08:43:00</td>\n",
       "      <td>1</td>\n",
       "      <td>10</td>\n",
       "      <td>8</td>\n",
       "      <td>2</td>\n",
       "      <td>7</td>\n",
       "      <td>3</td>\n",
       "      <td>2</td>\n",
       "      <td>10</td>\n",
       "      <td>1</td>\n",
       "      <td>...</td>\n",
       "      <td>1</td>\n",
       "      <td>0</td>\n",
       "      <td>0</td>\n",
       "      <td>0</td>\n",
       "      <td>0</td>\n",
       "      <td>1</td>\n",
       "      <td>0</td>\n",
       "      <td>0</td>\n",
       "      <td>0</td>\n",
       "      <td>0</td>\n",
       "    </tr>\n",
       "    <tr>\n",
       "      <th>15971</th>\n",
       "      <td>2021-03-14 09:03:00</td>\n",
       "      <td>5</td>\n",
       "      <td>0</td>\n",
       "      <td>2</td>\n",
       "      <td>10</td>\n",
       "      <td>10</td>\n",
       "      <td>5</td>\n",
       "      <td>1</td>\n",
       "      <td>4</td>\n",
       "      <td>1</td>\n",
       "      <td>...</td>\n",
       "      <td>0</td>\n",
       "      <td>1</td>\n",
       "      <td>0</td>\n",
       "      <td>0</td>\n",
       "      <td>0</td>\n",
       "      <td>1</td>\n",
       "      <td>0</td>\n",
       "      <td>0</td>\n",
       "      <td>0</td>\n",
       "      <td>0</td>\n",
       "    </tr>\n",
       "  </tbody>\n",
       "</table>\n",
       "<p>5 rows × 39 columns</p>\n",
       "</div>"
      ],
      "text/plain": [
       "                Timestamp  FRUITS_VEGGIES  PLACES_VISITED  CORE_CIRCLE  \\\n",
       "15967 2021-03-14 05:42:00               3               0            4   \n",
       "15968 2021-03-14 06:30:00               3               6            8   \n",
       "15969 2021-03-14 08:35:00               4               0           10   \n",
       "15970 2021-03-14 08:43:00               1              10            8   \n",
       "15971 2021-03-14 09:03:00               5               0            2   \n",
       "\n",
       "       SUPPORTING_OTHERS  SOCIAL_NETWORK  ACHIEVEMENT  DONATION  FLOW  \\\n",
       "15967                  0              10            0         4     2   \n",
       "15968                  7               4            6         3     5   \n",
       "15969                 10               8            6         5     3   \n",
       "15970                  2               7            3         2    10   \n",
       "15971                 10              10            5         1     4   \n",
       "\n",
       "       DAILY_STEPS  ...  TODO_COMPLETED_3.0  TODO_COMPLETED_3.5  \\\n",
       "15967           10  ...                   0                   0   \n",
       "15968            6  ...                   0                   1   \n",
       "15969            5  ...                   0                   1   \n",
       "15970            1  ...                   1                   0   \n",
       "15971            1  ...                   0                   1   \n",
       "\n",
       "       TODO_COMPLETED_4.0  TODO_COMPLETED_4.5  TODO_COMPLETED_5.0  \\\n",
       "15967                   1                   0                   0   \n",
       "15968                   0                   0                   0   \n",
       "15969                   0                   0                   0   \n",
       "15970                   0                   0                   0   \n",
       "15971                   0                   0                   0   \n",
       "\n",
       "       SUFFICIENT_INCOME_2  AGE_36 to 50  AGE_51 or more  AGE_Less than 20  \\\n",
       "15967                    0             0               1                 0   \n",
       "15968                    1             0               0                 0   \n",
       "15969                    1             0               0                 0   \n",
       "15970                    1             0               0                 0   \n",
       "15971                    1             0               0                 0   \n",
       "\n",
       "       GENDER_Male  \n",
       "15967            0  \n",
       "15968            0  \n",
       "15969            1  \n",
       "15970            0  \n",
       "15971            0  \n",
       "\n",
       "[5 rows x 39 columns]"
      ]
     },
     "execution_count": 30,
     "metadata": {},
     "output_type": "execute_result"
    }
   ],
   "source": [
    "encdata.tail(5)"
   ]
  },
  {
   "cell_type": "code",
   "execution_count": 31,
   "metadata": {
    "colab": {
     "base_uri": "https://localhost:8080/"
    },
    "id": "l6Ga3_nJbc7y",
    "outputId": "f0bc141e-6724-4b4b-9ab4-629440518ebe"
   },
   "outputs": [
    {
     "data": {
      "text/plain": [
       "(15490, 39)"
      ]
     },
     "execution_count": 31,
     "metadata": {},
     "output_type": "execute_result"
    }
   ],
   "source": [
    "# Print the shape of the 'encdata' array\n",
    "encdata.shape\n"
   ]
  },
  {
   "cell_type": "code",
   "execution_count": 32,
   "metadata": {
    "id": "gVcJMWDYek0M"
   },
   "outputs": [],
   "source": [
    "# Focal cell:\n",
    "\n",
    "# Get the date and work-life balance score from encdata\n",
    "date = encdata.Timestamp\n",
    "output = encdata.WORK_LIFE_BALANCE_SCORE\n",
    "\n",
    "# Remove 'Timestamp' and 'WORK_LIFE_BALANCE_SCORE' columns from encdata\n",
    "encdata.drop(['Timestamp', 'WORK_LIFE_BALANCE_SCORE'], axis=1, inplace=True)\n",
    "\n",
    "# Insert 'Timestamp' column at the beginning of encdata\n",
    "encdata.insert(0, 'Timestamp', date)\n",
    "\n",
    "# Insert 'WORK_LIFE_BALANCE_SCORE' column at index 38 of encdata\n",
    "encdata.insert(38, 'WORK_LIFE_BALANCE_SCORE', output)\n"
   ]
  },
  {
   "cell_type": "code",
   "execution_count": 33,
   "metadata": {
    "colab": {
     "base_uri": "https://localhost:8080/",
     "height": 421
    },
    "id": "Eephi_3zhHg1",
    "outputId": "0e5a61c2-7542-4c2d-ec3b-1ef5fbe49607"
   },
   "outputs": [
    {
     "data": {
      "text/html": [
       "<div>\n",
       "<style scoped>\n",
       "    .dataframe tbody tr th:only-of-type {\n",
       "        vertical-align: middle;\n",
       "    }\n",
       "\n",
       "    .dataframe tbody tr th {\n",
       "        vertical-align: top;\n",
       "    }\n",
       "\n",
       "    .dataframe thead th {\n",
       "        text-align: right;\n",
       "    }\n",
       "</style>\n",
       "<table border=\"1\" class=\"dataframe\">\n",
       "  <thead>\n",
       "    <tr style=\"text-align: right;\">\n",
       "      <th></th>\n",
       "      <th>Timestamp</th>\n",
       "      <th>FRUITS_VEGGIES</th>\n",
       "      <th>PLACES_VISITED</th>\n",
       "      <th>CORE_CIRCLE</th>\n",
       "      <th>SUPPORTING_OTHERS</th>\n",
       "      <th>SOCIAL_NETWORK</th>\n",
       "      <th>ACHIEVEMENT</th>\n",
       "      <th>DONATION</th>\n",
       "      <th>FLOW</th>\n",
       "      <th>DAILY_STEPS</th>\n",
       "      <th>...</th>\n",
       "      <th>TODO_COMPLETED_3.5</th>\n",
       "      <th>TODO_COMPLETED_4.0</th>\n",
       "      <th>TODO_COMPLETED_4.5</th>\n",
       "      <th>TODO_COMPLETED_5.0</th>\n",
       "      <th>SUFFICIENT_INCOME_2</th>\n",
       "      <th>AGE_36 to 50</th>\n",
       "      <th>AGE_51 or more</th>\n",
       "      <th>AGE_Less than 20</th>\n",
       "      <th>GENDER_Male</th>\n",
       "      <th>WORK_LIFE_BALANCE_SCORE</th>\n",
       "    </tr>\n",
       "  </thead>\n",
       "  <tbody>\n",
       "    <tr>\n",
       "      <th>0</th>\n",
       "      <td>2015-07-07</td>\n",
       "      <td>3</td>\n",
       "      <td>2</td>\n",
       "      <td>5</td>\n",
       "      <td>0</td>\n",
       "      <td>5</td>\n",
       "      <td>2</td>\n",
       "      <td>0</td>\n",
       "      <td>4</td>\n",
       "      <td>5</td>\n",
       "      <td>...</td>\n",
       "      <td>0</td>\n",
       "      <td>0</td>\n",
       "      <td>0</td>\n",
       "      <td>0</td>\n",
       "      <td>0</td>\n",
       "      <td>1</td>\n",
       "      <td>0</td>\n",
       "      <td>0</td>\n",
       "      <td>0</td>\n",
       "      <td>609.5</td>\n",
       "    </tr>\n",
       "    <tr>\n",
       "      <th>1</th>\n",
       "      <td>2015-07-07</td>\n",
       "      <td>2</td>\n",
       "      <td>4</td>\n",
       "      <td>3</td>\n",
       "      <td>8</td>\n",
       "      <td>10</td>\n",
       "      <td>5</td>\n",
       "      <td>2</td>\n",
       "      <td>2</td>\n",
       "      <td>5</td>\n",
       "      <td>...</td>\n",
       "      <td>0</td>\n",
       "      <td>0</td>\n",
       "      <td>0</td>\n",
       "      <td>0</td>\n",
       "      <td>1</td>\n",
       "      <td>1</td>\n",
       "      <td>0</td>\n",
       "      <td>0</td>\n",
       "      <td>0</td>\n",
       "      <td>655.6</td>\n",
       "    </tr>\n",
       "    <tr>\n",
       "      <th>2</th>\n",
       "      <td>2015-07-07</td>\n",
       "      <td>2</td>\n",
       "      <td>3</td>\n",
       "      <td>4</td>\n",
       "      <td>4</td>\n",
       "      <td>10</td>\n",
       "      <td>3</td>\n",
       "      <td>2</td>\n",
       "      <td>2</td>\n",
       "      <td>4</td>\n",
       "      <td>...</td>\n",
       "      <td>0</td>\n",
       "      <td>0</td>\n",
       "      <td>0</td>\n",
       "      <td>0</td>\n",
       "      <td>1</td>\n",
       "      <td>1</td>\n",
       "      <td>0</td>\n",
       "      <td>0</td>\n",
       "      <td>0</td>\n",
       "      <td>631.6</td>\n",
       "    </tr>\n",
       "    <tr>\n",
       "      <th>3</th>\n",
       "      <td>2015-07-07</td>\n",
       "      <td>3</td>\n",
       "      <td>10</td>\n",
       "      <td>3</td>\n",
       "      <td>10</td>\n",
       "      <td>7</td>\n",
       "      <td>2</td>\n",
       "      <td>5</td>\n",
       "      <td>5</td>\n",
       "      <td>5</td>\n",
       "      <td>...</td>\n",
       "      <td>0</td>\n",
       "      <td>0</td>\n",
       "      <td>0</td>\n",
       "      <td>0</td>\n",
       "      <td>0</td>\n",
       "      <td>0</td>\n",
       "      <td>1</td>\n",
       "      <td>0</td>\n",
       "      <td>0</td>\n",
       "      <td>622.7</td>\n",
       "    </tr>\n",
       "    <tr>\n",
       "      <th>4</th>\n",
       "      <td>2015-07-07</td>\n",
       "      <td>5</td>\n",
       "      <td>3</td>\n",
       "      <td>3</td>\n",
       "      <td>10</td>\n",
       "      <td>4</td>\n",
       "      <td>2</td>\n",
       "      <td>4</td>\n",
       "      <td>0</td>\n",
       "      <td>5</td>\n",
       "      <td>...</td>\n",
       "      <td>0</td>\n",
       "      <td>0</td>\n",
       "      <td>0</td>\n",
       "      <td>0</td>\n",
       "      <td>1</td>\n",
       "      <td>0</td>\n",
       "      <td>1</td>\n",
       "      <td>0</td>\n",
       "      <td>0</td>\n",
       "      <td>663.9</td>\n",
       "    </tr>\n",
       "  </tbody>\n",
       "</table>\n",
       "<p>5 rows × 39 columns</p>\n",
       "</div>"
      ],
      "text/plain": [
       "   Timestamp  FRUITS_VEGGIES  PLACES_VISITED  CORE_CIRCLE  SUPPORTING_OTHERS  \\\n",
       "0 2015-07-07               3               2            5                  0   \n",
       "1 2015-07-07               2               4            3                  8   \n",
       "2 2015-07-07               2               3            4                  4   \n",
       "3 2015-07-07               3              10            3                 10   \n",
       "4 2015-07-07               5               3            3                 10   \n",
       "\n",
       "   SOCIAL_NETWORK  ACHIEVEMENT  DONATION  FLOW  DAILY_STEPS  ...  \\\n",
       "0               5            2         0     4            5  ...   \n",
       "1              10            5         2     2            5  ...   \n",
       "2              10            3         2     2            4  ...   \n",
       "3               7            2         5     5            5  ...   \n",
       "4               4            2         4     0            5  ...   \n",
       "\n",
       "   TODO_COMPLETED_3.5  TODO_COMPLETED_4.0  TODO_COMPLETED_4.5  \\\n",
       "0                   0                   0                   0   \n",
       "1                   0                   0                   0   \n",
       "2                   0                   0                   0   \n",
       "3                   0                   0                   0   \n",
       "4                   0                   0                   0   \n",
       "\n",
       "   TODO_COMPLETED_5.0  SUFFICIENT_INCOME_2  AGE_36 to 50  AGE_51 or more  \\\n",
       "0                   0                    0             1               0   \n",
       "1                   0                    1             1               0   \n",
       "2                   0                    1             1               0   \n",
       "3                   0                    0             0               1   \n",
       "4                   0                    1             0               1   \n",
       "\n",
       "   AGE_Less than 20  GENDER_Male  WORK_LIFE_BALANCE_SCORE  \n",
       "0                 0            0                    609.5  \n",
       "1                 0            0                    655.6  \n",
       "2                 0            0                    631.6  \n",
       "3                 0            0                    622.7  \n",
       "4                 0            0                    663.9  \n",
       "\n",
       "[5 rows x 39 columns]"
      ]
     },
     "execution_count": 33,
     "metadata": {},
     "output_type": "execute_result"
    }
   ],
   "source": [
    "encdata.head()"
   ]
  },
  {
   "cell_type": "code",
   "execution_count": 34,
   "metadata": {
    "colab": {
     "base_uri": "https://localhost:8080/",
     "height": 602
    },
    "id": "jplucsTOVxRM",
    "outputId": "66fda42d-8b89-4ff0-887b-265436f3e848"
   },
   "outputs": [
    {
     "data": {
      "text/plain": [
       "<AxesSubplot:>"
      ]
     },
     "execution_count": 34,
     "metadata": {},
     "output_type": "execute_result"
    },
    {
     "data": {
      "image/png": "[encoded data removed]",
      "text/plain": [
       "<Figure size 432x288 with 2 Axes>"
      ]
     },
     "metadata": {
      "needs_background": "light"
     },
     "output_type": "display_data"
    }
   ],
   "source": [
    "# Compute the correlation matrix\n",
    "cor = encdata.drop('Timestamp', axis=1).corr()\n",
    "\n",
    "# Plot the correlation matrix\n",
    "sns.heatmap(cor, cmap='coolwarm')\n"
   ]
  },
  {
   "cell_type": "code",
   "execution_count": 35,
   "metadata": {
    "colab": {
     "base_uri": "https://localhost:8080/"
    },
    "id": "YdF54q8DnANe",
    "outputId": "c992d136-e462-4c29-e714-5ee06432640c"
   },
   "outputs": [
    {
     "data": {
      "text/plain": [
       "Index(['Timestamp', 'FRUITS_VEGGIES', 'PLACES_VISITED', 'CORE_CIRCLE',\n",
       "       'SUPPORTING_OTHERS', 'SOCIAL_NETWORK', 'ACHIEVEMENT', 'DONATION',\n",
       "       'FLOW', 'DAILY_STEPS', 'LIVE_VISION', 'SLEEP_HOURS', 'LOST_VACATION',\n",
       "       'DAILY_SHOUTING', 'PERSONAL_AWARDS', 'TIME_FOR_PASSION',\n",
       "       'WEEKLY_MEDITATION', 'DAILY_STRESS_1', 'DAILY_STRESS_2',\n",
       "       'DAILY_STRESS_3', 'DAILY_STRESS_4', 'DAILY_STRESS_5', 'BMI_RANGE_2',\n",
       "       'TODO_COMPLETED_0.5', 'TODO_COMPLETED_1.0', 'TODO_COMPLETED_1.5',\n",
       "       'TODO_COMPLETED_2.0', 'TODO_COMPLETED_2.5', 'TODO_COMPLETED_3.0',\n",
       "       'TODO_COMPLETED_3.5', 'TODO_COMPLETED_4.0', 'TODO_COMPLETED_4.5',\n",
       "       'TODO_COMPLETED_5.0', 'SUFFICIENT_INCOME_2', 'AGE_36 to 50',\n",
       "       'AGE_51 or more', 'AGE_Less than 20', 'GENDER_Male',\n",
       "       'WORK_LIFE_BALANCE_SCORE'],\n",
       "      dtype='object')"
      ]
     },
     "execution_count": 35,
     "metadata": {},
     "output_type": "execute_result"
    }
   ],
   "source": [
    "encdata.columns"
   ]
  },
  {
   "cell_type": "code",
   "execution_count": 36,
   "metadata": {
    "id": "w7-r3J4o4TVN"
   },
   "outputs": [
    {
     "name": "stdout",
     "output_type": "stream",
     "text": [
      "                feature        VIF\n",
      "0        FRUITS_VEGGIES   6.313470\n",
      "1        PLACES_VISITED   4.477046\n",
      "2           CORE_CIRCLE   6.202254\n",
      "3     SUPPORTING_OTHERS   6.188141\n",
      "4        SOCIAL_NETWORK   7.021762\n",
      "5           ACHIEVEMENT   4.717253\n",
      "6              DONATION   4.099659\n",
      "7                  FLOW   4.177063\n",
      "8           DAILY_STEPS   5.698127\n",
      "9           LIVE_VISION   2.959157\n",
      "10          SLEEP_HOURS  25.146244\n",
      "11        LOST_VACATION   1.721352\n",
      "12       DAILY_SHOUTING   2.472770\n",
      "13      PERSONAL_AWARDS   5.916238\n",
      "14     TIME_FOR_PASSION   3.698041\n",
      "15    WEEKLY_MEDITATION   6.274840\n",
      "16       DAILY_STRESS_1   3.847949\n",
      "17       DAILY_STRESS_2   4.962532\n",
      "18       DAILY_STRESS_3   6.106791\n",
      "19       DAILY_STRESS_4   4.561669\n",
      "20       DAILY_STRESS_5   3.462100\n",
      "21          BMI_RANGE_2   1.839460\n",
      "22   TODO_COMPLETED_0.5   1.850097\n",
      "23   TODO_COMPLETED_1.0   2.515880\n",
      "24   TODO_COMPLETED_1.5   3.112949\n",
      "25   TODO_COMPLETED_2.0   3.058738\n",
      "26   TODO_COMPLETED_2.5   4.362744\n",
      "27   TODO_COMPLETED_3.0   3.683172\n",
      "28   TODO_COMPLETED_3.5   5.307944\n",
      "29   TODO_COMPLETED_4.0   5.537381\n",
      "30   TODO_COMPLETED_4.5   2.961756\n",
      "31   TODO_COMPLETED_5.0   2.978197\n",
      "32  SUFFICIENT_INCOME_2   4.148560\n",
      "33         AGE_36 to 50   1.890443\n",
      "34       AGE_51 or more   1.813886\n",
      "35     AGE_Less than 20   1.343743\n",
      "36          GENDER_Male   1.723940\n"
     ]
    }
   ],
   "source": [
    "\n",
    "from statsmodels.stats.outliers_influence import variance_inflation_factor\n",
    "vif_data = pd.DataFrame()\n",
    "vif_data[\"feature\"] = encdata.drop(['Timestamp','WORK_LIFE_BALANCE_SCORE'],axis = 1).columns\n",
    "vif_data[\"VIF\"] = [variance_inflation_factor(encdata.drop(['Timestamp','WORK_LIFE_BALANCE_SCORE'],axis = 1).values, i)\n",
    "                          for i in range(len(encdata.drop(['Timestamp','WORK_LIFE_BALANCE_SCORE'],axis = 1).columns))]\n",
    "\n",
    "print(vif_data)"
   ]
  },
  {
   "cell_type": "markdown",
   "metadata": {},
   "source": [
    "# Model Building"
   ]
  },
  {
   "cell_type": "code",
   "execution_count": 37,
   "metadata": {
    "id": "mZBUAdVshs5X"
   },
   "outputs": [],
   "source": [
    "from sklearn.model_selection import train_test_split\n",
    "\n",
    "# Split the data into training and testing sets\n",
    "X_train, X_test, y_train, y_test = train_test_split(\n",
    "    encdata.drop(['Timestamp', 'WORK_LIFE_BALANCE_SCORE'], axis=1),\n",
    "    encdata.WORK_LIFE_BALANCE_SCORE,\n",
    "    test_size=0.3,\n",
    "    random_state=42\n",
    ")\n"
   ]
  },
  {
   "cell_type": "code",
   "execution_count": 38,
   "metadata": {
    "colab": {
     "base_uri": "https://localhost:8080/"
    },
    "id": "dMyfeRjgizJL",
    "outputId": "99d461a5-f5c4-41bb-f5c4-9cdaaa1099c9"
   },
   "outputs": [
    {
     "data": {
      "text/plain": [
       "((10843, 37), (4647, 37))"
      ]
     },
     "execution_count": 38,
     "metadata": {},
     "output_type": "execute_result"
    }
   ],
   "source": [
    "X_train.shape,X_test.shape"
   ]
  },
  {
   "cell_type": "code",
   "execution_count": 39,
   "metadata": {
    "id": "EXp8toGbABkL"
   },
   "outputs": [],
   "source": [
    "from sklearn.preprocessing import StandardScaler, MinMaxScaler\n",
    "\n",
    "# Initialize the StandardScaler\n",
    "sc = StandardScaler()\n",
    "\n",
    "# Scale the features of the training data\n",
    "X_train_scl = sc.fit_transform(X_train)\n",
    "\n",
    "# Scale the features of the test data\n",
    "X_test_scl = sc.transform(X_test)\n",
    "\n",
    "# Scale the target variable of the training data\n",
    "y_train_scl = sc.fit_transform(y_train.values.reshape(-1,1))\n",
    "\n",
    "# Scale the target variable of the test data\n",
    "y_test_scl = sc.transform(y_test.values.reshape(-1,1))\n"
   ]
  },
  {
   "cell_type": "code",
   "execution_count": 40,
   "metadata": {
    "colab": {
     "base_uri": "https://localhost:8080/"
    },
    "id": "8Ai2QlLP55kG",
    "outputId": "ea4062ed-0610-45b1-a060-a49df7c2bca3"
   },
   "outputs": [
    {
     "data": {
      "text/plain": [
       "array([[ 0.03928665,  1.44924047,  1.57456642, ..., -0.52087393,\n",
       "        -0.35966863, -0.7812978 ],\n",
       "       [ 1.42460431,  0.54199396, -0.88958133, ..., -0.52087393,\n",
       "        -0.35966863, -0.7812978 ],\n",
       "       [-2.03868984, -0.97008356, -0.88958133, ..., -0.52087393,\n",
       "        -0.35966863,  1.27992168],\n",
       "       ...,\n",
       "       [ 0.73194548,  0.54199396, -0.18553911, ..., -0.52087393,\n",
       "         2.78033699, -0.7812978 ],\n",
       "       [ 1.42460431, -0.06283705,  0.5185031 , ..., -0.52087393,\n",
       "        -0.35966863, -0.7812978 ],\n",
       "       [ 0.73194548, -0.06283705,  1.57456642, ..., -0.52087393,\n",
       "         2.78033699,  1.27992168]])"
      ]
     },
     "execution_count": 40,
     "metadata": {},
     "output_type": "execute_result"
    }
   ],
   "source": [
    "X_test_scl"
   ]
  },
  {
   "cell_type": "code",
   "execution_count": 41,
   "metadata": {
    "colab": {
     "base_uri": "https://localhost:8080/"
    },
    "id": "Y7NhYYWNkpl4",
    "outputId": "985f0cb8-ee97-4fa7-8db0-1f6e3e0fbd68"
   },
   "outputs": [
    {
     "data": {
      "text/plain": [
       "Index(['Timestamp', 'FRUITS_VEGGIES', 'PLACES_VISITED', 'CORE_CIRCLE',\n",
       "       'SUPPORTING_OTHERS', 'SOCIAL_NETWORK', 'ACHIEVEMENT', 'DONATION',\n",
       "       'FLOW', 'DAILY_STEPS', 'LIVE_VISION', 'SLEEP_HOURS', 'LOST_VACATION',\n",
       "       'DAILY_SHOUTING', 'PERSONAL_AWARDS', 'TIME_FOR_PASSION',\n",
       "       'WEEKLY_MEDITATION', 'DAILY_STRESS_1', 'DAILY_STRESS_2',\n",
       "       'DAILY_STRESS_3', 'DAILY_STRESS_4', 'DAILY_STRESS_5', 'BMI_RANGE_2',\n",
       "       'TODO_COMPLETED_0.5', 'TODO_COMPLETED_1.0', 'TODO_COMPLETED_1.5',\n",
       "       'TODO_COMPLETED_2.0', 'TODO_COMPLETED_2.5', 'TODO_COMPLETED_3.0',\n",
       "       'TODO_COMPLETED_3.5', 'TODO_COMPLETED_4.0', 'TODO_COMPLETED_4.5',\n",
       "       'TODO_COMPLETED_5.0', 'SUFFICIENT_INCOME_2', 'AGE_36 to 50',\n",
       "       'AGE_51 or more', 'AGE_Less than 20', 'GENDER_Male',\n",
       "       'WORK_LIFE_BALANCE_SCORE'],\n",
       "      dtype='object')"
      ]
     },
     "execution_count": 41,
     "metadata": {},
     "output_type": "execute_result"
    }
   ],
   "source": [
    "encdata.columns"
   ]
  },
  {
   "cell_type": "code",
   "execution_count": null,
   "metadata": {
    "id": "ke75cYHCj5g4"
   },
   "outputs": [],
   "source": []
  },
  {
   "cell_type": "code",
   "execution_count": 42,
   "metadata": {
    "id": "xDiWc67E6WWN"
   },
   "outputs": [],
   "source": [
    "\"\"\"\n",
    "Focal cell:\n",
    "\n",
    "Imports:\n",
    "- `train_test_split` from `sklearn.model_selection`\n",
    "- `LinearRegression` from `sklearn.linear_model`\n",
    "- `DecisionTreeRegressor` from `sklearn.tree`\n",
    "- `KNeighborsRegressor` from `sklearn.neighbors`\n",
    "- `SVR` from `sklearn.svm`\n",
    "- `SGDRegressor` from `sklearn.linear_model`\n",
    "- `Lasso` from `sklearn.linear_model`\n",
    "- `Ridge` from `sklearn.linear_model`\n",
    "- `RandomForestRegressor` from `sklearn.ensemble`\n",
    "- `mean_squared_error` from `sklearn.metrics`\n",
    "- `r2_score` from `sklearn.metrics`\n",
    "\"\"\"\n",
    "\n",
    "from sklearn.model_selection import train_test_split\n",
    "from sklearn.linear_model import LinearRegression\n",
    "from sklearn.tree import DecisionTreeRegressor\n",
    "from sklearn.neighbors import KNeighborsRegressor\n",
    "from sklearn.svm import SVR\n",
    "from sklearn.linear_model import SGDRegressor\n",
    "from sklearn.linear_model import Lasso\n",
    "from sklearn.linear_model import Ridge\n",
    "from sklearn.ensemble import RandomForestRegressor\n",
    "\n",
    "from sklearn.metrics import mean_squared_error\n",
    "from sklearn.metrics import r2_score\n"
   ]
  },
  {
   "cell_type": "code",
   "execution_count": 43,
   "metadata": {
    "colab": {
     "base_uri": "https://localhost:8080/"
    },
    "id": "uD6LfxEjhppC",
    "outputId": "36d2efdb-26b4-430e-9631-076152f22992"
   },
   "outputs": [
    {
     "name": "stdout",
     "output_type": "stream",
     "text": [
      "For LinearRegression: RMSE = 0.00, R^2 = 1.00\n"
     ]
    }
   ],
   "source": [
    "# Train a Linear Regression model\n",
    "reg = LinearRegression()\n",
    "reg.fit(X_train_scl, y_train)\n",
    "reg_pred = reg.predict(X_test_scl)\n",
    "reg_rmse = mean_squared_error(y_test, reg_pred, squared=False)\n",
    "reg_r2 = r2_score(y_test, reg_pred)\n",
    "\n",
    "# Print the performance metrics\n",
    "print(\"For \"+str(reg.__class__.__name__)+\": RMSE = {:.2f}, R^2 = {:.2f}\".format(reg_rmse, reg_r2))\n"
   ]
  },
  {
   "cell_type": "code",
   "execution_count": 44,
   "metadata": {
    "colab": {
     "base_uri": "https://localhost:8080/"
    },
    "id": "a-q4Rv6J7r-L",
    "outputId": "54b3cbca-9d39-46e4-d126-965b38830c3b"
   },
   "outputs": [
    {
     "name": "stdout",
     "output_type": "stream",
     "text": [
      "For DecisionTreeRegressor: RMSE = 24.18, R^2 = 0.71\n"
     ]
    }
   ],
   "source": [
    "# Train a Decision Tree Regression model\n",
    "reg = DecisionTreeRegressor(random_state=42)\n",
    "reg.fit(X_train_scl, y_train)\n",
    "reg_pred = reg.predict(X_test_scl)\n",
    "reg_rmse = mean_squared_error(y_test, reg_pred, squared=False)\n",
    "reg_r2 = r2_score(y_test, reg_pred)\n",
    "\n",
    "# Print the performance metrics\n",
    "print(\"For \"+str(reg.__class__.__name__)+\": RMSE = {:.2f}, R^2 = {:.2f}\".format(reg_rmse, reg_r2))\n"
   ]
  },
  {
   "cell_type": "code",
   "execution_count": 45,
   "metadata": {
    "colab": {
     "base_uri": "https://localhost:8080/"
    },
    "id": "AqDdBqwt8jOt",
    "outputId": "b638c2b7-694c-4544-cea1-aa35e512f422"
   },
   "outputs": [
    {
     "name": "stdout",
     "output_type": "stream",
     "text": [
      "For SVR: RMSE = 7.40, R^2 = 0.97\n"
     ]
    }
   ],
   "source": [
    "from sklearn.svm import SVR\n",
    "from sklearn.metrics import mean_squared_error, r2_score\n",
    "\n",
    "# Create an instance of SVR\n",
    "reg = SVR()\n",
    "\n",
    "# Fit the SVR model to the training data\n",
    "reg.fit(X_train_scl, y_train)\n",
    "\n",
    "# Make predictions using the trained model\n",
    "reg_pred = reg.predict(X_test_scl)\n",
    "\n",
    "# Calculate the root mean squared error\n",
    "reg_rmse = mean_squared_error(y_test, reg_pred, squared=False)\n",
    "\n",
    "# Calculate the R^2 score\n",
    "reg_r2 = r2_score(y_test, reg_pred)\n",
    "\n",
    "# Print the performance metrics\n",
    "print(\"For \"+str(reg.__class__.__name__)+\": RMSE = {:.2f}, R^2 = {:.2f}\".format(reg_rmse, reg_r2))\n"
   ]
  },
  {
   "cell_type": "code",
   "execution_count": null,
   "metadata": {
    "id": "_Fnn84_K8xl2"
   },
   "outputs": [],
   "source": []
  },
  {
   "cell_type": "code",
   "execution_count": 46,
   "metadata": {
    "colab": {
     "base_uri": "https://localhost:8080/"
    },
    "id": "c6yIHg7l8N7b",
    "outputId": "c543b7ae-4f78-43f6-f482-ddfec5698a8b"
   },
   "outputs": [
    {
     "name": "stdout",
     "output_type": "stream",
     "text": [
      "For KNeighborsRegressor: RMSE = 14.92, R^2 = 0.89\n"
     ]
    }
   ],
   "source": [
    "# Focal cell\n",
    "\n",
    "# Create and fit the KNeighborsRegressor model\n",
    "reg = KNeighborsRegressor()\n",
    "reg.fit(X_train_scl, y_train)\n",
    "\n",
    "# Make predictions using the fitted model\n",
    "reg_pred = reg.predict(X_test_scl)\n",
    "\n",
    "# Calculate the root mean squared error\n",
    "reg_rmse = mean_squared_error(y_test, reg_pred, squared=False)\n",
    "\n",
    "# Calculate the R^2 score\n",
    "reg_r2 = r2_score(y_test, reg_pred)\n",
    "\n",
    "# Print the results\n",
    "print(\"For \"+str(reg.__class__.__name__)+\": RMSE = {:.2f}, R^2 = {:.2f}\".format(reg_rmse, reg_r2))\n"
   ]
  },
  {
   "cell_type": "code",
   "execution_count": 47,
   "metadata": {
    "colab": {
     "base_uri": "https://localhost:8080/"
    },
    "id": "5Ir067TE8aMc",
    "outputId": "5b7c2b65-29d5-44e3-a3e1-93c82f61c643"
   },
   "outputs": [
    {
     "name": "stdout",
     "output_type": "stream",
     "text": [
      "For SGDRegressor: RMSE = 0.03, R^2 = 1.00\n"
     ]
    }
   ],
   "source": [
    "# Focal cell\n",
    "\n",
    "# Importing the necessary libraries\n",
    "from sklearn.linear_model import SGDRegressor\n",
    "from sklearn.metrics import mean_squared_error, r2_score\n",
    "\n",
    "# Creating an instance of SGDRegressor\n",
    "reg = SGDRegressor(random_state=42)\n",
    "\n",
    "# Fitting the model on the scaled training data\n",
    "reg.fit(X_train_scl, y_train)\n",
    "\n",
    "# Making predictions on the scaled test data\n",
    "reg_pred = reg.predict(X_test_scl)\n",
    "\n",
    "# Calculating the root mean squared error\n",
    "reg_rmse = mean_squared_error(y_test, reg_pred, squared=False)\n",
    "\n",
    "# Calculating the R^2 score\n",
    "reg_r2 = r2_score(y_test, reg_pred)\n",
    "\n",
    "# Printing the results\n",
    "print(\"For \"+str(reg.__class__.__name__)+\": RMSE = {:.2f}, R^2 = {:.2f}\".format(reg_rmse, reg_r2))\n"
   ]
  },
  {
   "cell_type": "code",
   "execution_count": 48,
   "metadata": {
    "colab": {
     "base_uri": "https://localhost:8080/"
    },
    "id": "iGhe_bxE95LA",
    "outputId": "655395f3-934c-41dd-b5d1-f1aa3041b95b"
   },
   "outputs": [
    {
     "name": "stdout",
     "output_type": "stream",
     "text": [
      "For Lasso: RMSE = 6.92, R^2 = 0.98\n"
     ]
    }
   ],
   "source": [
    "# Importing necessary libraries\n",
    "from sklearn.linear_model import Lasso\n",
    "from sklearn.metrics import mean_squared_error, r2_score\n",
    "\n",
    "# Creating and fitting the Lasso model\n",
    "reg = Lasso(alpha=2)\n",
    "reg.fit(X_train_scl, y_train)\n",
    "\n",
    "# Predicting with the Lasso model\n",
    "reg_pred = reg.predict(X_test_scl)\n",
    "\n",
    "# Calculating performance metrics\n",
    "reg_rmse = mean_squared_error(y_test, reg_pred, squared=False)\n",
    "reg_r2 = r2_score(y_test, reg_pred)\n",
    "\n",
    "# Printing the performance metrics\n",
    "print(\"For \"+str(reg.__class__.__name__)+\": RMSE = {:.2f}, R^2 = {:.2f}\".format(reg_rmse, reg_r2))\n"
   ]
  },
  {
   "cell_type": "code",
   "execution_count": 49,
   "metadata": {
    "colab": {
     "base_uri": "https://localhost:8080/"
    },
    "id": "oqQUANCe_xcC",
    "outputId": "7800e85a-d98f-4c95-aed9-1ae484c2ff09"
   },
   "outputs": [
    {
     "name": "stdout",
     "output_type": "stream",
     "text": [
      "For Ridge: RMSE = 0.01, R^2 = 1.00\n"
     ]
    }
   ],
   "source": [
    "# Import necessary libraries\n",
    "\n",
    "# Create a Ridge regression model with alpha=1\n",
    "reg = Ridge(alpha=1)\n",
    "\n",
    "# Fit the model on the scaled training data\n",
    "reg.fit(X_train_scl, y_train)\n",
    "\n",
    "# Make predictions on the scaled test data\n",
    "reg_pred = reg.predict(X_test_scl)\n",
    "\n",
    "# Calculate the root mean squared error\n",
    "reg_rmse = mean_squared_error(y_test, reg_pred, squared=False)\n",
    "\n",
    "# Calculate the R-squared score\n",
    "reg_r2 = r2_score(y_test, reg_pred)\n",
    "\n",
    "# Print the performance metrics\n",
    "print(\"For \"+str(reg.__class__.__name__)+\": RMSE = {:.2f}, R^2 = {:.2f}\".format(reg_rmse, reg_r2))\n"
   ]
  },
  {
   "cell_type": "code",
   "execution_count": 50,
   "metadata": {
    "colab": {
     "base_uri": "https://localhost:8080/"
    },
    "id": "14O7dD2tovF_",
    "outputId": "3bcf70e4-d03b-45ec-c52a-62e3a846ea8a"
   },
   "outputs": [
    {
     "name": "stdout",
     "output_type": "stream",
     "text": [
      "For RandomForestRegressor: RMSE = 12.54, R^2 = 0.92\n"
     ]
    }
   ],
   "source": [
    "\n",
    "# Import the necessary libraries\n",
    "from sklearn.ensemble import RandomForestRegressor\n",
    "from sklearn.metrics import mean_squared_error, r2_score\n",
    "\n",
    "# Create an instance of the RandomForestRegressor\n",
    "reg = RandomForestRegressor(random_state=42)\n",
    "\n",
    "# Fit the model on the training data\n",
    "reg.fit(X_train_scl, y_train)\n",
    "\n",
    "# Make predictions on the test data\n",
    "reg_pred = reg.predict(X_test_scl)\n",
    "\n",
    "# Calculate the root mean squared error\n",
    "reg_rmse = mean_squared_error(y_test, reg_pred, squared=False)\n",
    "\n",
    "# Calculate the R^2 score\n",
    "reg_r2 = r2_score(y_test, reg_pred)\n",
    "\n",
    "# Print the performance metrics\n",
    "print(\"For \"+str(reg.__class__.__name__)+\": RMSE = {:.2f}, R^2 = {:.2f}\".format(reg_rmse, reg_r2))\n"
   ]
  },
  {
   "cell_type": "code",
   "execution_count": null,
   "metadata": {
    "id": "YGd2AzXx-RU-"
   },
   "outputs": [],
   "source": []
  },
  {
   "cell_type": "code",
   "execution_count": 51,
   "metadata": {
    "colab": {
     "base_uri": "https://localhost:8080/"
    },
    "id": "G7xKaKRz6FzY",
    "outputId": "72ebdf05-3375-45a4-85f2-0d7d8548f4aa"
   },
   "outputs": [
    {
     "data": {
      "text/plain": [
       "array([696.182, 684.265, 613.294, ..., 745.046, 691.827, 702.682])"
      ]
     },
     "execution_count": 51,
     "metadata": {},
     "output_type": "execute_result"
    }
   ],
   "source": [
    "reg_pred"
   ]
  },
  {
   "cell_type": "code",
   "execution_count": 52,
   "metadata": {
    "colab": {
     "base_uri": "https://localhost:8080/"
    },
    "id": "nGhVkvJX6KCp",
    "outputId": "afa94767-b86f-4896-8460-a062d16bced3"
   },
   "outputs": [
    {
     "data": {
      "text/plain": [
       "2197     694.7\n",
       "7072     686.0\n",
       "6914     614.8\n",
       "4012     722.5\n",
       "8718     737.8\n",
       "         ...  \n",
       "13014    700.0\n",
       "1606     708.1\n",
       "6499     762.7\n",
       "9196     693.2\n",
       "812      718.5\n",
       "Name: WORK_LIFE_BALANCE_SCORE, Length: 4647, dtype: float64"
      ]
     },
     "execution_count": 52,
     "metadata": {},
     "output_type": "execute_result"
    }
   ],
   "source": [
    "y_test"
   ]
  },
  {
   "cell_type": "code",
   "execution_count": 53,
   "metadata": {
    "colab": {
     "base_uri": "https://localhost:8080/"
    },
    "id": "5Vavckzghixz",
    "outputId": "72357f15-4711-4825-fcbd-c7dc68d6ecf7"
   },
   "outputs": [
    {
     "name": "stdout",
     "output_type": "stream",
     "text": [
      "                               OLS Regression Results                              \n",
      "===================================================================================\n",
      "Dep. Variable:     WORK_LIFE_BALANCE_SCORE   R-squared:                       1.000\n",
      "Model:                                 OLS   Adj. R-squared:                  1.000\n",
      "Method:                      Least Squares   F-statistic:                 1.386e+08\n",
      "Date:                     Sun, 11 Jun 2023   Prob (F-statistic):               0.00\n",
      "Time:                             12:22:06   Log-Likelihood:                 14222.\n",
      "No. Observations:                    10843   AIC:                        -2.837e+04\n",
      "Df Residuals:                        10805   BIC:                        -2.809e+04\n",
      "Df Model:                               37                                         \n",
      "Covariance Type:                 nonrobust                                         \n",
      "==============================================================================\n",
      "                 coef    std err          t      P>|t|      [0.025      0.975]\n",
      "------------------------------------------------------------------------------\n",
      "const        666.7224      0.001   1.06e+06      0.000     666.721     666.724\n",
      "x1             4.9089      0.001   7049.381      0.000       4.908       4.910\n",
      "x2             5.6204      0.001   7911.592      0.000       5.619       5.622\n",
      "x3             4.8279      0.001   6718.401      0.000       4.826       4.829\n",
      "x4             5.5011      0.001   7045.761      0.000       5.500       5.503\n",
      "x5             5.2439      0.001   7313.379      0.000       5.242       5.245\n",
      "x6             4.6895      0.001   6069.955      0.000       4.688       4.691\n",
      "x7             6.2817      0.001   8774.443      0.000       6.280       6.283\n",
      "x8             4.0093      0.001   5242.765      0.000       4.008       4.011\n",
      "x9             5.4863      0.001   8073.965      0.000       5.485       5.488\n",
      "x10            5.4842      0.001   7805.773      0.000       5.483       5.486\n",
      "x11            2.2782      0.001   3472.205      0.000       2.277       2.279\n",
      "x12           -6.2880      0.001  -9680.847      0.000      -6.289      -6.287\n",
      "x13           -4.5525      0.001  -6821.344      0.000      -4.554      -4.551\n",
      "x14            5.2536      0.001   7212.313      0.000       5.252       5.255\n",
      "x15            4.6469      0.001   6051.006      0.000       4.645       4.648\n",
      "x16            5.1340      0.001   7433.753      0.000       5.133       5.135\n",
      "x17           -1.2157      0.001   -983.197      0.000      -1.218      -1.213\n",
      "x18           -2.7786      0.001  -2012.777      0.000      -2.781      -2.776\n",
      "x19           -4.5451      0.001  -3045.648      0.000      -4.548      -4.542\n",
      "x20           -5.3502      0.001  -3911.356      0.000      -5.353      -5.348\n",
      "x21           -5.7198      0.001  -4616.902      0.000      -5.722      -5.717\n",
      "x22           -8.3471      0.001  -1.27e+04      0.000      -8.348      -8.346\n",
      "x23            0.3185      0.001    357.968      0.000       0.317       0.320\n",
      "x24            0.8377      0.001    802.729      0.000       0.836       0.840\n",
      "x25            1.4418      0.001   1254.607      0.000       1.440       1.444\n",
      "x26            1.8863      0.001   1657.718      0.000       1.884       1.889\n",
      "x27            2.8449      0.001   2162.977      0.000       2.842       2.847\n",
      "x28            3.1120      0.001   2517.109      0.000       3.110       3.114\n",
      "x29            4.3696      0.001   3044.975      0.000       4.367       4.372\n",
      "x30            5.0340      0.001   3452.293      0.000       5.031       5.037\n",
      "x31            3.8581      0.001   3494.713      0.000       3.856       3.860\n",
      "x32            4.2813      0.001   3859.962      0.000       4.279       4.284\n",
      "x33            7.5351      0.001   1.13e+04      0.000       7.534       7.536\n",
      "x34           -0.0012      0.001     -1.607      0.108      -0.003       0.000\n",
      "x35           -0.0011      0.001     -1.433      0.152      -0.003       0.000\n",
      "x36           -0.0004      0.001     -0.562      0.574      -0.002       0.001\n",
      "x37            0.0009      0.001      1.326      0.185      -0.000       0.002\n",
      "==============================================================================\n",
      "Omnibus:                    43608.947   Durbin-Watson:                   2.003\n",
      "Prob(Omnibus):                  0.000   Jarque-Bera (JB):      52310310522.812\n",
      "Skew:                         103.541   Prob(JB):                         0.00\n",
      "Kurtosis:                   10761.311   Cond. No.                         10.8\n",
      "==============================================================================\n",
      "\n",
      "Notes:\n",
      "[1] Standard Errors assume that the covariance matrix of the errors is correctly specified.\n"
     ]
    }
   ],
   "source": [
    "import statsmodels.api as sm\n",
    "x = sm.add_constant(X_train_scl)\n",
    "result = sm.OLS(y_train, x).fit()\n",
    "print(result.summary())"
   ]
  }
 ],
 "metadata": {
  "colab": {
   "provenance": []
  },
  "kernelspec": {
   "display_name": "Python 3 (ipykernel)",
   "language": "python",
   "name": "python3"
  },
  "language_info": {
   "codemirror_mode": {
    "name": "ipython",
    "version": 3
   },
   "file_extension": ".py",
   "mimetype": "text/x-python",
   "name": "python",
   "nbconvert_exporter": "python",
   "pygments_lexer": "ipython3",
   "version": "3.9.12"
  }
 },
 "nbformat": 4,
 "nbformat_minor": 4
}
